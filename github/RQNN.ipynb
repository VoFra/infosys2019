{
 "cells": [
  {
   "cell_type": "code",
   "execution_count": 1,
   "id": "2761aca0",
   "metadata": {},
   "outputs": [],
   "source": [
    "import tensorflow as tf\n",
    "import pandas as pd\n",
    "import numpy as np\n",
    "\n",
    "from sklearn.model_selection import train_test_split\n",
    "from sklearn.preprocessing import StandardScaler\n",
    "import matplotlib.pyplot as plt\n",
    "\n",
    "import keras"
   ]
  },
  {
   "cell_type": "code",
   "execution_count": 2,
   "id": "a7505e3d",
   "metadata": {},
   "outputs": [],
   "source": [
    "# import libraries to help evaluate our models\n",
    "from sklearn import metrics\n",
    "from sklearn.metrics import confusion_matrix, classification_report, accuracy_score, precision_score, recall_score, f1_score\n",
    "from sklearn.metrics import roc_auc_score, roc_curve"
   ]
  },
  {
   "cell_type": "code",
   "execution_count": 3,
   "id": "b0275671",
   "metadata": {},
   "outputs": [
    {
     "data": {
      "text/html": [
       "<div>\n",
       "<style scoped>\n",
       "    .dataframe tbody tr th:only-of-type {\n",
       "        vertical-align: middle;\n",
       "    }\n",
       "\n",
       "    .dataframe tbody tr th {\n",
       "        vertical-align: top;\n",
       "    }\n",
       "\n",
       "    .dataframe thead th {\n",
       "        text-align: right;\n",
       "    }\n",
       "</style>\n",
       "<table border=\"1\" class=\"dataframe\">\n",
       "  <thead>\n",
       "    <tr style=\"text-align: right;\">\n",
       "      <th></th>\n",
       "      <th>Jitter (local)</th>\n",
       "      <th>Jitter (local absolute)</th>\n",
       "      <th>Jitter (rap)</th>\n",
       "      <th>Shimmer (local)</th>\n",
       "      <th>Shimmer (apq5)</th>\n",
       "      <th>HTN</th>\n",
       "      <th>Mean pitch</th>\n",
       "      <th>Minimum pitch</th>\n",
       "      <th>Maximum pitch</th>\n",
       "      <th>class information</th>\n",
       "    </tr>\n",
       "  </thead>\n",
       "  <tbody>\n",
       "    <tr>\n",
       "      <th>0</th>\n",
       "      <td>1.488</td>\n",
       "      <td>0.000090</td>\n",
       "      <td>0.900</td>\n",
       "      <td>8.334</td>\n",
       "      <td>4.609</td>\n",
       "      <td>11.130</td>\n",
       "      <td>164.781</td>\n",
       "      <td>142.229</td>\n",
       "      <td>187.576</td>\n",
       "      <td>1</td>\n",
       "    </tr>\n",
       "    <tr>\n",
       "      <th>1</th>\n",
       "      <td>0.728</td>\n",
       "      <td>0.000038</td>\n",
       "      <td>0.353</td>\n",
       "      <td>5.864</td>\n",
       "      <td>3.180</td>\n",
       "      <td>17.403</td>\n",
       "      <td>193.289</td>\n",
       "      <td>159.515</td>\n",
       "      <td>234.505</td>\n",
       "      <td>1</td>\n",
       "    </tr>\n",
       "    <tr>\n",
       "      <th>2</th>\n",
       "      <td>1.220</td>\n",
       "      <td>0.000074</td>\n",
       "      <td>0.732</td>\n",
       "      <td>8.719</td>\n",
       "      <td>5.166</td>\n",
       "      <td>12.212</td>\n",
       "      <td>164.768</td>\n",
       "      <td>146.445</td>\n",
       "      <td>211.442</td>\n",
       "      <td>1</td>\n",
       "    </tr>\n",
       "    <tr>\n",
       "      <th>3</th>\n",
       "      <td>2.502</td>\n",
       "      <td>0.000123</td>\n",
       "      <td>1.156</td>\n",
       "      <td>13.513</td>\n",
       "      <td>8.771</td>\n",
       "      <td>11.384</td>\n",
       "      <td>203.471</td>\n",
       "      <td>182.713</td>\n",
       "      <td>220.230</td>\n",
       "      <td>1</td>\n",
       "    </tr>\n",
       "    <tr>\n",
       "      <th>4</th>\n",
       "      <td>3.509</td>\n",
       "      <td>0.000167</td>\n",
       "      <td>1.715</td>\n",
       "      <td>9.112</td>\n",
       "      <td>4.927</td>\n",
       "      <td>10.653</td>\n",
       "      <td>208.440</td>\n",
       "      <td>182.821</td>\n",
       "      <td>225.162</td>\n",
       "      <td>1</td>\n",
       "    </tr>\n",
       "  </tbody>\n",
       "</table>\n",
       "</div>"
      ],
      "text/plain": [
       "   Jitter (local)  Jitter (local absolute)  Jitter (rap)  Shimmer (local)  \\\n",
       "0           1.488                 0.000090         0.900            8.334   \n",
       "1           0.728                 0.000038         0.353            5.864   \n",
       "2           1.220                 0.000074         0.732            8.719   \n",
       "3           2.502                 0.000123         1.156           13.513   \n",
       "4           3.509                 0.000167         1.715            9.112   \n",
       "\n",
       "   Shimmer (apq5)     HTN  Mean pitch  Minimum pitch  Maximum pitch  \\\n",
       "0           4.609  11.130     164.781        142.229        187.576   \n",
       "1           3.180  17.403     193.289        159.515        234.505   \n",
       "2           5.166  12.212     164.768        146.445        211.442   \n",
       "3           8.771  11.384     203.471        182.713        220.230   \n",
       "4           4.927  10.653     208.440        182.821        225.162   \n",
       "\n",
       "   class information  \n",
       "0                  1  \n",
       "1                  1  \n",
       "2                  1  \n",
       "3                  1  \n",
       "4                  1  "
      ]
     },
     "execution_count": 3,
     "metadata": {},
     "output_type": "execute_result"
    }
   ],
   "source": [
    "data = pd.read_csv('merge.csv')\n",
    "\n",
    "data.drop(['id patient', 'Jitter (ppq5)',\n",
    "         'Jitter (ddp)','Shimmer (local dB)','Shimmer (apq3)','Shimmer (apq11)',\n",
    "         'Shimmer (dda)','AC','NTH','Median pitch','Standard deviation',\n",
    "         'Number of pulses','Number of periods','Mean period',\n",
    "         'Standard deviation of period','Fraction of locally unvoiced frames','Number of voice breaks',\n",
    "         'Degree of voice breaks','UPDRS',], inplace=True, axis=1)        \n",
    "        \n",
    "        \n",
    "data.head()"
   ]
  },
  {
   "cell_type": "code",
   "execution_count": 4,
   "id": "126a147e",
   "metadata": {},
   "outputs": [],
   "source": [
    "# Separating target variable and other variables\n",
    "X = data.drop(columns=\"class information\")\n",
    "y = data[\"class information\"]"
   ]
  },
  {
   "cell_type": "code",
   "execution_count": 5,
   "id": "270a4858",
   "metadata": {},
   "outputs": [],
   "source": [
    "# Let's split the data into a train and test sets. \n",
    "# I will use the stratify parameter to maintain the ratio of classes in the dependent variable\n",
    "X_train, X_test, y_train, y_test = train_test_split(X, y, test_size=0.2, random_state=2, stratify=y)"
   ]
  },
  {
   "cell_type": "code",
   "execution_count": 6,
   "id": "edea7c5e",
   "metadata": {},
   "outputs": [],
   "source": [
    "# Save the columns names as StandardScaler will strip them\n",
    "X_cols = X_train.columns\n",
    "\n",
    "# Initialize our Standard Scalar\n",
    "ss = StandardScaler()\n",
    "\n",
    "X_train = ss.fit_transform(X_train) # Fit scalar to training data and transform\n",
    "X_test = ss.transform(X_test) # ONLY apply the transform to the test data"
   ]
  },
  {
   "cell_type": "code",
   "execution_count": 7,
   "id": "3f0efff8",
   "metadata": {},
   "outputs": [],
   "source": [
    "tf.keras.backend.set_floatx('float64')\n",
    "\n",
    "layer_1 = tf.keras.layers.Dense(2)\n",
    "layer_2 = tf.keras.layers.Dense(2, activation=\"softmax\")\n",
    "\n",
    "model = tf.keras.Sequential([layer_1, layer_2])\n",
    "model.compile(loss=\"mae\")"
   ]
  },
  {
   "cell_type": "code",
   "execution_count": 66,
   "id": "7fa2bbd5",
   "metadata": {},
   "outputs": [],
   "source": [
    "import pennylane as qml\n",
    "\n",
    "n_qubits = 9\n",
    "dev = qml.device(\"default.qubit\", wires=n_qubits)\n",
    "\n",
    "@qml.qnode(dev)\n",
    "def qnode(inputs, weights):\n",
    "    qml.AngleEmbedding(inputs, wires=range(n_qubits))\n",
    "    qml.BasicEntanglerLayers(weights, wires=range(n_qubits))\n",
    "    return [qml.expval(qml.PauliZ(wires=i)) for i in range(n_qubits)]"
   ]
  },
  {
   "cell_type": "code",
   "execution_count": 67,
   "id": "aeae6960",
   "metadata": {},
   "outputs": [],
   "source": [
    "n_layers = 6\n",
    "weight_shapes = {\"weights\": (n_layers, n_qubits)}"
   ]
  },
  {
   "cell_type": "code",
   "execution_count": 68,
   "id": "f07a4f8a",
   "metadata": {},
   "outputs": [],
   "source": [
    "qlayer = qml.qnn.KerasLayer(qnode, weight_shapes, output_dim=n_qubits)"
   ]
  },
  {
   "cell_type": "code",
   "execution_count": 72,
   "id": "2d76f9b2",
   "metadata": {},
   "outputs": [],
   "source": [
    "clayer_1 = tf.keras.layers.Dense(2)\n",
    "clayer_2 = tf.keras.layers.Dense(10, activation=\"elu\")\n",
    "model = tf.keras.models.Sequential([ qlayer, qlayer, qlayer])"
   ]
  },
  {
   "cell_type": "code",
   "execution_count": 73,
   "id": "6bf28be2",
   "metadata": {},
   "outputs": [],
   "source": [
    "opt = tf.keras.optimizers.SGD(learning_rate=0.2)\n",
    "model.compile(opt, loss=\"mae\", metrics=[\"accuracy\"])"
   ]
  },
  {
   "cell_type": "code",
   "execution_count": 74,
   "id": "62609737",
   "metadata": {},
   "outputs": [
    {
     "name": "stdout",
     "output_type": "stream",
     "text": [
      "23/23 [==============================] - 376s 16s/step - loss: 0.5698 - accuracy: 0.1561 - val_loss: 0.5833 - val_accuracy: 0.1405\n"
     ]
    }
   ],
   "source": [
    "history = model.fit(X_train, y_train, epochs=1, validation_split=0.25)"
   ]
  },
  {
   "cell_type": "code",
   "execution_count": 14,
   "id": "590a1b1d",
   "metadata": {},
   "outputs": [
    {
     "data": {
      "image/png": "[encoded data removed]",
      "text/plain": [
       "<Figure size 432x288 with 1 Axes>"
      ]
     },
     "metadata": {
      "needs_background": "light"
     },
     "output_type": "display_data"
    }
   ],
   "source": [
    "# ===================================================================================\n",
    "#                                  Loss History Plot\n",
    "# ===================================================================================\n",
    "\n",
    "plt.title('model loss')\n",
    "plt.plot(history.history['loss'], '-g', label = 'training loss')\n",
    "plt.plot(history.history['val_loss'], '-r', label = 'validation loss')\n",
    "plt.xlabel('epoch')\n",
    "plt.ylabel('loss')\n",
    "plt.legend(loc='upper right')\n",
    "plt.show()"
   ]
  },
  {
   "cell_type": "code",
   "execution_count": 15,
   "id": "1f3af99d",
   "metadata": {},
   "outputs": [
    {
     "data": {
      "image/png": "[encoded data removed]",
      "text/plain": [
       "<Figure size 432x288 with 1 Axes>"
      ]
     },
     "metadata": {
      "needs_background": "light"
     },
     "output_type": "display_data"
    }
   ],
   "source": [
    "# ===================================================================================\n",
    "#                                Accuracy History Plot\n",
    "# ===================================================================================\n",
    "\n",
    "plt.title('model accuracy')\n",
    "plt.plot(history.history['accuracy'], '-g', label = 'training accuracy')\n",
    "plt.plot(history.history['val_accuracy'], '-r', label = 'validation loss')\n",
    "plt.xlabel('epoch')\n",
    "plt.ylabel('accuracy')\n",
    "plt.legend(loc='lower right')\n",
    "plt.show()"
   ]
  },
  {
   "cell_type": "code",
   "execution_count": 16,
   "id": "f93046f7",
   "metadata": {},
   "outputs": [
    {
     "data": {
      "text/plain": [
       "array([[ 0.41759295,  1.04463554,  0.28671008, ..., -1.0061123 ,\n",
       "        -0.82419727, -0.74946523],\n",
       "       [ 0.40042726,  0.06118082,  0.77089035, ...,  0.61963034,\n",
       "         0.66354522,  2.35481877],\n",
       "       [ 0.53775275,  0.85597784,  0.4101923 , ..., -0.62965613,\n",
       "        -1.03749994,  2.28965255],\n",
       "       ...,\n",
       "       [-0.8515235 , -0.98612423, -0.88095507, ...,  0.80704137,\n",
       "         1.04656523, -0.02563047],\n",
       "       [-0.22211498, -0.38014615, -0.6264084 , ...,  0.2742035 ,\n",
       "         0.09768802,  0.02851204],\n",
       "       [-0.01669893, -0.2260651 , -0.18338887, ...,  0.38287263,\n",
       "         0.54949322,  0.01374987]])"
      ]
     },
     "execution_count": 16,
     "metadata": {},
     "output_type": "execute_result"
    }
   ],
   "source": [
    "X_test"
   ]
  },
  {
   "cell_type": "code",
   "execution_count": 17,
   "id": "ac24bc8c",
   "metadata": {},
   "outputs": [],
   "source": [
    "##  Function to calculate different metric scores of the model - Accuracy, Recall and Precision\n",
    "def get_metrics_score(model,train,test,train_y,test_y,flag=True,threshold=0.5):\n",
    "    '''\n",
    "    model : classifier to predict values of X\n",
    "\n",
    "    '''\n",
    "    # defining an empty list to store train and test results\n",
    "    \n",
    "    score_list=[] \n",
    "    \n",
    "    # Getting predictions from the model. These will come in the form of probabilities\n",
    "    \n",
    "    pred_train = model.predict(train)\n",
    "    pred_test = model.predict(test)\n",
    "    \n",
    "    # We will need to convert the probabilities into classes using a threshold, default is 0.5\n",
    "    \n",
    "    for i in range(len(train_y)):\n",
    "        if pred_train[i]>threshold:\n",
    "            pred_train[i]=1 \n",
    "        else:\n",
    "            pred_train[i]=0\n",
    "    \n",
    "    for i in range(len(test_y)):\n",
    "        if pred_test[i]>threshold:\n",
    "            pred_test[i]=1 \n",
    "        else:\n",
    "            pred_test[i]=0\n",
    "        \n",
    "    # Now we can calculate metircs\n",
    "    \n",
    "    train_acc = accuracy_score(pred_train,train_y)\n",
    "    test_acc = accuracy_score(pred_test,test_y)\n",
    "    train_recall = recall_score(train_y,pred_train)\n",
    "    test_recall = recall_score(test_y,pred_test)\n",
    "    \n",
    "    train_precision = precision_score(train_y,pred_train)\n",
    "    test_precision = precision_score(test_y,pred_test)\n",
    "    \n",
    "    train_f1 = f1_score(train_y,pred_train)\n",
    "    test_f1 = f1_score(test_y,pred_test)\n",
    "    \n",
    "    \n",
    "    score_list.extend((train_acc,test_acc,train_recall,test_recall,train_precision,test_precision,train_f1,test_f1))\n",
    "        \n",
    "     # If the flag is set to True then only the following print statements will be dispayed. The default value is set to True.\n",
    "    if flag == True: \n",
    "        print(\"Accuracy on training set : \",accuracy_score(pred_train,train_y))\n",
    "        print(\"Accuracy on test set : \",accuracy_score(pred_test,test_y))\n",
    "        print(\"Recall on training set : \",recall_score(train_y,pred_train))\n",
    "        print(\"Recall on test set : \",recall_score(test_y,pred_test))\n",
    "        print(\"Precision on training set : \",precision_score(train_y,pred_train))\n",
    "        print(\"Precision on test set : \",precision_score(test_y,pred_test))\n",
    "        print(\"F1 on training set : \",f1_score(train_y,pred_train))\n",
    "        print(\"F1 on test set : \",f1_score(test_y,pred_test))\n",
    "    \n",
    "    #return score_list # returning the list with train and test scores"
   ]
  },
  {
   "cell_type": "code",
   "execution_count": 18,
   "id": "0ca95008",
   "metadata": {},
   "outputs": [],
   "source": [
    "## This function is exactly the same as the last, only it will NOT use the test data\n",
    "## There will be many times that we want to look at training metrics without looking at test metrics \n",
    "## This is to avoid tuning the model on the test data\n",
    "\n",
    "##  Function to calculate different metric scores of the model - Accuracy, Recall and Precision\n",
    "def get_training_metrics(model,train,train_y,flag=True,threshold=0.5):\n",
    "    '''\n",
    "    model : classifier to predict values of X\n",
    "\n",
    "    '''\n",
    "    # defining an empty list to store train and test results\n",
    "    \n",
    "    score_list=[] \n",
    "    \n",
    "    # Getting predictions from the model. These will come in the form of probabilities\n",
    "    \n",
    "    pred_train = model.predict(train)\n",
    "    \n",
    "    # We will need to convert the probabilities into classes using a threshold, default is 0.5\n",
    "    \n",
    "    for i in range(len(train_y)):\n",
    "        if pred_train[i]>threshold:\n",
    "            pred_train[i]=1 \n",
    "        else:\n",
    "            pred_train[i]=0\n",
    "          \n",
    "    # Now we can calculate metircs\n",
    "    \n",
    "    train_acc = accuracy_score(pred_train,train_y)\n",
    "    train_recall = recall_score(train_y,pred_train)\n",
    "    train_precision = precision_score(train_y,pred_train)\n",
    "    train_f1 = f1_score(train_y,pred_train)\n",
    "   \n",
    "    score_list.extend((train_acc,train_recall,train_precision,train_f1))\n",
    "        \n",
    "     # If the flag is set to True then only the following print statements will be dispayed. The default value is set to True.\n",
    "    if flag == True: \n",
    "        print(\"Accuracy on training set : \",accuracy_score(pred_train,train_y))\n",
    "        print(\"Recall on training set : \",recall_score(train_y,pred_train))\n",
    "        print(\"Precision on training set : \",precision_score(train_y,pred_train))\n",
    "        print(\"F1 on training set : \",f1_score(train_y,pred_train))"
   ]
  },
  {
   "cell_type": "code",
   "execution_count": 19,
   "id": "ba47b2b1",
   "metadata": {},
   "outputs": [],
   "source": [
    "# This function returns the optimum output from the ROC curve given a model.\n",
    "def get_optimal(model):\n",
    "    y_probs = model.predict(X_test)\n",
    "    fpr, tpr, thresholds = metrics.roc_curve(y_test, y_probs)\n",
    "    roc_auc = metrics.auc(fpr, tpr)\n",
    "    optimal_idx = np.argmax(tpr - fpr)\n",
    "    optimal_threshold = thresholds[optimal_idx]\n",
    "    return optimal_threshold"
   ]
  },
  {
   "cell_type": "code",
   "execution_count": 20,
   "id": "6a44ab56",
   "metadata": {},
   "outputs": [],
   "source": [
    "def make_confusion_matrix(model,test_X,y_actual,labels=[1, 0],threshold=0.5):\n",
    "    '''\n",
    "    model : classifier to predict values of X\n",
    "    y_actual : ground truth\n",
    "    threshold : value used to convert probabilites to classes. Range = 0-1\n",
    "    \n",
    "    '''\n",
    "    # Our model will output probabilities we will convert these to classes using a threshold (dafault is 0.5)\n",
    "    y_predict = model.predict(test_X)\n",
    "    \n",
    "    for i in range(len(y_actual)):\n",
    "        if y_predict[i]>threshold:\n",
    "            y_predict[i]=1 \n",
    "        else:\n",
    "            y_predict[i]=0\n",
    "    \n",
    "    # We can now plot the confusion matrix    \n",
    "    cm=metrics.confusion_matrix( y_actual, y_predict, labels=[0, 1])\n",
    "    df_cm = pd.DataFrame(cm, index = [i for i in [\"Actual - No\",\"Actual - Yes\"]],\n",
    "                  columns = [i for i in ['Predicted - No','Predicted - Yes']])\n",
    "    group_counts = [\"{0:0.0f}\".format(value) for value in\n",
    "                cm.flatten()]\n",
    "    group_percentages = [\"{0:.2%}\".format(value) for value in\n",
    "                         cm.flatten()/np.sum(cm)]\n",
    "    labels = [f\"{v1}\\n{v2}\" for v1, v2 in\n",
    "              zip(group_counts,group_percentages)]\n",
    "    labels = np.asarray(labels).reshape(2,2)\n",
    "    plt.figure(figsize = (10,7))\n",
    "    sns.heatmap(df_cm, annot=labels,fmt='')\n",
    "    plt.ylabel('True label')\n",
    "    plt.xlabel('Predicted label')"
   ]
  },
  {
   "cell_type": "code",
   "execution_count": 21,
   "id": "15c714e0",
   "metadata": {},
   "outputs": [],
   "source": [
    "def make_ROC(model):\n",
    "    # Calculate the False Postive Rate, True Positive Rate, ROC curve and area under ROC curve\n",
    "    y_probs = model.predict(X_test)\n",
    "    fpr, tpr, thresholds = metrics.roc_curve(y_test, y_probs)\n",
    "    roc_auc = metrics.auc(fpr, tpr)\n",
    "\n",
    "    # Now plot the information calculated above\n",
    "    plt.figure(figsize=(7,5))\n",
    "    plt.plot(fpr, tpr, label='Logistic Regression (area = %0.2f)' % roc_auc)\n",
    "    plt.plot([0, 1], [0, 1],'r--')\n",
    "    plt.xlim([0.0, 1.0])\n",
    "    plt.ylim([0.0, 1.05])\n",
    "    plt.xlabel('False Positive Rate')\n",
    "    plt.ylabel('True Positive Rate')\n",
    "    plt.title('Receiver operating characteristic')\n",
    "    plt.legend(loc=\"lower right\")\n",
    "    plt.show()\n",
    "\n",
    "    # Now print the optimal threshold\n",
    "    # The optimal cut off would be where tpr is high and fpr is low\n",
    "    optimal_idx = np.argmax(tpr - fpr)\n",
    "    optimal_threshold = thresholds[optimal_idx]\n",
    "    print('The optimal threshold is:', optimal_threshold)"
   ]
  },
  {
   "cell_type": "code",
   "execution_count": 22,
   "id": "7966981d",
   "metadata": {},
   "outputs": [],
   "source": [
    "#This function will plot the training and validation loss vs. training epoch\n",
    "def get_history_plot(n):\n",
    "    N = n\n",
    "    plt.figure(figsize=(8,6))\n",
    "    plt.plot(np.arange(0, N), history.history[\"loss\"], label=\"train_loss\")\n",
    "    plt.plot(np.arange(0, N), history.history[\"val_loss\"], label=\"val_loss\")\n",
    "    plt.title(\"Training Loss and Validation loss on the dataset\")\n",
    "    plt.xlabel(\"Epoch #\")\n",
    "    plt.ylabel(\"train_Loss/val_loss\")\n",
    "    plt.legend()\n",
    "    plt.show()"
   ]
  },
  {
   "cell_type": "code",
   "execution_count": 23,
   "id": "0d2b5bdf",
   "metadata": {
    "scrolled": true
   },
   "outputs": [
    {
     "data": {
      "image/png": "[encoded data removed]",
      "text/plain": [
       "<Figure size 576x432 with 1 Axes>"
      ]
     },
     "metadata": {
      "needs_background": "light"
     },
     "output_type": "display_data"
    }
   ],
   "source": [
    "get_history_plot(5)"
   ]
  },
  {
   "cell_type": "code",
   "execution_count": 39,
   "id": "af9311a4",
   "metadata": {},
   "outputs": [
    {
     "name": "stdout",
     "output_type": "stream",
     "text": [
      "(966,)\n"
     ]
    }
   ],
   "source": [
    "print(y_train.shape)"
   ]
  },
  {
   "cell_type": "code",
   "execution_count": 48,
   "id": "0a75dfac",
   "metadata": {},
   "outputs": [
    {
     "data": {
      "text/plain": [
       "array([[ 0.41759295,  1.04463554,  0.28671008, ..., -1.0061123 ,\n",
       "        -0.82419727, -0.74946523],\n",
       "       [ 0.40042726,  0.06118082,  0.77089035, ...,  0.61963034,\n",
       "         0.66354522,  2.35481877],\n",
       "       [ 0.53775275,  0.85597784,  0.4101923 , ..., -0.62965613,\n",
       "        -1.03749994,  2.28965255],\n",
       "       ...,\n",
       "       [-0.8515235 , -0.98612423, -0.88095507, ...,  0.80704137,\n",
       "         1.04656523, -0.02563047],\n",
       "       [-0.22211498, -0.38014615, -0.6264084 , ...,  0.2742035 ,\n",
       "         0.09768802,  0.02851204],\n",
       "       [-0.01669893, -0.2260651 , -0.18338887, ...,  0.38287263,\n",
       "         0.54949322,  0.01374987]])"
      ]
     },
     "execution_count": 48,
     "metadata": {},
     "output_type": "execute_result"
    }
   ],
   "source": [
    "X_test"
   ]
  },
  {
   "cell_type": "code",
   "execution_count": 53,
   "id": "0b3efd00",
   "metadata": {},
   "outputs": [
    {
     "data": {
      "text/plain": [
       "array([ 0.41759295,  1.04463554,  0.28671008,  0.76672317,  0.50085469,\n",
       "       -0.50917245, -1.0061123 , -0.82419727, -0.74946523])"
      ]
     },
     "execution_count": 53,
     "metadata": {},
     "output_type": "execute_result"
    }
   ],
   "source": [
    "X_test[0]"
   ]
  },
  {
   "cell_type": "code",
   "execution_count": 54,
   "id": "1b906ba3",
   "metadata": {},
   "outputs": [
    {
     "data": {
      "text/plain": [
       "array([[0.46599541, 0.33048421, 0.3332884 , ..., 0.36033064, 0.21193695,\n",
       "        0.57377362],\n",
       "       [0.37214938, 0.42896752, 0.48596698, ..., 0.29354899, 0.36551477,\n",
       "        0.43029525],\n",
       "       [0.42627608, 0.38241441, 0.41341437, ..., 0.32821446, 0.28331038,\n",
       "        0.51451347],\n",
       "       ...,\n",
       "       [0.39559632, 0.42478115, 0.47871699, ..., 0.30255994, 0.33984264,\n",
       "        0.46906262],\n",
       "       [0.47175514, 0.35784617, 0.37446446, ..., 0.35187429, 0.22328628,\n",
       "        0.58735676],\n",
       "       [0.46023683, 0.35651839, 0.37290523, ..., 0.34871958, 0.23379303,\n",
       "        0.56782833]])"
      ]
     },
     "execution_count": 54,
     "metadata": {},
     "output_type": "execute_result"
    }
   ],
   "source": [
    "model.predict(X_test)"
   ]
  },
  {
   "cell_type": "code",
   "execution_count": 59,
   "id": "98a54c5b",
   "metadata": {},
   "outputs": [],
   "source": [
    "y_predict = model.predict(X_test)\n",
    "\n",
    "def preb(model,test_X,y_actual,labels=[1, 0],threshold=0.5):\n",
    "    for i in range(len(y_actual)):\n",
    "            if (y_predict[i]>threshold).any():\n",
    "                y_predict[i]=1 \n",
    "            else:\n",
    "                y_predict[i]=0\n",
    "    return y_predict"
   ]
  },
  {
   "cell_type": "code",
   "execution_count": 60,
   "id": "3a684931",
   "metadata": {},
   "outputs": [],
   "source": [
    "x_preb= preb(model,X_test,y_test,threshold=0.5)"
   ]
  },
  {
   "cell_type": "code",
   "execution_count": 61,
   "id": "23ec5d15",
   "metadata": {},
   "outputs": [
    {
     "data": {
      "text/plain": [
       "array([[1., 1., 1., ..., 1., 1., 1.],\n",
       "       [0., 0., 0., ..., 0., 0., 0.],\n",
       "       [1., 1., 1., ..., 1., 1., 1.],\n",
       "       ...,\n",
       "       [0., 0., 0., ..., 0., 0., 0.],\n",
       "       [1., 1., 1., ..., 1., 1., 1.],\n",
       "       [1., 1., 1., ..., 1., 1., 1.]])"
      ]
     },
     "execution_count": 61,
     "metadata": {},
     "output_type": "execute_result"
    }
   ],
   "source": [
    "x_preb"
   ]
  },
  {
   "cell_type": "code",
   "execution_count": 47,
   "id": "db52e201",
   "metadata": {},
   "outputs": [
    {
     "data": {
      "text/plain": [
       "687     0\n",
       "444     1\n",
       "39      1\n",
       "1048    1\n",
       "26      1\n",
       "       ..\n",
       "447     1\n",
       "350     1\n",
       "705     0\n",
       "758     0\n",
       "518     1\n",
       "Name: class information, Length: 242, dtype: int64"
      ]
     },
     "execution_count": 47,
     "metadata": {},
     "output_type": "execute_result"
    }
   ],
   "source": [
    "y_test"
   ]
  },
  {
   "cell_type": "code",
   "execution_count": 41,
   "id": "adb98354",
   "metadata": {},
   "outputs": [
    {
     "name": "stdout",
     "output_type": "stream",
     "text": [
      "(966, 9)\n"
     ]
    }
   ],
   "source": [
    "print(X_train.shape)"
   ]
  },
  {
   "cell_type": "code",
   "execution_count": 51,
   "id": "428f9d6d",
   "metadata": {},
   "outputs": [
    {
     "name": "stdout",
     "output_type": "stream",
     "text": [
      "(242, 9)\n"
     ]
    }
   ],
   "source": [
    "print(X_test.shape)"
   ]
  },
  {
   "cell_type": "code",
   "execution_count": 42,
   "id": "bad0c1f7",
   "metadata": {},
   "outputs": [
    {
     "name": "stdout",
     "output_type": "stream",
     "text": [
      "              precision    recall  f1-score   support\n",
      "\n",
      "           0       1.00      1.00      1.00       416\n",
      "           1       1.00      1.00      1.00       550\n",
      "\n",
      "    accuracy                           1.00       966\n",
      "   macro avg       1.00      1.00      1.00       966\n",
      "weighted avg       1.00      1.00      1.00       966\n",
      "\n"
     ]
    }
   ],
   "source": [
    "print(classification_report(y_train, y_train, labels=[0, 1]))"
   ]
  },
  {
   "cell_type": "code",
   "execution_count": 46,
   "id": "8b22a0d9",
   "metadata": {},
   "outputs": [
    {
     "ename": "ValueError",
     "evalue": "The truth value of an array with more than one element is ambiguous. Use a.any() or a.all()",
     "output_type": "error",
     "traceback": [
      "\u001b[1;31m---------------------------------------------------------------------------\u001b[0m",
      "\u001b[1;31mValueError\u001b[0m                                Traceback (most recent call last)",
      "\u001b[1;32m~\\AppData\\Local\\Temp/ipykernel_9856/3209654502.py\u001b[0m in \u001b[0;36m<module>\u001b[1;34m\u001b[0m\n\u001b[1;32m----> 1\u001b[1;33m \u001b[0mmake_confusion_matrix\u001b[0m\u001b[1;33m(\u001b[0m\u001b[0mmodel\u001b[0m\u001b[1;33m,\u001b[0m\u001b[0mX_test\u001b[0m\u001b[1;33m,\u001b[0m\u001b[0my_test\u001b[0m\u001b[1;33m,\u001b[0m\u001b[0mthreshold\u001b[0m\u001b[1;33m=\u001b[0m\u001b[1;36m0.5\u001b[0m\u001b[1;33m)\u001b[0m\u001b[1;33m\u001b[0m\u001b[1;33m\u001b[0m\u001b[0m\n\u001b[0m",
      "\u001b[1;32m~\\AppData\\Local\\Temp/ipykernel_9856/4116812268.py\u001b[0m in \u001b[0;36mmake_confusion_matrix\u001b[1;34m(model, test_X, y_actual, labels, threshold)\u001b[0m\n\u001b[0;32m     10\u001b[0m \u001b[1;33m\u001b[0m\u001b[0m\n\u001b[0;32m     11\u001b[0m     \u001b[1;32mfor\u001b[0m \u001b[0mi\u001b[0m \u001b[1;32min\u001b[0m \u001b[0mrange\u001b[0m\u001b[1;33m(\u001b[0m\u001b[0mlen\u001b[0m\u001b[1;33m(\u001b[0m\u001b[0my_actual\u001b[0m\u001b[1;33m)\u001b[0m\u001b[1;33m)\u001b[0m\u001b[1;33m:\u001b[0m\u001b[1;33m\u001b[0m\u001b[1;33m\u001b[0m\u001b[0m\n\u001b[1;32m---> 12\u001b[1;33m         \u001b[1;32mif\u001b[0m \u001b[0my_predict\u001b[0m\u001b[1;33m[\u001b[0m\u001b[0mi\u001b[0m\u001b[1;33m]\u001b[0m\u001b[1;33m>\u001b[0m\u001b[0mthreshold\u001b[0m\u001b[1;33m:\u001b[0m\u001b[1;33m\u001b[0m\u001b[1;33m\u001b[0m\u001b[0m\n\u001b[0m\u001b[0;32m     13\u001b[0m             \u001b[0my_predict\u001b[0m\u001b[1;33m[\u001b[0m\u001b[0mi\u001b[0m\u001b[1;33m]\u001b[0m\u001b[1;33m=\u001b[0m\u001b[1;36m1\u001b[0m\u001b[1;33m\u001b[0m\u001b[1;33m\u001b[0m\u001b[0m\n\u001b[0;32m     14\u001b[0m         \u001b[1;32melse\u001b[0m\u001b[1;33m:\u001b[0m\u001b[1;33m\u001b[0m\u001b[1;33m\u001b[0m\u001b[0m\n",
      "\u001b[1;31mValueError\u001b[0m: The truth value of an array with more than one element is ambiguous. Use a.any() or a.all()"
     ]
    }
   ],
   "source": [
    "make_confusion_matrix(model,X_test,y_test,threshold=0.5)"
   ]
  },
  {
   "cell_type": "code",
   "execution_count": null,
   "id": "f38752fb",
   "metadata": {},
   "outputs": [],
   "source": [
    "get_metrics_score(model,X_train,X_test,y_train,y_test,threshold=0.5)"
   ]
  },
  {
   "cell_type": "code",
   "execution_count": null,
   "id": "b28d984f",
   "metadata": {},
   "outputs": [],
   "source": [
    "make_ROC(model)"
   ]
  },
  {
   "cell_type": "code",
   "execution_count": null,
   "id": "44905b37",
   "metadata": {},
   "outputs": [],
   "source": [
    "optimal = get_optimal(history)\n",
    "get_metrics_score(model16,X_train,X_test,y_train,y_test,threshold=optimal)"
   ]
  }
 ],
 "metadata": {
  "kernelspec": {
   "display_name": "Python 3 (ipykernel)",
   "language": "python",
   "name": "python3"
  },
  "language_info": {
   "codemirror_mode": {
    "name": "ipython",
    "version": 3
   },
   "file_extension": ".py",
   "mimetype": "text/x-python",
   "name": "python",
   "nbconvert_exporter": "python",
   "pygments_lexer": "ipython3",
   "version": "3.9.7"
  }
 },
 "nbformat": 4,
 "nbformat_minor": 5
}
