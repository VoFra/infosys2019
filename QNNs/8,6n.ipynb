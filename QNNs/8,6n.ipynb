{
 "cells": [
  {
   "cell_type": "code",
   "execution_count": 1,
   "id": "8wkP1GJLfpxi",
   "metadata": {
    "colab": {
     "base_uri": "https://localhost:8080/"
    },
    "id": "8wkP1GJLfpxi",
    "outputId": "138abf7d-677d-430f-90dc-f6eb522390a1"
   },
   "outputs": [
    {
     "name": "stdout",
     "output_type": "stream",
     "text": [
      "Requirement already satisfied: pennylane in /usr/local/lib/python3.7/dist-packages (0.22.2)\n",
      "Requirement already satisfied: networkx in /usr/local/lib/python3.7/dist-packages (from pennylane) (2.6.3)\n",
      "Requirement already satisfied: appdirs in /usr/local/lib/python3.7/dist-packages (from pennylane) (1.4.4)\n",
      "Requirement already satisfied: autoray in /usr/local/lib/python3.7/dist-packages (from pennylane) (0.2.5)\n",
      "Requirement already satisfied: semantic-version==2.6 in /usr/local/lib/python3.7/dist-packages (from pennylane) (2.6.0)\n",
      "Requirement already satisfied: scipy in /usr/local/lib/python3.7/dist-packages (from pennylane) (1.4.1)\n",
      "Requirement already satisfied: retworkx in /usr/local/lib/python3.7/dist-packages (from pennylane) (0.11.0)\n",
      "Requirement already satisfied: pennylane-lightning>=0.22 in /usr/local/lib/python3.7/dist-packages (from pennylane) (0.22.1)\n",
      "Requirement already satisfied: numpy in /usr/local/lib/python3.7/dist-packages (from pennylane) (1.21.5)\n",
      "Requirement already satisfied: cachetools in /usr/local/lib/python3.7/dist-packages (from pennylane) (4.2.4)\n",
      "Requirement already satisfied: toml in /usr/local/lib/python3.7/dist-packages (from pennylane) (0.10.2)\n",
      "Requirement already satisfied: autograd in /usr/local/lib/python3.7/dist-packages (from pennylane) (1.3)\n",
      "Requirement already satisfied: ninja in /usr/local/lib/python3.7/dist-packages (from pennylane-lightning>=0.22->pennylane) (1.10.2.3)\n",
      "Requirement already satisfied: future>=0.15.2 in /usr/local/lib/python3.7/dist-packages (from autograd->pennylane) (0.16.0)\n"
     ]
    }
   ],
   "source": [
    "pip install pennylane"
   ]
  },
  {
   "cell_type": "code",
   "execution_count": 2,
   "id": "8a3177dc",
   "metadata": {
    "id": "8a3177dc"
   },
   "outputs": [],
   "source": [
    "import pandas as pd\n",
    "import numpy as np\n",
    "from sklearn.model_selection import train_test_split\n",
    "from sklearn.preprocessing import StandardScaler\n",
    "\n",
    "import tensorflow as tf\n",
    "from tensorflow import keras\n",
    "from tensorflow.keras import layers\n",
    "\n",
    "import pennylane as qml\n",
    "\n",
    "import matplotlib.pyplot as plt\n",
    "import imblearn\n",
    "\n",
    "import time\n",
    "import torch"
   ]
  },
  {
   "cell_type": "code",
   "execution_count": 3,
   "id": "e8df8e93",
   "metadata": {
    "id": "e8df8e93"
   },
   "outputs": [],
   "source": [
    "import seaborn as sns\n",
    "sns.set(color_codes=True) #to make things look a little prettier"
   ]
  },
  {
   "cell_type": "code",
   "execution_count": 4,
   "id": "8261dbb5",
   "metadata": {
    "id": "8261dbb5"
   },
   "outputs": [],
   "source": [
    "# Libraries to split data, and process data \n",
    "from sklearn.model_selection import train_test_split\n",
    "from sklearn.preprocessing import StandardScaler\n",
    "from imblearn.over_sampling import SMOTE"
   ]
  },
  {
   "cell_type": "code",
   "execution_count": 5,
   "id": "9c379a6f",
   "metadata": {
    "id": "9c379a6f"
   },
   "outputs": [],
   "source": [
    "# import libraries to help evaluate our models\n",
    "from sklearn import metrics\n",
    "from sklearn.metrics import confusion_matrix, classification_report, accuracy_score, precision_score, recall_score, f1_score\n",
    "from sklearn.metrics import roc_auc_score, roc_curve"
   ]
  },
  {
   "cell_type": "code",
   "execution_count": 6,
   "id": "1a466dd0",
   "metadata": {
    "id": "1a466dd0"
   },
   "outputs": [],
   "source": [
    "data = pd.read_csv('merge.csv')"
   ]
  },
  {
   "cell_type": "code",
   "execution_count": 7,
   "id": "07aa9cf4",
   "metadata": {
    "colab": {
     "base_uri": "https://localhost:8080/",
     "height": 267
    },
    "id": "07aa9cf4",
    "outputId": "764f7082-6c0a-4783-908e-ac3da77f2be9"
   },
   "outputs": [
    {
     "data": {
      "text/html": [
       "\n",
       "  <div id=\"df-97024272-f8c4-4b71-9dd4-62d4eaeb58e3\">\n",
       "    <div class=\"colab-df-container\">\n",
       "      <div>\n",
       "<style scoped>\n",
       "    .dataframe tbody tr th:only-of-type {\n",
       "        vertical-align: middle;\n",
       "    }\n",
       "\n",
       "    .dataframe tbody tr th {\n",
       "        vertical-align: top;\n",
       "    }\n",
       "\n",
       "    .dataframe thead th {\n",
       "        text-align: right;\n",
       "    }\n",
       "</style>\n",
       "<table border=\"1\" class=\"dataframe\">\n",
       "  <thead>\n",
       "    <tr style=\"text-align: right;\">\n",
       "      <th></th>\n",
       "      <th>Jitter (local)</th>\n",
       "      <th>Jitter (local absolute)</th>\n",
       "      <th>Jitter (rap)</th>\n",
       "      <th>Shimmer (local)</th>\n",
       "      <th>Shimmer (apq5)</th>\n",
       "      <th>HTN</th>\n",
       "      <th>Mean pitch</th>\n",
       "      <th>Minimum pitch</th>\n",
       "      <th>Maximum pitch</th>\n",
       "      <th>class information</th>\n",
       "    </tr>\n",
       "  </thead>\n",
       "  <tbody>\n",
       "    <tr>\n",
       "      <th>0</th>\n",
       "      <td>1.488</td>\n",
       "      <td>0.000090</td>\n",
       "      <td>0.900</td>\n",
       "      <td>8.334</td>\n",
       "      <td>4.609</td>\n",
       "      <td>11.130</td>\n",
       "      <td>164.781</td>\n",
       "      <td>142.229</td>\n",
       "      <td>187.576</td>\n",
       "      <td>1</td>\n",
       "    </tr>\n",
       "    <tr>\n",
       "      <th>1</th>\n",
       "      <td>0.728</td>\n",
       "      <td>0.000038</td>\n",
       "      <td>0.353</td>\n",
       "      <td>5.864</td>\n",
       "      <td>3.180</td>\n",
       "      <td>17.403</td>\n",
       "      <td>193.289</td>\n",
       "      <td>159.515</td>\n",
       "      <td>234.505</td>\n",
       "      <td>1</td>\n",
       "    </tr>\n",
       "    <tr>\n",
       "      <th>2</th>\n",
       "      <td>1.220</td>\n",
       "      <td>0.000074</td>\n",
       "      <td>0.732</td>\n",
       "      <td>8.719</td>\n",
       "      <td>5.166</td>\n",
       "      <td>12.212</td>\n",
       "      <td>164.768</td>\n",
       "      <td>146.445</td>\n",
       "      <td>211.442</td>\n",
       "      <td>1</td>\n",
       "    </tr>\n",
       "    <tr>\n",
       "      <th>3</th>\n",
       "      <td>2.502</td>\n",
       "      <td>0.000123</td>\n",
       "      <td>1.156</td>\n",
       "      <td>13.513</td>\n",
       "      <td>8.771</td>\n",
       "      <td>11.384</td>\n",
       "      <td>203.471</td>\n",
       "      <td>182.713</td>\n",
       "      <td>220.230</td>\n",
       "      <td>1</td>\n",
       "    </tr>\n",
       "    <tr>\n",
       "      <th>4</th>\n",
       "      <td>3.509</td>\n",
       "      <td>0.000167</td>\n",
       "      <td>1.715</td>\n",
       "      <td>9.112</td>\n",
       "      <td>4.927</td>\n",
       "      <td>10.653</td>\n",
       "      <td>208.440</td>\n",
       "      <td>182.821</td>\n",
       "      <td>225.162</td>\n",
       "      <td>1</td>\n",
       "    </tr>\n",
       "  </tbody>\n",
       "</table>\n",
       "</div>\n",
       "      <button class=\"colab-df-convert\" onclick=\"convertToInteractive('df-97024272-f8c4-4b71-9dd4-62d4eaeb58e3')\"\n",
       "              title=\"Convert this dataframe to an interactive table.\"\n",
       "              style=\"display:none;\">\n",
       "        \n",
       "  <svg xmlns=\"http://www.w3.org/2000/svg\" height=\"24px\"viewBox=\"0 0 24 24\"\n",
       "       width=\"24px\">\n",
       "    <path d=\"M0 0h24v24H0V0z\" fill=\"none\"/>\n",
       "    <path d=\"M18.56 5.44l.94 2.06.94-2.06 2.06-.94-2.06-.94-.94-2.06-.94 2.06-2.06.94zm-11 1L8.5 8.5l.94-2.06 2.06-.94-2.06-.94L8.5 2.5l-.94 2.06-2.06.94zm10 10l.94 2.06.94-2.06 2.06-.94-2.06-.94-.94-2.06-.94 2.06-2.06.94z\"/><path d=\"M17.41 7.96l-1.37-1.37c-.4-.4-.92-.59-1.43-.59-.52 0-1.04.2-1.43.59L10.3 9.45l-7.72 7.72c-.78.78-.78 2.05 0 2.83L4 21.41c.39.39.9.59 1.41.59.51 0 1.02-.2 1.41-.59l7.78-7.78 2.81-2.81c.8-.78.8-2.07 0-2.86zM5.41 20L4 18.59l7.72-7.72 1.47 1.35L5.41 20z\"/>\n",
       "  </svg>\n",
       "      </button>\n",
       "      \n",
       "  <style>\n",
       "    .colab-df-container {\n",
       "      display:flex;\n",
       "      flex-wrap:wrap;\n",
       "      gap: 12px;\n",
       "    }\n",
       "\n",
       "    .colab-df-convert {\n",
       "      background-color: #E8F0FE;\n",
       "      border: none;\n",
       "      border-radius: 50%;\n",
       "      cursor: pointer;\n",
       "      display: none;\n",
       "      fill: #1967D2;\n",
       "      height: 32px;\n",
       "      padding: 0 0 0 0;\n",
       "      width: 32px;\n",
       "    }\n",
       "\n",
       "    .colab-df-convert:hover {\n",
       "      background-color: #E2EBFA;\n",
       "      box-shadow: 0px 1px 2px rgba(60, 64, 67, 0.3), 0px 1px 3px 1px rgba(60, 64, 67, 0.15);\n",
       "      fill: #174EA6;\n",
       "    }\n",
       "\n",
       "    [theme=dark] .colab-df-convert {\n",
       "      background-color: #3B4455;\n",
       "      fill: #D2E3FC;\n",
       "    }\n",
       "\n",
       "    [theme=dark] .colab-df-convert:hover {\n",
       "      background-color: #434B5C;\n",
       "      box-shadow: 0px 1px 3px 1px rgba(0, 0, 0, 0.15);\n",
       "      filter: drop-shadow(0px 1px 2px rgba(0, 0, 0, 0.3));\n",
       "      fill: #FFFFFF;\n",
       "    }\n",
       "  </style>\n",
       "\n",
       "      <script>\n",
       "        const buttonEl =\n",
       "          document.querySelector('#df-97024272-f8c4-4b71-9dd4-62d4eaeb58e3 button.colab-df-convert');\n",
       "        buttonEl.style.display =\n",
       "          google.colab.kernel.accessAllowed ? 'block' : 'none';\n",
       "\n",
       "        async function convertToInteractive(key) {\n",
       "          const element = document.querySelector('#df-97024272-f8c4-4b71-9dd4-62d4eaeb58e3');\n",
       "          const dataTable =\n",
       "            await google.colab.kernel.invokeFunction('convertToInteractive',\n",
       "                                                     [key], {});\n",
       "          if (!dataTable) return;\n",
       "\n",
       "          const docLinkHtml = 'Like what you see? Visit the ' +\n",
       "            '<a target=\"_blank\" href=https://colab.research.google.com/notebooks/data_table.ipynb>data table notebook</a>'\n",
       "            + ' to learn more about interactive tables.';\n",
       "          element.innerHTML = '';\n",
       "          dataTable['output_type'] = 'display_data';\n",
       "          await google.colab.output.renderOutput(dataTable, element);\n",
       "          const docLink = document.createElement('div');\n",
       "          docLink.innerHTML = docLinkHtml;\n",
       "          element.appendChild(docLink);\n",
       "        }\n",
       "      </script>\n",
       "    </div>\n",
       "  </div>\n",
       "  "
      ],
      "text/plain": [
       "   Jitter (local)  Jitter (local absolute)  Jitter (rap)  Shimmer (local)  \\\n",
       "0           1.488                 0.000090         0.900            8.334   \n",
       "1           0.728                 0.000038         0.353            5.864   \n",
       "2           1.220                 0.000074         0.732            8.719   \n",
       "3           2.502                 0.000123         1.156           13.513   \n",
       "4           3.509                 0.000167         1.715            9.112   \n",
       "\n",
       "   Shimmer (apq5)     HTN  Mean pitch  Minimum pitch  Maximum pitch  \\\n",
       "0           4.609  11.130     164.781        142.229        187.576   \n",
       "1           3.180  17.403     193.289        159.515        234.505   \n",
       "2           5.166  12.212     164.768        146.445        211.442   \n",
       "3           8.771  11.384     203.471        182.713        220.230   \n",
       "4           4.927  10.653     208.440        182.821        225.162   \n",
       "\n",
       "   class information  \n",
       "0                  1  \n",
       "1                  1  \n",
       "2                  1  \n",
       "3                  1  \n",
       "4                  1  "
      ]
     },
     "execution_count": 7,
     "metadata": {},
     "output_type": "execute_result"
    }
   ],
   "source": [
    "data.drop(['id patient', 'Jitter (ppq5)',\n",
    "         'Jitter (ddp)','Shimmer (local dB)','Shimmer (apq3)','Shimmer (apq11)',\n",
    "         'Shimmer (dda)','AC','NTH','Median pitch','Standard deviation',\n",
    "         'Number of pulses','Number of periods','Mean period',\n",
    "         'Standard deviation of period','Fraction of locally unvoiced frames','Number of voice breaks',\n",
    "         'Degree of voice breaks','UPDRS',], inplace=True, axis=1)        \n",
    "        \n",
    "        \n",
    "data.head()"
   ]
  },
  {
   "cell_type": "code",
   "execution_count": 8,
   "id": "9a5d998c",
   "metadata": {
    "colab": {
     "base_uri": "https://localhost:8080/"
    },
    "id": "9a5d998c",
    "outputId": "e6a29b73-bb6b-4a08-8e78-6df0c3217f69"
   },
   "outputs": [
    {
     "data": {
      "text/plain": [
       "(1208, 10)"
      ]
     },
     "execution_count": 8,
     "metadata": {},
     "output_type": "execute_result"
    }
   ],
   "source": [
    "data.shape"
   ]
  },
  {
   "cell_type": "code",
   "execution_count": 9,
   "id": "15625e00",
   "metadata": {
    "id": "15625e00"
   },
   "outputs": [],
   "source": [
    "# Separating target variable and other variables\n",
    "X = data.drop(columns=\"class information\")\n",
    "y = data[\"class information\"]"
   ]
  },
  {
   "cell_type": "code",
   "execution_count": 10,
   "id": "bfa6e58b",
   "metadata": {
    "id": "bfa6e58b"
   },
   "outputs": [],
   "source": [
    "# Let's split the data into a train and test sets. \n",
    "# I will use the stratify parameter to maintain the ratio of classes in the dependent variable\n",
    "X_train, X_test, y_train, y_test = train_test_split(X, y, test_size=0.4, random_state=2, stratify=y)"
   ]
  },
  {
   "cell_type": "code",
   "execution_count": 11,
   "id": "761eb136",
   "metadata": {
    "colab": {
     "base_uri": "https://localhost:8080/"
    },
    "id": "761eb136",
    "outputId": "fc579ae0-0599-4eba-fae0-a9d30f862cc5"
   },
   "outputs": [
    {
     "name": "stdout",
     "output_type": "stream",
     "text": [
      "59.93% data is in training set\n",
      "40.07% data is in test set\n"
     ]
    }
   ],
   "source": [
    "# Check the split of the data\n",
    "print(\"{0:0.2f}% data is in training set\".format((len(X_train)/len(data.index)) * 100))\n",
    "print(\"{0:0.2f}% data is in test set\".format((len(X_test)/len(data.index)) * 100))"
   ]
  },
  {
   "cell_type": "code",
   "execution_count": 12,
   "id": "498e29fa",
   "metadata": {
    "colab": {
     "base_uri": "https://localhost:8080/",
     "height": 467
    },
    "id": "498e29fa",
    "outputId": "ddd3902d-9570-4e41-9729-1d865a920b76"
   },
   "outputs": [
    {
     "data": {
      "text/html": [
       "\n",
       "  <div id=\"df-2a65811b-ecc4-46ec-8034-cc78317569f5\">\n",
       "    <div class=\"colab-df-container\">\n",
       "      <div>\n",
       "<style scoped>\n",
       "    .dataframe tbody tr th:only-of-type {\n",
       "        vertical-align: middle;\n",
       "    }\n",
       "\n",
       "    .dataframe tbody tr th {\n",
       "        vertical-align: top;\n",
       "    }\n",
       "\n",
       "    .dataframe thead th {\n",
       "        text-align: right;\n",
       "    }\n",
       "</style>\n",
       "<table border=\"1\" class=\"dataframe\">\n",
       "  <thead>\n",
       "    <tr style=\"text-align: right;\">\n",
       "      <th></th>\n",
       "      <th>Jitter (local)</th>\n",
       "      <th>Jitter (local absolute)</th>\n",
       "      <th>Jitter (rap)</th>\n",
       "      <th>Shimmer (local)</th>\n",
       "      <th>Shimmer (apq5)</th>\n",
       "      <th>HTN</th>\n",
       "      <th>Mean pitch</th>\n",
       "      <th>Minimum pitch</th>\n",
       "      <th>Maximum pitch</th>\n",
       "    </tr>\n",
       "  </thead>\n",
       "  <tbody>\n",
       "    <tr>\n",
       "      <th>855</th>\n",
       "      <td>1.976</td>\n",
       "      <td>0.000122</td>\n",
       "      <td>0.739</td>\n",
       "      <td>20.587</td>\n",
       "      <td>11.787</td>\n",
       "      <td>3.076</td>\n",
       "      <td>161.857</td>\n",
       "      <td>142.273</td>\n",
       "      <td>182.871</td>\n",
       "    </tr>\n",
       "    <tr>\n",
       "      <th>1186</th>\n",
       "      <td>0.436</td>\n",
       "      <td>0.000024</td>\n",
       "      <td>0.258</td>\n",
       "      <td>4.017</td>\n",
       "      <td>2.606</td>\n",
       "      <td>18.664</td>\n",
       "      <td>184.765</td>\n",
       "      <td>178.577</td>\n",
       "      <td>192.580</td>\n",
       "    </tr>\n",
       "    <tr>\n",
       "      <th>548</th>\n",
       "      <td>0.567</td>\n",
       "      <td>0.000042</td>\n",
       "      <td>0.285</td>\n",
       "      <td>5.786</td>\n",
       "      <td>3.654</td>\n",
       "      <td>16.849</td>\n",
       "      <td>135.975</td>\n",
       "      <td>122.999</td>\n",
       "      <td>143.743</td>\n",
       "    </tr>\n",
       "    <tr>\n",
       "      <th>1047</th>\n",
       "      <td>0.606</td>\n",
       "      <td>0.000065</td>\n",
       "      <td>0.162</td>\n",
       "      <td>5.351</td>\n",
       "      <td>3.295</td>\n",
       "      <td>15.913</td>\n",
       "      <td>92.935</td>\n",
       "      <td>80.332</td>\n",
       "      <td>98.876</td>\n",
       "    </tr>\n",
       "    <tr>\n",
       "      <th>1127</th>\n",
       "      <td>0.181</td>\n",
       "      <td>0.000007</td>\n",
       "      <td>0.095</td>\n",
       "      <td>2.245</td>\n",
       "      <td>1.569</td>\n",
       "      <td>26.864</td>\n",
       "      <td>243.320</td>\n",
       "      <td>229.429</td>\n",
       "      <td>255.224</td>\n",
       "    </tr>\n",
       "    <tr>\n",
       "      <th>...</th>\n",
       "      <td>...</td>\n",
       "      <td>...</td>\n",
       "      <td>...</td>\n",
       "      <td>...</td>\n",
       "      <td>...</td>\n",
       "      <td>...</td>\n",
       "      <td>...</td>\n",
       "      <td>...</td>\n",
       "      <td>...</td>\n",
       "    </tr>\n",
       "    <tr>\n",
       "      <th>862</th>\n",
       "      <td>3.322</td>\n",
       "      <td>0.000266</td>\n",
       "      <td>1.813</td>\n",
       "      <td>10.730</td>\n",
       "      <td>4.321</td>\n",
       "      <td>10.664</td>\n",
       "      <td>124.813</td>\n",
       "      <td>114.426</td>\n",
       "      <td>135.935</td>\n",
       "    </tr>\n",
       "    <tr>\n",
       "      <th>1122</th>\n",
       "      <td>0.422</td>\n",
       "      <td>0.000024</td>\n",
       "      <td>0.235</td>\n",
       "      <td>8.788</td>\n",
       "      <td>5.359</td>\n",
       "      <td>17.566</td>\n",
       "      <td>174.153</td>\n",
       "      <td>171.475</td>\n",
       "      <td>177.129</td>\n",
       "    </tr>\n",
       "    <tr>\n",
       "      <th>468</th>\n",
       "      <td>1.046</td>\n",
       "      <td>0.000058</td>\n",
       "      <td>0.562</td>\n",
       "      <td>10.224</td>\n",
       "      <td>6.203</td>\n",
       "      <td>11.706</td>\n",
       "      <td>181.084</td>\n",
       "      <td>96.543</td>\n",
       "      <td>203.661</td>\n",
       "    </tr>\n",
       "    <tr>\n",
       "      <th>422</th>\n",
       "      <td>2.140</td>\n",
       "      <td>0.000158</td>\n",
       "      <td>0.828</td>\n",
       "      <td>7.529</td>\n",
       "      <td>3.592</td>\n",
       "      <td>12.595</td>\n",
       "      <td>135.570</td>\n",
       "      <td>117.852</td>\n",
       "      <td>146.737</td>\n",
       "    </tr>\n",
       "    <tr>\n",
       "      <th>1080</th>\n",
       "      <td>0.612</td>\n",
       "      <td>0.000029</td>\n",
       "      <td>0.362</td>\n",
       "      <td>6.393</td>\n",
       "      <td>4.180</td>\n",
       "      <td>20.667</td>\n",
       "      <td>212.321</td>\n",
       "      <td>108.060</td>\n",
       "      <td>246.582</td>\n",
       "    </tr>\n",
       "  </tbody>\n",
       "</table>\n",
       "<p>724 rows × 9 columns</p>\n",
       "</div>\n",
       "      <button class=\"colab-df-convert\" onclick=\"convertToInteractive('df-2a65811b-ecc4-46ec-8034-cc78317569f5')\"\n",
       "              title=\"Convert this dataframe to an interactive table.\"\n",
       "              style=\"display:none;\">\n",
       "        \n",
       "  <svg xmlns=\"http://www.w3.org/2000/svg\" height=\"24px\"viewBox=\"0 0 24 24\"\n",
       "       width=\"24px\">\n",
       "    <path d=\"M0 0h24v24H0V0z\" fill=\"none\"/>\n",
       "    <path d=\"M18.56 5.44l.94 2.06.94-2.06 2.06-.94-2.06-.94-.94-2.06-.94 2.06-2.06.94zm-11 1L8.5 8.5l.94-2.06 2.06-.94-2.06-.94L8.5 2.5l-.94 2.06-2.06.94zm10 10l.94 2.06.94-2.06 2.06-.94-2.06-.94-.94-2.06-.94 2.06-2.06.94z\"/><path d=\"M17.41 7.96l-1.37-1.37c-.4-.4-.92-.59-1.43-.59-.52 0-1.04.2-1.43.59L10.3 9.45l-7.72 7.72c-.78.78-.78 2.05 0 2.83L4 21.41c.39.39.9.59 1.41.59.51 0 1.02-.2 1.41-.59l7.78-7.78 2.81-2.81c.8-.78.8-2.07 0-2.86zM5.41 20L4 18.59l7.72-7.72 1.47 1.35L5.41 20z\"/>\n",
       "  </svg>\n",
       "      </button>\n",
       "      \n",
       "  <style>\n",
       "    .colab-df-container {\n",
       "      display:flex;\n",
       "      flex-wrap:wrap;\n",
       "      gap: 12px;\n",
       "    }\n",
       "\n",
       "    .colab-df-convert {\n",
       "      background-color: #E8F0FE;\n",
       "      border: none;\n",
       "      border-radius: 50%;\n",
       "      cursor: pointer;\n",
       "      display: none;\n",
       "      fill: #1967D2;\n",
       "      height: 32px;\n",
       "      padding: 0 0 0 0;\n",
       "      width: 32px;\n",
       "    }\n",
       "\n",
       "    .colab-df-convert:hover {\n",
       "      background-color: #E2EBFA;\n",
       "      box-shadow: 0px 1px 2px rgba(60, 64, 67, 0.3), 0px 1px 3px 1px rgba(60, 64, 67, 0.15);\n",
       "      fill: #174EA6;\n",
       "    }\n",
       "\n",
       "    [theme=dark] .colab-df-convert {\n",
       "      background-color: #3B4455;\n",
       "      fill: #D2E3FC;\n",
       "    }\n",
       "\n",
       "    [theme=dark] .colab-df-convert:hover {\n",
       "      background-color: #434B5C;\n",
       "      box-shadow: 0px 1px 3px 1px rgba(0, 0, 0, 0.15);\n",
       "      filter: drop-shadow(0px 1px 2px rgba(0, 0, 0, 0.3));\n",
       "      fill: #FFFFFF;\n",
       "    }\n",
       "  </style>\n",
       "\n",
       "      <script>\n",
       "        const buttonEl =\n",
       "          document.querySelector('#df-2a65811b-ecc4-46ec-8034-cc78317569f5 button.colab-df-convert');\n",
       "        buttonEl.style.display =\n",
       "          google.colab.kernel.accessAllowed ? 'block' : 'none';\n",
       "\n",
       "        async function convertToInteractive(key) {\n",
       "          const element = document.querySelector('#df-2a65811b-ecc4-46ec-8034-cc78317569f5');\n",
       "          const dataTable =\n",
       "            await google.colab.kernel.invokeFunction('convertToInteractive',\n",
       "                                                     [key], {});\n",
       "          if (!dataTable) return;\n",
       "\n",
       "          const docLinkHtml = 'Like what you see? Visit the ' +\n",
       "            '<a target=\"_blank\" href=https://colab.research.google.com/notebooks/data_table.ipynb>data table notebook</a>'\n",
       "            + ' to learn more about interactive tables.';\n",
       "          element.innerHTML = '';\n",
       "          dataTable['output_type'] = 'display_data';\n",
       "          await google.colab.output.renderOutput(dataTable, element);\n",
       "          const docLink = document.createElement('div');\n",
       "          docLink.innerHTML = docLinkHtml;\n",
       "          element.appendChild(docLink);\n",
       "        }\n",
       "      </script>\n",
       "    </div>\n",
       "  </div>\n",
       "  "
      ],
      "text/plain": [
       "      Jitter (local)  Jitter (local absolute)  Jitter (rap)  Shimmer (local)  \\\n",
       "855            1.976                 0.000122         0.739           20.587   \n",
       "1186           0.436                 0.000024         0.258            4.017   \n",
       "548            0.567                 0.000042         0.285            5.786   \n",
       "1047           0.606                 0.000065         0.162            5.351   \n",
       "1127           0.181                 0.000007         0.095            2.245   \n",
       "...              ...                      ...           ...              ...   \n",
       "862            3.322                 0.000266         1.813           10.730   \n",
       "1122           0.422                 0.000024         0.235            8.788   \n",
       "468            1.046                 0.000058         0.562           10.224   \n",
       "422            2.140                 0.000158         0.828            7.529   \n",
       "1080           0.612                 0.000029         0.362            6.393   \n",
       "\n",
       "      Shimmer (apq5)     HTN  Mean pitch  Minimum pitch  Maximum pitch  \n",
       "855           11.787   3.076     161.857        142.273        182.871  \n",
       "1186           2.606  18.664     184.765        178.577        192.580  \n",
       "548            3.654  16.849     135.975        122.999        143.743  \n",
       "1047           3.295  15.913      92.935         80.332         98.876  \n",
       "1127           1.569  26.864     243.320        229.429        255.224  \n",
       "...              ...     ...         ...            ...            ...  \n",
       "862            4.321  10.664     124.813        114.426        135.935  \n",
       "1122           5.359  17.566     174.153        171.475        177.129  \n",
       "468            6.203  11.706     181.084         96.543        203.661  \n",
       "422            3.592  12.595     135.570        117.852        146.737  \n",
       "1080           4.180  20.667     212.321        108.060        246.582  \n",
       "\n",
       "[724 rows x 9 columns]"
      ]
     },
     "execution_count": 12,
     "metadata": {},
     "output_type": "execute_result"
    }
   ],
   "source": [
    "X_train"
   ]
  },
  {
   "cell_type": "code",
   "execution_count": 13,
   "id": "18ef7d70",
   "metadata": {
    "colab": {
     "base_uri": "https://localhost:8080/"
    },
    "id": "18ef7d70",
    "outputId": "aecb1d32-3b5e-4a09-a88c-9812736c06bf"
   },
   "outputs": [
    {
     "name": "stdout",
     "output_type": "stream",
     "text": [
      "Original class information 1 Values    : 688 (56.95%)\n",
      "Original class information 0 Values   : 520 (43.05%)\n",
      "\n",
      "Training class information 1 Values    : 412 (56.91%)\n",
      "Training class information 0 Values   : 312 (43.09%)\n",
      "\n",
      "Test class information 1 Values        : 276 (57.02%)\n",
      "Test class information 0 Values       : 208 (42.98%)\n"
     ]
    }
   ],
   "source": [
    "# Check the stratification of the data\n",
    "print(\"Original class information 1 Values    : {0} ({1:0.2f}%)\".format(len(data.loc[data['class information'] == 1]), (len(data.loc[data['class information'] == 1])/len(data.index)) * 100))\n",
    "print(\"Original class information 0 Values   : {0} ({1:0.2f}%)\".format(len(data.loc[data['class information'] == 0]), (len(data.loc[data['class information'] == 0])/len(data.index)) * 100))\n",
    "print(\"\")\n",
    "print(\"Training class information 1 Values    : {0} ({1:0.2f}%)\".format(len(y_train[y_train[:] == 1]), (len(y_train[y_train[:] == 1])/len(y_train)) * 100))\n",
    "print(\"Training class information 0 Values   : {0} ({1:0.2f}%)\".format(len(y_train[y_train[:] == 0]), (len(y_train[y_train[:] == 0])/len(y_train)) * 100))\n",
    "print(\"\")\n",
    "print(\"Test class information 1 Values        : {0} ({1:0.2f}%)\".format(len(y_test[y_test[:] == 1]), (len(y_test[y_test[:] == 1])/len(y_test)) * 100))\n",
    "print(\"Test class information 0 Values       : {0} ({1:0.2f}%)\".format(len(y_test[y_test[:] == 0]), (len(y_test[y_test[:] == 0])/len(y_test)) * 100))"
   ]
  },
  {
   "cell_type": "code",
   "execution_count": 14,
   "id": "9c72c79e",
   "metadata": {
    "id": "9c72c79e"
   },
   "outputs": [],
   "source": [
    "# Save the columns names as StandardScaler will strip them\n",
    "X_cols = X_train.columns\n",
    "\n",
    "# Initialize our Standard Scalar\n",
    "ss = StandardScaler()\n",
    "\n",
    "X_train = ss.fit_transform(X_train) # Fit scalar to training data and transform\n",
    "X_test = ss.transform(X_test) # ONLY apply the transform to the test data"
   ]
  },
  {
   "cell_type": "code",
   "execution_count": 15,
   "id": "92ec6601",
   "metadata": {
    "id": "92ec6601"
   },
   "outputs": [],
   "source": [
    "# convert them into tensorflow tensors\n",
    "X_train = tf.convert_to_tensor(X_train)\n",
    "y_train = tf.convert_to_tensor(y_train)\n",
    "X_test = tf.convert_to_tensor(X_test)\n",
    "y_test = tf.convert_to_tensor(y_test)"
   ]
  },
  {
   "cell_type": "code",
   "execution_count": 16,
   "id": "70a4f028",
   "metadata": {
    "id": "70a4f028"
   },
   "outputs": [],
   "source": [
    "##  Function to calculate different metric scores of the model - Accuracy, Recall and Precision\n",
    "def get_metrics_score(model,train,test,train_y,test_y,flag=True,threshold=0.5):\n",
    "    '''\n",
    "    model : classifier to predict values of X\n",
    "\n",
    "    '''\n",
    "    # defining an empty list to store train and test results\n",
    "    \n",
    "    score_list=[] \n",
    "    \n",
    "    # Getting predictions from the model. These will come in the form of probabilities\n",
    "    \n",
    "    pred_train = model.predict(train)\n",
    "    pred_test = model.predict(test)\n",
    "    \n",
    "    # We will need to convert the probabilities into classes using a threshold, default is 0.5\n",
    "    \n",
    "    for i in range(len(train_y)):\n",
    "        if pred_train[i]>threshold:\n",
    "            pred_train[i]=1 \n",
    "        else:\n",
    "            pred_train[i]=0\n",
    "    \n",
    "    for i in range(len(test_y)):\n",
    "        if pred_test[i]>threshold:\n",
    "            pred_test[i]=1 \n",
    "        else:\n",
    "            pred_test[i]=0\n",
    "        \n",
    "    # Now we can calculate metircs\n",
    "    \n",
    "    train_acc = accuracy_score(pred_train,train_y)\n",
    "    test_acc = accuracy_score(pred_test,test_y)\n",
    "    train_recall = recall_score(train_y,pred_train)\n",
    "    test_recall = recall_score(test_y,pred_test)\n",
    "    \n",
    "    train_precision = precision_score(train_y,pred_train)\n",
    "    test_precision = precision_score(test_y,pred_test)\n",
    "    \n",
    "    train_f1 = f1_score(train_y,pred_train)\n",
    "    test_f1 = f1_score(test_y,pred_test)\n",
    "    \n",
    "    \n",
    "    score_list.extend((train_acc,test_acc,train_recall,test_recall,train_precision,test_precision,train_f1,test_f1))\n",
    "        \n",
    "     # If the flag is set to True then only the following print statements will be dispayed. The default value is set to True.\n",
    "    if flag == True: \n",
    "        print(\"Accuracy on training set : \",accuracy_score(pred_train,train_y))\n",
    "        print(\"Accuracy on test set : \",accuracy_score(pred_test,test_y))\n",
    "        print(\"Recall on training set : \",recall_score(train_y,pred_train))\n",
    "        print(\"Recall on test set : \",recall_score(test_y,pred_test))\n",
    "        print(\"Precision on training set : \",precision_score(train_y,pred_train))\n",
    "        print(\"Precision on test set : \",precision_score(test_y,pred_test))\n",
    "        print(\"F1 on training set : \",f1_score(train_y,pred_train))\n",
    "        print(\"F1 on test set : \",f1_score(test_y,pred_test))\n",
    "    \n",
    "    #return score_list # returning the list with train and test scores"
   ]
  },
  {
   "cell_type": "code",
   "execution_count": 17,
   "id": "16e34d39",
   "metadata": {
    "id": "16e34d39"
   },
   "outputs": [],
   "source": [
    "## This function is exactly the same as the last, only it will NOT use the test data\n",
    "## There will be many times that we want to look at training metrics without looking at test metrics \n",
    "## This is to avoid tuning the model on the test data\n",
    "\n",
    "##  Function to calculate different metric scores of the model - Accuracy, Recall and Precision\n",
    "def get_training_metrics(model,train,train_y,flag=True,threshold=0.5):\n",
    "    '''\n",
    "    model : classifier to predict values of X\n",
    "\n",
    "    '''\n",
    "    # defining an empty list to store train and test results\n",
    "    \n",
    "    score_list=[] \n",
    "    \n",
    "    # Getting predictions from the model. These will come in the form of probabilities\n",
    "    \n",
    "    pred_train = model.predict(train)\n",
    "    \n",
    "    # We will need to convert the probabilities into classes using a threshold, default is 0.5\n",
    "    \n",
    "    for i in range(len(train_y)):\n",
    "        if pred_train[i]>threshold:\n",
    "            pred_train[i]=1 \n",
    "        else:\n",
    "            pred_train[i]=0\n",
    "          \n",
    "    # Now we can calculate metircs\n",
    "    \n",
    "    train_acc = accuracy_score(pred_train,train_y)\n",
    "    train_recall = recall_score(train_y,pred_train)\n",
    "    train_precision = precision_score(train_y,pred_train)\n",
    "    train_f1 = f1_score(train_y,pred_train)\n",
    "   \n",
    "    score_list.extend((train_acc,train_recall,train_precision,train_f1))\n",
    "        \n",
    "     # If the flag is set to True then only the following print statements will be dispayed. The default value is set to True.\n",
    "    if flag == True: \n",
    "        print(\"Accuracy on training set : \",accuracy_score(pred_train,train_y))\n",
    "        print(\"Recall on training set : \",recall_score(train_y,pred_train))\n",
    "        print(\"Precision on training set : \",precision_score(train_y,pred_train))\n",
    "        print(\"F1 on training set : \",f1_score(train_y,pred_train))"
   ]
  },
  {
   "cell_type": "code",
   "execution_count": 18,
   "id": "cbda2a5a",
   "metadata": {
    "id": "cbda2a5a"
   },
   "outputs": [],
   "source": [
    "def make_confusion_matrix(model,test_X,y_actual,labels=[1, 0],threshold=0.5):\n",
    "    '''\n",
    "    model : classifier to predict values of X\n",
    "    y_actual : ground truth\n",
    "    threshold : value used to convert probabilites to classes. Range = 0-1\n",
    "    \n",
    "    '''\n",
    "    # Our model will output probabilities we will convert these to classes using a threshold (dafault is 0.5)\n",
    "    y_predict = model.predict(test_X)\n",
    "    \n",
    "    for i in range(len(y_actual)):\n",
    "        if y_predict[i]>threshold:\n",
    "            y_predict[i]=1 \n",
    "        else:\n",
    "            y_predict[i]=0\n",
    "    \n",
    "    # We can now plot the confusion matrix    \n",
    "    cm=metrics.confusion_matrix( y_actual, y_predict, labels=[0, 1])\n",
    "    df_cm = pd.DataFrame(cm, index = [i for i in [\"Actual - No\",\"Actual - Yes\"]],\n",
    "                  columns = [i for i in ['Predicted - No','Predicted - Yes']])\n",
    "    group_counts = [\"{0:0.0f}\".format(value) for value in\n",
    "                cm.flatten()]\n",
    "    group_percentages = [\"{0:.2%}\".format(value) for value in\n",
    "                         cm.flatten()/np.sum(cm)]\n",
    "    labels = [f\"{v1}\\n{v2}\" for v1, v2 in\n",
    "              zip(group_counts,group_percentages)]\n",
    "    labels = np.asarray(labels).reshape(2,2)\n",
    "    plt.figure(figsize = (10,7))\n",
    "    sns.heatmap(df_cm, annot=labels,fmt='')\n",
    "    plt.ylabel('True label')\n",
    "    plt.xlabel('Predicted label')"
   ]
  },
  {
   "cell_type": "code",
   "execution_count": 19,
   "id": "1d4b0330",
   "metadata": {
    "id": "1d4b0330"
   },
   "outputs": [],
   "source": [
    "def make_ROC(model):\n",
    "    # Calculate the False Postive Rate, True Positive Rate, ROC curve and area under ROC curve\n",
    "    y_probs = model.predict(X_test)\n",
    "    fpr, tpr, thresholds = metrics.roc_curve(y_test, y_probs)\n",
    "    roc_auc = metrics.auc(fpr, tpr)\n",
    "\n",
    "    # Now plot the information calculated above\n",
    "    plt.figure(figsize=(7,5))\n",
    "    plt.plot(fpr, tpr, label='Logistic Regression (area = %0.2f)' % roc_auc)\n",
    "    plt.plot([0, 1], [0, 1],'r--')\n",
    "    plt.xlim([0.0, 1.0])\n",
    "    plt.ylim([0.0, 1.05])\n",
    "    plt.xlabel('False Positive Rate')\n",
    "    plt.ylabel('True Positive Rate')\n",
    "    plt.title('Receiver operating characteristic')\n",
    "    plt.legend(loc=\"lower right\")\n",
    "    plt.show()\n",
    "\n",
    "    # Now print the optimal threshold\n",
    "    # The optimal cut off would be where tpr is high and fpr is low\n",
    "    optimal_idx = np.argmax(tpr - fpr)\n",
    "    optimal_threshold = thresholds[optimal_idx]\n",
    "    print('The optimal threshold is:', optimal_threshold)"
   ]
  },
  {
   "cell_type": "code",
   "execution_count": 20,
   "id": "9bdbcc96",
   "metadata": {
    "id": "9bdbcc96"
   },
   "outputs": [],
   "source": [
    "# This function returns the optimum output from the ROC curve given a model.\n",
    "def get_optimal(model):\n",
    "    y_probs = model.predict(X_test)\n",
    "    fpr, tpr, thresholds = metrics.roc_curve(y_test, y_probs)\n",
    "    roc_auc = metrics.auc(fpr, tpr)\n",
    "    optimal_idx = np.argmax(tpr - fpr)\n",
    "    optimal_threshold = thresholds[optimal_idx]\n",
    "    return optimal_threshold"
   ]
  },
  {
   "cell_type": "code",
   "execution_count": 21,
   "id": "c591be70",
   "metadata": {
    "id": "c591be70"
   },
   "outputs": [],
   "source": [
    "#This function will plot the training and validation loss vs. training epoch\n",
    "def get_history_plot(n):\n",
    "    N = n\n",
    "    plt.figure(figsize=(8,6))\n",
    "    plt.plot(np.arange(0, N), history.history[\"loss\"], label=\"train_loss\")\n",
    "    plt.plot(np.arange(0, N), history.history[\"val_loss\"], label=\"val_loss\")\n",
    "    plt.title(\"Training Loss and Validation loss on the dataset\")\n",
    "    plt.xlabel(\"Epoch #\")\n",
    "    plt.ylabel(\"train_Loss/val_loss\")\n",
    "    plt.legend()\n",
    "    plt.show()"
   ]
  },
  {
   "cell_type": "code",
   "execution_count": 22,
   "id": "2cb5ca5a",
   "metadata": {
    "id": "2cb5ca5a"
   },
   "outputs": [],
   "source": [
    "n_qubits = 8\n",
    "dev = qml.device(\"default.qubit\", wires=n_qubits)\n",
    "\n",
    "@qml.qnode(dev)\n",
    "def qnode(inputs, weights):\n",
    "    qml.AngleEmbedding(inputs, wires=range(n_qubits))\n",
    "    qml.BasicEntanglerLayers(weights, wires=range(n_qubits))\n",
    "    return [qml.expval(qml.PauliZ(wires=i)) for i in range(n_qubits)]"
   ]
  },
  {
   "cell_type": "code",
   "execution_count": 23,
   "id": "678f7315",
   "metadata": {
    "id": "678f7315"
   },
   "outputs": [],
   "source": [
    "n_layers = 6\n",
    "weight_shapes = {\"weights\": (n_layers, n_qubits)}"
   ]
  },
  {
   "cell_type": "code",
   "execution_count": 24,
   "id": "eab3c70c",
   "metadata": {
    "id": "eab3c70c"
   },
   "outputs": [],
   "source": [
    "qlayer = qml.qnn.KerasLayer(qnode, weight_shapes, output_dim=n_qubits)"
   ]
  },
  {
   "cell_type": "code",
   "execution_count": 25,
   "id": "f2c92cfe",
   "metadata": {
    "id": "f2c92cfe"
   },
   "outputs": [],
   "source": [
    "# ===================================================================================\n",
    "#                                Classical Layers\n",
    "# ===================================================================================\n",
    "# Define classical layers using Keras Sequential\n",
    "\n",
    "keras.backend.set_floatx('float32')\n",
    "\n",
    "clayer_1 = tf.keras.layers.Dense(8)\n",
    "clayer_2 = layers.Dense(45, activation =\"elu\")\n",
    "clayer_3 = layers.Dense(15, activation = \"elu\")\n",
    "clayer_4 = layers.Dense(1, activation =\"sigmoid\")\n",
    "model = tf.keras.models.Sequential([ clayer_1, qlayer, clayer_2, clayer_1, qlayer,clayer_3, clayer_1, qlayer,clayer_4])\n",
    "\n",
    " "
   ]
  },
  {
   "cell_type": "code",
   "execution_count": 26,
   "id": "1209b402",
   "metadata": {
    "colab": {
     "base_uri": "https://localhost:8080/"
    },
    "id": "1209b402",
    "outputId": "4ca9ae1a-994e-4164-b568-e97c27f5ec26"
   },
   "outputs": [
    {
     "name": "stdout",
     "output_type": "stream",
     "text": [
      "The current local time is : Thu Apr  7 06:32:19 2022\n",
      "Epoch 1/100\n",
      "23/23 [==============================] - 442s 19s/step - loss: 0.2445 - accuracy: 0.5539 - val_loss: 0.2385 - val_accuracy: 0.5661\n",
      "Epoch 2/100\n",
      "23/23 [==============================] - 419s 18s/step - loss: 0.2385 - accuracy: 0.5760 - val_loss: 0.2355 - val_accuracy: 0.5744\n",
      "Epoch 3/100\n",
      "23/23 [==============================] - 412s 18s/step - loss: 0.2357 - accuracy: 0.5801 - val_loss: 0.2329 - val_accuracy: 0.5950\n",
      "Epoch 4/100\n",
      "23/23 [==============================] - 406s 18s/step - loss: 0.2337 - accuracy: 0.6036 - val_loss: 0.2309 - val_accuracy: 0.6054\n",
      "Epoch 5/100\n",
      "23/23 [==============================] - 443s 20s/step - loss: 0.2313 - accuracy: 0.6174 - val_loss: 0.2294 - val_accuracy: 0.6116\n",
      "Epoch 6/100\n",
      "23/23 [==============================] - 436s 19s/step - loss: 0.2291 - accuracy: 0.6243 - val_loss: 0.2281 - val_accuracy: 0.5847\n",
      "Epoch 7/100\n",
      "23/23 [==============================] - 435s 19s/step - loss: 0.2277 - accuracy: 0.6077 - val_loss: 0.2264 - val_accuracy: 0.6322\n",
      "Epoch 8/100\n",
      "23/23 [==============================] - 402s 18s/step - loss: 0.2249 - accuracy: 0.6257 - val_loss: 0.2250 - val_accuracy: 0.6116\n",
      "Epoch 9/100\n",
      "23/23 [==============================] - 408s 18s/step - loss: 0.2229 - accuracy: 0.6285 - val_loss: 0.2241 - val_accuracy: 0.6074\n",
      "Epoch 10/100\n",
      "23/23 [==============================] - 436s 19s/step - loss: 0.2214 - accuracy: 0.6340 - val_loss: 0.2242 - val_accuracy: 0.6157\n",
      "Epoch 11/100\n",
      "23/23 [==============================] - 436s 19s/step - loss: 0.2209 - accuracy: 0.6202 - val_loss: 0.2232 - val_accuracy: 0.6343\n",
      "Epoch 12/100\n",
      "23/23 [==============================] - 409s 18s/step - loss: 0.2197 - accuracy: 0.6340 - val_loss: 0.2233 - val_accuracy: 0.6322\n",
      "Epoch 13/100\n",
      "23/23 [==============================] - 442s 20s/step - loss: 0.2174 - accuracy: 0.6354 - val_loss: 0.2223 - val_accuracy: 0.6198\n",
      "Epoch 14/100\n",
      "23/23 [==============================] - 410s 18s/step - loss: 0.2160 - accuracy: 0.6464 - val_loss: 0.2230 - val_accuracy: 0.6136\n",
      "Epoch 15/100\n",
      "23/23 [==============================] - 405s 18s/step - loss: 0.2149 - accuracy: 0.6588 - val_loss: 0.2225 - val_accuracy: 0.6219\n",
      "Epoch 16/100\n",
      "23/23 [==============================] - 446s 20s/step - loss: 0.2139 - accuracy: 0.6533 - val_loss: 0.2232 - val_accuracy: 0.6219\n",
      "Epoch 17/100\n",
      "23/23 [==============================] - 407s 18s/step - loss: 0.2141 - accuracy: 0.6782 - val_loss: 0.2223 - val_accuracy: 0.6219\n",
      "Epoch 18/100\n",
      "23/23 [==============================] - 405s 18s/step - loss: 0.2127 - accuracy: 0.6547 - val_loss: 0.2228 - val_accuracy: 0.6219\n",
      "Epoch 19/100\n",
      "23/23 [==============================] - 407s 18s/step - loss: 0.2121 - accuracy: 0.6630 - val_loss: 0.2231 - val_accuracy: 0.6364\n",
      "Epoch 20/100\n",
      "23/23 [==============================] - 396s 17s/step - loss: 0.2117 - accuracy: 0.6547 - val_loss: 0.2228 - val_accuracy: 0.6240\n",
      "Epoch 21/100\n",
      "23/23 [==============================] - 397s 17s/step - loss: 0.2102 - accuracy: 0.6768 - val_loss: 0.2233 - val_accuracy: 0.6302\n",
      "Epoch 22/100\n",
      "23/23 [==============================] - 404s 18s/step - loss: 0.2092 - accuracy: 0.6782 - val_loss: 0.2219 - val_accuracy: 0.6302\n",
      "Epoch 23/100\n",
      "23/23 [==============================] - 398s 17s/step - loss: 0.2093 - accuracy: 0.6782 - val_loss: 0.2229 - val_accuracy: 0.6240\n",
      "Epoch 24/100\n",
      "23/23 [==============================] - 394s 17s/step - loss: 0.2076 - accuracy: 0.6837 - val_loss: 0.2226 - val_accuracy: 0.6281\n",
      "Epoch 25/100\n",
      "23/23 [==============================] - 430s 19s/step - loss: 0.2063 - accuracy: 0.6782 - val_loss: 0.2224 - val_accuracy: 0.6322\n",
      "Epoch 26/100\n",
      "23/23 [==============================] - 431s 19s/step - loss: 0.2055 - accuracy: 0.6727 - val_loss: 0.2231 - val_accuracy: 0.6281\n",
      "Epoch 27/100\n",
      "23/23 [==============================] - 392s 17s/step - loss: 0.2043 - accuracy: 0.6865 - val_loss: 0.2230 - val_accuracy: 0.6240\n",
      "Epoch 28/100\n",
      "23/23 [==============================] - 430s 19s/step - loss: 0.2037 - accuracy: 0.6934 - val_loss: 0.2234 - val_accuracy: 0.6260\n",
      "Epoch 29/100\n",
      "23/23 [==============================] - 430s 19s/step - loss: 0.2031 - accuracy: 0.6837 - val_loss: 0.2236 - val_accuracy: 0.6446\n",
      "Epoch 30/100\n",
      "23/23 [==============================] - 392s 17s/step - loss: 0.2022 - accuracy: 0.6892 - val_loss: 0.2231 - val_accuracy: 0.6240\n",
      "Epoch 31/100\n",
      "23/23 [==============================] - 431s 19s/step - loss: 0.2004 - accuracy: 0.6975 - val_loss: 0.2247 - val_accuracy: 0.6364\n",
      "Epoch 32/100\n",
      "23/23 [==============================] - 396s 17s/step - loss: 0.2007 - accuracy: 0.7003 - val_loss: 0.2234 - val_accuracy: 0.6343\n",
      "Epoch 33/100\n",
      "23/23 [==============================] - 399s 18s/step - loss: 0.1997 - accuracy: 0.7030 - val_loss: 0.2252 - val_accuracy: 0.6364\n",
      "Epoch 34/100\n",
      "23/23 [==============================] - 403s 18s/step - loss: 0.1987 - accuracy: 0.7003 - val_loss: 0.2242 - val_accuracy: 0.6488\n",
      "Epoch 35/100\n",
      "23/23 [==============================] - 432s 19s/step - loss: 0.1985 - accuracy: 0.7003 - val_loss: 0.2261 - val_accuracy: 0.6343\n",
      "Epoch 36/100\n",
      "23/23 [==============================] - 459s 20s/step - loss: 0.1969 - accuracy: 0.7017 - val_loss: 0.2257 - val_accuracy: 0.6508\n",
      "Epoch 37/100\n",
      "23/23 [==============================] - 430s 19s/step - loss: 0.1974 - accuracy: 0.7003 - val_loss: 0.2247 - val_accuracy: 0.6364\n",
      "Epoch 38/100\n",
      "23/23 [==============================] - 416s 18s/step - loss: 0.1961 - accuracy: 0.7044 - val_loss: 0.2270 - val_accuracy: 0.6426\n",
      "Epoch 39/100\n",
      "23/23 [==============================] - 403s 18s/step - loss: 0.1953 - accuracy: 0.7113 - val_loss: 0.2253 - val_accuracy: 0.6591\n",
      "Epoch 40/100\n",
      "23/23 [==============================] - 388s 17s/step - loss: 0.1954 - accuracy: 0.7127 - val_loss: 0.2259 - val_accuracy: 0.6529\n",
      "Epoch 41/100\n",
      "23/23 [==============================] - 426s 19s/step - loss: 0.1947 - accuracy: 0.7044 - val_loss: 0.2277 - val_accuracy: 0.6467\n",
      "Epoch 42/100\n",
      "23/23 [==============================] - 387s 17s/step - loss: 0.1938 - accuracy: 0.7293 - val_loss: 0.2248 - val_accuracy: 0.6467\n",
      "Epoch 43/100\n",
      "23/23 [==============================] - 388s 17s/step - loss: 0.1945 - accuracy: 0.6989 - val_loss: 0.2276 - val_accuracy: 0.6508\n",
      "Epoch 44/100\n",
      "23/23 [==============================] - 429s 19s/step - loss: 0.1924 - accuracy: 0.7086 - val_loss: 0.2266 - val_accuracy: 0.6570\n",
      "Epoch 45/100\n",
      "23/23 [==============================] - 389s 17s/step - loss: 0.1912 - accuracy: 0.7196 - val_loss: 0.2273 - val_accuracy: 0.6570\n",
      "Epoch 46/100\n",
      "23/23 [==============================] - 426s 19s/step - loss: 0.1914 - accuracy: 0.7224 - val_loss: 0.2263 - val_accuracy: 0.6591\n",
      "Epoch 47/100\n",
      "23/23 [==============================] - 388s 17s/step - loss: 0.1912 - accuracy: 0.7182 - val_loss: 0.2270 - val_accuracy: 0.6591\n",
      "Epoch 48/100\n",
      "23/23 [==============================] - 426s 19s/step - loss: 0.1906 - accuracy: 0.7307 - val_loss: 0.2256 - val_accuracy: 0.6508\n",
      "Epoch 49/100\n",
      "23/23 [==============================] - 392s 17s/step - loss: 0.1911 - accuracy: 0.7099 - val_loss: 0.2254 - val_accuracy: 0.6508\n",
      "Epoch 50/100\n",
      "23/23 [==============================] - 428s 19s/step - loss: 0.1887 - accuracy: 0.7320 - val_loss: 0.2268 - val_accuracy: 0.6529\n",
      "Epoch 51/100\n",
      "23/23 [==============================] - 386s 17s/step - loss: 0.1893 - accuracy: 0.7265 - val_loss: 0.2280 - val_accuracy: 0.6446\n",
      "Epoch 52/100\n",
      "23/23 [==============================] - 385s 17s/step - loss: 0.1884 - accuracy: 0.7251 - val_loss: 0.2265 - val_accuracy: 0.6488\n",
      "Epoch 53/100\n",
      "23/23 [==============================] - 425s 19s/step - loss: 0.1882 - accuracy: 0.7182 - val_loss: 0.2272 - val_accuracy: 0.6488\n",
      "Epoch 54/100\n",
      "23/23 [==============================] - 384s 17s/step - loss: 0.1875 - accuracy: 0.7251 - val_loss: 0.2275 - val_accuracy: 0.6529\n",
      "Epoch 55/100\n",
      "23/23 [==============================] - 424s 19s/step - loss: 0.1865 - accuracy: 0.7362 - val_loss: 0.2257 - val_accuracy: 0.6550\n",
      "Epoch 56/100\n",
      "23/23 [==============================] - 424s 19s/step - loss: 0.1864 - accuracy: 0.7334 - val_loss: 0.2270 - val_accuracy: 0.6488\n",
      "Epoch 57/100\n",
      "23/23 [==============================] - 394s 17s/step - loss: 0.1888 - accuracy: 0.7169 - val_loss: 0.2258 - val_accuracy: 0.6467\n",
      "Epoch 58/100\n",
      "23/23 [==============================] - 440s 19s/step - loss: 0.1850 - accuracy: 0.7238 - val_loss: 0.2268 - val_accuracy: 0.6529\n",
      "Epoch 59/100\n",
      "23/23 [==============================] - 402s 18s/step - loss: 0.1850 - accuracy: 0.7445 - val_loss: 0.2254 - val_accuracy: 0.6488\n",
      "Epoch 60/100\n",
      "23/23 [==============================] - 390s 17s/step - loss: 0.1845 - accuracy: 0.7528 - val_loss: 0.2266 - val_accuracy: 0.6570\n",
      "Epoch 61/100\n",
      "23/23 [==============================] - 426s 19s/step - loss: 0.1848 - accuracy: 0.7348 - val_loss: 0.2284 - val_accuracy: 0.6405\n",
      "Epoch 62/100\n",
      "23/23 [==============================] - 386s 17s/step - loss: 0.1835 - accuracy: 0.7390 - val_loss: 0.2242 - val_accuracy: 0.6550\n",
      "Epoch 63/100\n",
      "23/23 [==============================] - 424s 19s/step - loss: 0.1831 - accuracy: 0.7403 - val_loss: 0.2291 - val_accuracy: 0.6467\n",
      "Epoch 64/100\n",
      "23/23 [==============================] - 426s 19s/step - loss: 0.1851 - accuracy: 0.7155 - val_loss: 0.2255 - val_accuracy: 0.6446\n",
      "Epoch 65/100\n",
      "23/23 [==============================] - 439s 19s/step - loss: 0.1828 - accuracy: 0.7555 - val_loss: 0.2275 - val_accuracy: 0.6467\n",
      "Epoch 66/100\n",
      "23/23 [==============================] - 387s 17s/step - loss: 0.1829 - accuracy: 0.7362 - val_loss: 0.2279 - val_accuracy: 0.6488\n",
      "Epoch 67/100\n",
      "23/23 [==============================] - 385s 17s/step - loss: 0.1820 - accuracy: 0.7445 - val_loss: 0.2271 - val_accuracy: 0.6426\n",
      "Epoch 68/100\n",
      "23/23 [==============================] - 385s 17s/step - loss: 0.1810 - accuracy: 0.7445 - val_loss: 0.2257 - val_accuracy: 0.6508\n",
      "Epoch 69/100\n",
      "23/23 [==============================] - 384s 17s/step - loss: 0.1810 - accuracy: 0.7403 - val_loss: 0.2296 - val_accuracy: 0.6488\n",
      "Epoch 70/100\n",
      "23/23 [==============================] - 424s 19s/step - loss: 0.1805 - accuracy: 0.7472 - val_loss: 0.2273 - val_accuracy: 0.6281\n",
      "Epoch 71/100\n",
      "23/23 [==============================] - 384s 17s/step - loss: 0.1802 - accuracy: 0.7472 - val_loss: 0.2262 - val_accuracy: 0.6446\n",
      "Epoch 72/100\n",
      "23/23 [==============================] - 424s 19s/step - loss: 0.1800 - accuracy: 0.7431 - val_loss: 0.2273 - val_accuracy: 0.6405\n",
      "Epoch 73/100\n",
      "23/23 [==============================] - 386s 17s/step - loss: 0.1798 - accuracy: 0.7472 - val_loss: 0.2280 - val_accuracy: 0.6467\n",
      "Epoch 74/100\n",
      "23/23 [==============================] - 425s 19s/step - loss: 0.1784 - accuracy: 0.7624 - val_loss: 0.2267 - val_accuracy: 0.6508\n",
      "Epoch 75/100\n",
      "23/23 [==============================] - 395s 17s/step - loss: 0.1781 - accuracy: 0.7500 - val_loss: 0.2294 - val_accuracy: 0.6281\n",
      "Epoch 76/100\n",
      "23/23 [==============================] - 402s 18s/step - loss: 0.1779 - accuracy: 0.7569 - val_loss: 0.2285 - val_accuracy: 0.6322\n",
      "Epoch 77/100\n",
      "23/23 [==============================] - 445s 20s/step - loss: 0.1782 - accuracy: 0.7431 - val_loss: 0.2269 - val_accuracy: 0.6488\n",
      "Epoch 78/100\n",
      "23/23 [==============================] - 411s 18s/step - loss: 0.1780 - accuracy: 0.7486 - val_loss: 0.2279 - val_accuracy: 0.6529\n",
      "Epoch 79/100\n",
      "23/23 [==============================] - 437s 19s/step - loss: 0.1766 - accuracy: 0.7541 - val_loss: 0.2298 - val_accuracy: 0.6302\n",
      "Epoch 80/100\n",
      "23/23 [==============================] - 426s 19s/step - loss: 0.1777 - accuracy: 0.7541 - val_loss: 0.2304 - val_accuracy: 0.6302\n",
      "Epoch 81/100\n",
      "23/23 [==============================] - 399s 18s/step - loss: 0.1768 - accuracy: 0.7472 - val_loss: 0.2286 - val_accuracy: 0.6343\n",
      "Epoch 82/100\n",
      "23/23 [==============================] - 425s 19s/step - loss: 0.1755 - accuracy: 0.7555 - val_loss: 0.2289 - val_accuracy: 0.6302\n",
      "Epoch 83/100\n",
      "23/23 [==============================] - 387s 17s/step - loss: 0.1757 - accuracy: 0.7610 - val_loss: 0.2288 - val_accuracy: 0.6405\n",
      "Epoch 84/100\n",
      "23/23 [==============================] - 427s 19s/step - loss: 0.1753 - accuracy: 0.7555 - val_loss: 0.2288 - val_accuracy: 0.6384\n",
      "Epoch 85/100\n",
      "23/23 [==============================] - 427s 19s/step - loss: 0.1746 - accuracy: 0.7569 - val_loss: 0.2283 - val_accuracy: 0.6488\n",
      "Epoch 86/100\n",
      "23/23 [==============================] - 427s 19s/step - loss: 0.1751 - accuracy: 0.7486 - val_loss: 0.2311 - val_accuracy: 0.6364\n",
      "Epoch 87/100\n",
      "23/23 [==============================] - 385s 17s/step - loss: 0.1746 - accuracy: 0.7514 - val_loss: 0.2290 - val_accuracy: 0.6384\n",
      "Epoch 88/100\n",
      "23/23 [==============================] - 426s 19s/step - loss: 0.1748 - accuracy: 0.7486 - val_loss: 0.2320 - val_accuracy: 0.6426\n",
      "Epoch 89/100\n",
      "23/23 [==============================] - 426s 19s/step - loss: 0.1743 - accuracy: 0.7555 - val_loss: 0.2297 - val_accuracy: 0.6405\n",
      "Epoch 90/100\n",
      "23/23 [==============================] - 427s 19s/step - loss: 0.1736 - accuracy: 0.7528 - val_loss: 0.2277 - val_accuracy: 0.6364\n",
      "Epoch 91/100\n",
      "23/23 [==============================] - 387s 17s/step - loss: 0.1735 - accuracy: 0.7666 - val_loss: 0.2289 - val_accuracy: 0.6508\n",
      "Epoch 92/100\n",
      "23/23 [==============================] - 389s 17s/step - loss: 0.1733 - accuracy: 0.7445 - val_loss: 0.2287 - val_accuracy: 0.6364\n",
      "Epoch 93/100\n",
      "23/23 [==============================] - 387s 17s/step - loss: 0.1719 - accuracy: 0.7597 - val_loss: 0.2316 - val_accuracy: 0.6467\n",
      "Epoch 94/100\n",
      "23/23 [==============================] - 391s 17s/step - loss: 0.1713 - accuracy: 0.7569 - val_loss: 0.2300 - val_accuracy: 0.6364\n",
      "Epoch 95/100\n",
      "23/23 [==============================] - 391s 17s/step - loss: 0.1710 - accuracy: 0.7610 - val_loss: 0.2278 - val_accuracy: 0.6426\n",
      "Epoch 96/100\n",
      "23/23 [==============================] - 388s 17s/step - loss: 0.1704 - accuracy: 0.7638 - val_loss: 0.2307 - val_accuracy: 0.6384\n",
      "Epoch 97/100\n",
      "23/23 [==============================] - 427s 19s/step - loss: 0.1707 - accuracy: 0.7638 - val_loss: 0.2279 - val_accuracy: 0.6405\n",
      "Epoch 98/100\n",
      "23/23 [==============================] - 428s 19s/step - loss: 0.1708 - accuracy: 0.7569 - val_loss: 0.2277 - val_accuracy: 0.6508\n",
      "Epoch 99/100\n",
      "23/23 [==============================] - 387s 17s/step - loss: 0.1702 - accuracy: 0.7652 - val_loss: 0.2289 - val_accuracy: 0.6364\n",
      "Epoch 100/100\n",
      "23/23 [==============================] - 386s 17s/step - loss: 0.1705 - accuracy: 0.7610 - val_loss: 0.2291 - val_accuracy: 0.6384\n",
      "The current local time is : Thu Apr  7 17:57:29 2022\n"
     ]
    }
   ],
   "source": [
    "# ===================================================================================\n",
    "#                                     Training\n",
    "# ===================================================================================\n",
    "\n",
    "opt = keras.optimizers.Adam(learning_rate=0.001)\n",
    "\n",
    "model.compile(opt, loss = 'MSE', metrics = ['accuracy'])\n",
    "print('The current local time is :', time.ctime())\n",
    "history = model.fit(X_train, \n",
    "                    y_train,\n",
    "                    epochs = 100,\n",
    "               #     batch_size = 190,\n",
    "                    shuffle = True,\n",
    "                    validation_data=(X_test, y_test))\n",
    "print('The current local time is :', time.ctime())"
   ]
  },
  {
   "cell_type": "code",
   "execution_count": 27,
   "id": "08a485cf",
   "metadata": {
    "colab": {
     "base_uri": "https://localhost:8080/",
     "height": 301
    },
    "id": "08a485cf",
    "outputId": "c0a9ecf7-79c8-4b4e-87d4-0df06133a345"
   },
   "outputs": [
    {
     "data": {
      "image/png": "[encoded data removed]",
      "text/plain": [
       "<Figure size 432x288 with 1 Axes>"
      ]
     },
     "metadata": {},
     "output_type": "display_data"
    }
   ],
   "source": [
    "# ===================================================================================\n",
    "#                                  Loss History Plot\n",
    "# ===================================================================================\n",
    "\n",
    "plt.title('model loss')\n",
    "plt.plot(history.history['loss'], '-g', label = 'training loss')\n",
    "plt.plot(history.history['val_loss'], '-r', label = 'validation loss')\n",
    "plt.xlabel('epoch')\n",
    "plt.ylabel('loss')\n",
    "plt.legend(loc='upper right')\n",
    "plt.show()"
   ]
  },
  {
   "cell_type": "code",
   "execution_count": 28,
   "id": "8d2b929e",
   "metadata": {
    "colab": {
     "base_uri": "https://localhost:8080/",
     "height": 301
    },
    "id": "8d2b929e",
    "outputId": "0d294e34-9892-4d8c-b85c-b376974325b5",
    "scrolled": true
   },
   "outputs": [
    {
     "data": {
      "image/png": "[encoded data removed]",
      "text/plain": [
       "<Figure size 432x288 with 1 Axes>"
      ]
     },
     "metadata": {},
     "output_type": "display_data"
    }
   ],
   "source": [
    "# ===================================================================================\n",
    "#                                Accuracy History Plot\n",
    "# ===================================================================================\n",
    "\n",
    "plt.title('model accuracy')\n",
    "plt.plot(history.history['accuracy'], '-g', label = 'training accuracy')\n",
    "plt.plot(history.history['val_accuracy'], '-r', label = 'validation accuracy')\n",
    "plt.xlabel('epoch')\n",
    "plt.ylabel('accuracy')\n",
    "plt.legend(loc='lower right')\n",
    "plt.show()"
   ]
  },
  {
   "cell_type": "code",
   "execution_count": 29,
   "id": "3ac6f0e5",
   "metadata": {
    "colab": {
     "base_uri": "https://localhost:8080/"
    },
    "id": "3ac6f0e5",
    "outputId": "02240a9b-29a9-4f6f-e5bd-1089e16e8093"
   },
   "outputs": [
    {
     "data": {
      "text/plain": [
       "<tf.Tensor: shape=(484, 9), dtype=float64, numpy=\n",
       "array([[-0.66535474, -0.39764589, -0.65241993, ..., -1.06934375,\n",
       "        -0.69938017, -0.94905962],\n",
       "       [ 0.19523081, -0.11857559,  0.28985596, ...,  0.5381892 ,\n",
       "         0.44928021, -0.04744508],\n",
       "       [-1.16778402, -1.26171729, -1.01057004, ...,  1.6957563 ,\n",
       "         2.38033195,  0.43280115],\n",
       "       ...,\n",
       "       [-0.87643118, -0.68474284, -1.0180315 , ..., -1.13346642,\n",
       "        -1.23574091, -0.92646379],\n",
       "       [ 0.65724119,  1.33617495,  0.64374238, ..., -0.93327309,\n",
       "        -0.88471216, -0.74819425],\n",
       "       [ 0.43606004, -0.10784939,  0.51369978, ...,  1.08626255,\n",
       "         0.77463887,  1.03952139]])>"
      ]
     },
     "execution_count": 29,
     "metadata": {},
     "output_type": "execute_result"
    }
   ],
   "source": [
    "X_test"
   ]
  },
  {
   "cell_type": "code",
   "execution_count": 30,
   "id": "4c4803d8",
   "metadata": {
    "id": "4c4803d8"
   },
   "outputs": [],
   "source": [
    "y_predict = model.predict(X_test)\n",
    "\n",
    "def preb(model,test_X,y_actual,labels=[1, 0],threshold=0.5):\n",
    "    for i in range(len(y_actual)):\n",
    "            if y_predict[i]>threshold:\n",
    "                y_predict[i]=1 \n",
    "            else:\n",
    "                y_predict[i]=0\n",
    "    return y_predict"
   ]
  },
  {
   "cell_type": "code",
   "execution_count": 31,
   "id": "ff718f04",
   "metadata": {
    "id": "ff718f04"
   },
   "outputs": [],
   "source": [
    "X_preb= preb(model,X_test,y_test,threshold=0.5)"
   ]
  },
  {
   "cell_type": "code",
   "execution_count": 32,
   "id": "a116ffeb",
   "metadata": {
    "colab": {
     "base_uri": "https://localhost:8080/",
     "height": 372
    },
    "id": "a116ffeb",
    "outputId": "ff6d90ab-dd88-4d00-a15f-171ce27af366"
   },
   "outputs": [
    {
     "data": {
      "image/png": "[encoded data removed]",
      "text/plain": [
       "<Figure size 504x360 with 1 Axes>"
      ]
     },
     "metadata": {},
     "output_type": "display_data"
    },
    {
     "name": "stdout",
     "output_type": "stream",
     "text": [
      "The optimal threshold is: 0.59556484\n"
     ]
    }
   ],
   "source": [
    "make_ROC(model)"
   ]
  },
  {
   "cell_type": "code",
   "execution_count": 33,
   "id": "6403f061",
   "metadata": {
    "colab": {
     "base_uri": "https://localhost:8080/",
     "height": 448
    },
    "id": "6403f061",
    "outputId": "c93395b8-c8e9-4c1d-ab1e-fab3404414a7"
   },
   "outputs": [
    {
     "data": {
      "image/png": "[encoded data removed]",
      "text/plain": [
       "<Figure size 720x504 with 2 Axes>"
      ]
     },
     "metadata": {},
     "output_type": "display_data"
    }
   ],
   "source": [
    "make_confusion_matrix(model,X_test,y_test,threshold=0.5)"
   ]
  },
  {
   "cell_type": "code",
   "execution_count": 34,
   "id": "aaf02b7d",
   "metadata": {
    "colab": {
     "base_uri": "https://localhost:8080/"
    },
    "id": "aaf02b7d",
    "outputId": "e22c39e7-707b-4663-c607-ee9a9e1076bd",
    "scrolled": true
   },
   "outputs": [
    {
     "name": "stdout",
     "output_type": "stream",
     "text": [
      "              precision    recall  f1-score   support\n",
      "\n",
      "           0       0.55      0.58      0.57       197\n",
      "           1       0.70      0.68      0.69       287\n",
      "\n",
      "    accuracy                           0.64       484\n",
      "   macro avg       0.63      0.63      0.63       484\n",
      "weighted avg       0.64      0.64      0.64       484\n",
      "\n"
     ]
    }
   ],
   "source": [
    "print(classification_report(X_preb, y_test, labels=[0, 1]))"
   ]
  },
  {
   "cell_type": "code",
   "execution_count": 35,
   "id": "ae294e14",
   "metadata": {
    "colab": {
     "base_uri": "https://localhost:8080/"
    },
    "id": "ae294e14",
    "outputId": "645e6e81-82b7-4255-a603-6ab3bfa89b7d"
   },
   "outputs": [
    {
     "name": "stdout",
     "output_type": "stream",
     "text": [
      "Accuracy on training set :  0.7679558011049724\n",
      "Accuracy on test set :  0.6384297520661157\n",
      "Recall on training set :  0.8252427184466019\n",
      "Recall on test set :  0.7028985507246377\n",
      "Precision on training set :  0.7798165137614679\n",
      "Precision on test set :  0.6759581881533101\n",
      "F1 on training set :  0.8018867924528301\n",
      "F1 on test set :  0.6891651865008881\n"
     ]
    }
   ],
   "source": [
    "get_metrics_score(model,X_train,X_test,y_train,y_test,threshold=0.5)"
   ]
  }
 ],
 "metadata": {
  "colab": {
   "name": "QNN4-Copy2 - Kopie (2).ipynb",
   "provenance": []
  },
  "kernelspec": {
   "display_name": "Python 3 (ipykernel)",
   "language": "python",
   "name": "python3"
  },
  "language_info": {
   "codemirror_mode": {
    "name": "ipython",
    "version": 3
   },
   "file_extension": ".py",
   "mimetype": "text/x-python",
   "name": "python",
   "nbconvert_exporter": "python",
   "pygments_lexer": "ipython3",
   "version": "3.9.7"
  }
 },
 "nbformat": 4,
 "nbformat_minor": 5
}
