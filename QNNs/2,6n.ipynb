{
 "cells": [
  {
   "cell_type": "code",
   "execution_count": 1,
   "id": "H_iQm2meauuC",
   "metadata": {
    "colab": {
     "base_uri": "https://localhost:8080/"
    },
    "id": "H_iQm2meauuC",
    "outputId": "50bcf9b6-1c7c-4204-9df9-60bcb7802d5a"
   },
   "outputs": [
    {
     "name": "stdout",
     "output_type": "stream",
     "text": [
      "Requirement already satisfied: pennylane in /usr/local/lib/python3.7/dist-packages (0.22.2)\n",
      "Requirement already satisfied: autoray in /usr/local/lib/python3.7/dist-packages (from pennylane) (0.2.5)\n",
      "Requirement already satisfied: semantic-version==2.6 in /usr/local/lib/python3.7/dist-packages (from pennylane) (2.6.0)\n",
      "Requirement already satisfied: cachetools in /usr/local/lib/python3.7/dist-packages (from pennylane) (4.2.4)\n",
      "Requirement already satisfied: pennylane-lightning>=0.22 in /usr/local/lib/python3.7/dist-packages (from pennylane) (0.22.1)\n",
      "Requirement already satisfied: networkx in /usr/local/lib/python3.7/dist-packages (from pennylane) (2.6.3)\n",
      "Requirement already satisfied: toml in /usr/local/lib/python3.7/dist-packages (from pennylane) (0.10.2)\n",
      "Requirement already satisfied: scipy in /usr/local/lib/python3.7/dist-packages (from pennylane) (1.4.1)\n",
      "Requirement already satisfied: numpy in /usr/local/lib/python3.7/dist-packages (from pennylane) (1.21.5)\n",
      "Requirement already satisfied: autograd in /usr/local/lib/python3.7/dist-packages (from pennylane) (1.3)\n",
      "Requirement already satisfied: retworkx in /usr/local/lib/python3.7/dist-packages (from pennylane) (0.11.0)\n",
      "Requirement already satisfied: appdirs in /usr/local/lib/python3.7/dist-packages (from pennylane) (1.4.4)\n",
      "Requirement already satisfied: ninja in /usr/local/lib/python3.7/dist-packages (from pennylane-lightning>=0.22->pennylane) (1.10.2.3)\n",
      "Requirement already satisfied: future>=0.15.2 in /usr/local/lib/python3.7/dist-packages (from autograd->pennylane) (0.16.0)\n"
     ]
    }
   ],
   "source": [
    "pip install pennylane"
   ]
  },
  {
   "cell_type": "code",
   "execution_count": 2,
   "id": "8a3177dc",
   "metadata": {
    "id": "8a3177dc"
   },
   "outputs": [],
   "source": [
    "import pandas as pd\n",
    "import numpy as np\n",
    "from sklearn.model_selection import train_test_split\n",
    "from sklearn.preprocessing import StandardScaler\n",
    "\n",
    "import tensorflow as tf\n",
    "from tensorflow import keras\n",
    "from tensorflow.keras import layers\n",
    "\n",
    "import pennylane as qml\n",
    "\n",
    "import matplotlib.pyplot as plt\n",
    "import imblearn\n",
    "\n",
    "import time\n",
    "import torch"
   ]
  },
  {
   "cell_type": "code",
   "execution_count": 3,
   "id": "2a10793f",
   "metadata": {
    "id": "2a10793f"
   },
   "outputs": [],
   "source": [
    "import seaborn as sns\n",
    "sns.set(color_codes=True) #to make things look a little prettier"
   ]
  },
  {
   "cell_type": "code",
   "execution_count": 4,
   "id": "8261dbb5",
   "metadata": {
    "id": "8261dbb5"
   },
   "outputs": [],
   "source": [
    "# Libraries to split data, and process data \n",
    "from sklearn.model_selection import train_test_split\n",
    "from sklearn.preprocessing import StandardScaler\n",
    "from imblearn.over_sampling import SMOTE"
   ]
  },
  {
   "cell_type": "code",
   "execution_count": 5,
   "id": "9c379a6f",
   "metadata": {
    "id": "9c379a6f"
   },
   "outputs": [],
   "source": [
    "# import libraries to help evaluate our models\n",
    "from sklearn import metrics\n",
    "from sklearn.metrics import confusion_matrix, classification_report, accuracy_score, precision_score, recall_score, f1_score\n",
    "from sklearn.metrics import roc_auc_score, roc_curve"
   ]
  },
  {
   "cell_type": "code",
   "execution_count": 6,
   "id": "1a466dd0",
   "metadata": {
    "id": "1a466dd0"
   },
   "outputs": [],
   "source": [
    "data = pd.read_csv('merge.csv')"
   ]
  },
  {
   "cell_type": "code",
   "execution_count": 7,
   "id": "07aa9cf4",
   "metadata": {
    "colab": {
     "base_uri": "https://localhost:8080/",
     "height": 206
    },
    "id": "07aa9cf4",
    "outputId": "e1e68e85-cb74-4760-84f8-63fe43202a9d"
   },
   "outputs": [
    {
     "data": {
      "text/html": [
       "\n",
       "  <div id=\"df-0d3bf896-f515-4814-8ec2-0a7b898a8d51\">\n",
       "    <div class=\"colab-df-container\">\n",
       "      <div>\n",
       "<style scoped>\n",
       "    .dataframe tbody tr th:only-of-type {\n",
       "        vertical-align: middle;\n",
       "    }\n",
       "\n",
       "    .dataframe tbody tr th {\n",
       "        vertical-align: top;\n",
       "    }\n",
       "\n",
       "    .dataframe thead th {\n",
       "        text-align: right;\n",
       "    }\n",
       "</style>\n",
       "<table border=\"1\" class=\"dataframe\">\n",
       "  <thead>\n",
       "    <tr style=\"text-align: right;\">\n",
       "      <th></th>\n",
       "      <th>Jitter (local)</th>\n",
       "      <th>Jitter (local absolute)</th>\n",
       "      <th>Jitter (rap)</th>\n",
       "      <th>Shimmer (local)</th>\n",
       "      <th>Shimmer (apq5)</th>\n",
       "      <th>HTN</th>\n",
       "      <th>Mean pitch</th>\n",
       "      <th>Minimum pitch</th>\n",
       "      <th>Maximum pitch</th>\n",
       "      <th>class information</th>\n",
       "    </tr>\n",
       "  </thead>\n",
       "  <tbody>\n",
       "    <tr>\n",
       "      <th>0</th>\n",
       "      <td>1.488</td>\n",
       "      <td>0.000090</td>\n",
       "      <td>0.900</td>\n",
       "      <td>8.334</td>\n",
       "      <td>4.609</td>\n",
       "      <td>11.130</td>\n",
       "      <td>164.781</td>\n",
       "      <td>142.229</td>\n",
       "      <td>187.576</td>\n",
       "      <td>1</td>\n",
       "    </tr>\n",
       "    <tr>\n",
       "      <th>1</th>\n",
       "      <td>0.728</td>\n",
       "      <td>0.000038</td>\n",
       "      <td>0.353</td>\n",
       "      <td>5.864</td>\n",
       "      <td>3.180</td>\n",
       "      <td>17.403</td>\n",
       "      <td>193.289</td>\n",
       "      <td>159.515</td>\n",
       "      <td>234.505</td>\n",
       "      <td>1</td>\n",
       "    </tr>\n",
       "    <tr>\n",
       "      <th>2</th>\n",
       "      <td>1.220</td>\n",
       "      <td>0.000074</td>\n",
       "      <td>0.732</td>\n",
       "      <td>8.719</td>\n",
       "      <td>5.166</td>\n",
       "      <td>12.212</td>\n",
       "      <td>164.768</td>\n",
       "      <td>146.445</td>\n",
       "      <td>211.442</td>\n",
       "      <td>1</td>\n",
       "    </tr>\n",
       "    <tr>\n",
       "      <th>3</th>\n",
       "      <td>2.502</td>\n",
       "      <td>0.000123</td>\n",
       "      <td>1.156</td>\n",
       "      <td>13.513</td>\n",
       "      <td>8.771</td>\n",
       "      <td>11.384</td>\n",
       "      <td>203.471</td>\n",
       "      <td>182.713</td>\n",
       "      <td>220.230</td>\n",
       "      <td>1</td>\n",
       "    </tr>\n",
       "    <tr>\n",
       "      <th>4</th>\n",
       "      <td>3.509</td>\n",
       "      <td>0.000167</td>\n",
       "      <td>1.715</td>\n",
       "      <td>9.112</td>\n",
       "      <td>4.927</td>\n",
       "      <td>10.653</td>\n",
       "      <td>208.440</td>\n",
       "      <td>182.821</td>\n",
       "      <td>225.162</td>\n",
       "      <td>1</td>\n",
       "    </tr>\n",
       "  </tbody>\n",
       "</table>\n",
       "</div>\n",
       "      <button class=\"colab-df-convert\" onclick=\"convertToInteractive('df-0d3bf896-f515-4814-8ec2-0a7b898a8d51')\"\n",
       "              title=\"Convert this dataframe to an interactive table.\"\n",
       "              style=\"display:none;\">\n",
       "        \n",
       "  <svg xmlns=\"http://www.w3.org/2000/svg\" height=\"24px\"viewBox=\"0 0 24 24\"\n",
       "       width=\"24px\">\n",
       "    <path d=\"M0 0h24v24H0V0z\" fill=\"none\"/>\n",
       "    <path d=\"M18.56 5.44l.94 2.06.94-2.06 2.06-.94-2.06-.94-.94-2.06-.94 2.06-2.06.94zm-11 1L8.5 8.5l.94-2.06 2.06-.94-2.06-.94L8.5 2.5l-.94 2.06-2.06.94zm10 10l.94 2.06.94-2.06 2.06-.94-2.06-.94-.94-2.06-.94 2.06-2.06.94z\"/><path d=\"M17.41 7.96l-1.37-1.37c-.4-.4-.92-.59-1.43-.59-.52 0-1.04.2-1.43.59L10.3 9.45l-7.72 7.72c-.78.78-.78 2.05 0 2.83L4 21.41c.39.39.9.59 1.41.59.51 0 1.02-.2 1.41-.59l7.78-7.78 2.81-2.81c.8-.78.8-2.07 0-2.86zM5.41 20L4 18.59l7.72-7.72 1.47 1.35L5.41 20z\"/>\n",
       "  </svg>\n",
       "      </button>\n",
       "      \n",
       "  <style>\n",
       "    .colab-df-container {\n",
       "      display:flex;\n",
       "      flex-wrap:wrap;\n",
       "      gap: 12px;\n",
       "    }\n",
       "\n",
       "    .colab-df-convert {\n",
       "      background-color: #E8F0FE;\n",
       "      border: none;\n",
       "      border-radius: 50%;\n",
       "      cursor: pointer;\n",
       "      display: none;\n",
       "      fill: #1967D2;\n",
       "      height: 32px;\n",
       "      padding: 0 0 0 0;\n",
       "      width: 32px;\n",
       "    }\n",
       "\n",
       "    .colab-df-convert:hover {\n",
       "      background-color: #E2EBFA;\n",
       "      box-shadow: 0px 1px 2px rgba(60, 64, 67, 0.3), 0px 1px 3px 1px rgba(60, 64, 67, 0.15);\n",
       "      fill: #174EA6;\n",
       "    }\n",
       "\n",
       "    [theme=dark] .colab-df-convert {\n",
       "      background-color: #3B4455;\n",
       "      fill: #D2E3FC;\n",
       "    }\n",
       "\n",
       "    [theme=dark] .colab-df-convert:hover {\n",
       "      background-color: #434B5C;\n",
       "      box-shadow: 0px 1px 3px 1px rgba(0, 0, 0, 0.15);\n",
       "      filter: drop-shadow(0px 1px 2px rgba(0, 0, 0, 0.3));\n",
       "      fill: #FFFFFF;\n",
       "    }\n",
       "  </style>\n",
       "\n",
       "      <script>\n",
       "        const buttonEl =\n",
       "          document.querySelector('#df-0d3bf896-f515-4814-8ec2-0a7b898a8d51 button.colab-df-convert');\n",
       "        buttonEl.style.display =\n",
       "          google.colab.kernel.accessAllowed ? 'block' : 'none';\n",
       "\n",
       "        async function convertToInteractive(key) {\n",
       "          const element = document.querySelector('#df-0d3bf896-f515-4814-8ec2-0a7b898a8d51');\n",
       "          const dataTable =\n",
       "            await google.colab.kernel.invokeFunction('convertToInteractive',\n",
       "                                                     [key], {});\n",
       "          if (!dataTable) return;\n",
       "\n",
       "          const docLinkHtml = 'Like what you see? Visit the ' +\n",
       "            '<a target=\"_blank\" href=https://colab.research.google.com/notebooks/data_table.ipynb>data table notebook</a>'\n",
       "            + ' to learn more about interactive tables.';\n",
       "          element.innerHTML = '';\n",
       "          dataTable['output_type'] = 'display_data';\n",
       "          await google.colab.output.renderOutput(dataTable, element);\n",
       "          const docLink = document.createElement('div');\n",
       "          docLink.innerHTML = docLinkHtml;\n",
       "          element.appendChild(docLink);\n",
       "        }\n",
       "      </script>\n",
       "    </div>\n",
       "  </div>\n",
       "  "
      ],
      "text/plain": [
       "   Jitter (local)  Jitter (local absolute)  Jitter (rap)  Shimmer (local)  \\\n",
       "0           1.488                 0.000090         0.900            8.334   \n",
       "1           0.728                 0.000038         0.353            5.864   \n",
       "2           1.220                 0.000074         0.732            8.719   \n",
       "3           2.502                 0.000123         1.156           13.513   \n",
       "4           3.509                 0.000167         1.715            9.112   \n",
       "\n",
       "   Shimmer (apq5)     HTN  Mean pitch  Minimum pitch  Maximum pitch  \\\n",
       "0           4.609  11.130     164.781        142.229        187.576   \n",
       "1           3.180  17.403     193.289        159.515        234.505   \n",
       "2           5.166  12.212     164.768        146.445        211.442   \n",
       "3           8.771  11.384     203.471        182.713        220.230   \n",
       "4           4.927  10.653     208.440        182.821        225.162   \n",
       "\n",
       "   class information  \n",
       "0                  1  \n",
       "1                  1  \n",
       "2                  1  \n",
       "3                  1  \n",
       "4                  1  "
      ]
     },
     "execution_count": 7,
     "metadata": {},
     "output_type": "execute_result"
    }
   ],
   "source": [
    "data.drop(['id patient', 'Jitter (ppq5)',\n",
    "         'Jitter (ddp)','Shimmer (local dB)','Shimmer (apq3)','Shimmer (apq11)',\n",
    "         'Shimmer (dda)','AC','NTH','Median pitch','Standard deviation',\n",
    "         'Number of pulses','Number of periods','Mean period',\n",
    "         'Standard deviation of period','Fraction of locally unvoiced frames','Number of voice breaks',\n",
    "         'Degree of voice breaks','UPDRS',], inplace=True, axis=1)        \n",
    "        \n",
    "        \n",
    "data.head()"
   ]
  },
  {
   "cell_type": "code",
   "execution_count": 8,
   "id": "9a5d998c",
   "metadata": {
    "colab": {
     "base_uri": "https://localhost:8080/"
    },
    "id": "9a5d998c",
    "outputId": "d4bcd225-7454-422d-c9ac-8077c5931a7f"
   },
   "outputs": [
    {
     "data": {
      "text/plain": [
       "(1208, 10)"
      ]
     },
     "execution_count": 8,
     "metadata": {},
     "output_type": "execute_result"
    }
   ],
   "source": [
    "data.shape"
   ]
  },
  {
   "cell_type": "code",
   "execution_count": 9,
   "id": "15625e00",
   "metadata": {
    "id": "15625e00"
   },
   "outputs": [],
   "source": [
    "# Separating target variable and other variables\n",
    "X = data.drop(columns=\"class information\")\n",
    "y = data[\"class information\"]"
   ]
  },
  {
   "cell_type": "code",
   "execution_count": 10,
   "id": "bfa6e58b",
   "metadata": {
    "id": "bfa6e58b"
   },
   "outputs": [],
   "source": [
    "# Let's split the data into a train and test sets. \n",
    "# I will use the stratify parameter to maintain the ratio of classes in the dependent variable\n",
    "X_train, X_test, y_train, y_test = train_test_split(X, y, test_size=0.2, random_state=2, stratify=y)"
   ]
  },
  {
   "cell_type": "code",
   "execution_count": 11,
   "id": "761eb136",
   "metadata": {
    "colab": {
     "base_uri": "https://localhost:8080/"
    },
    "id": "761eb136",
    "outputId": "d55a2567-bedb-4782-964e-1a91ce8f3f64"
   },
   "outputs": [
    {
     "name": "stdout",
     "output_type": "stream",
     "text": [
      "79.97% data is in training set\n",
      "20.03% data is in test set\n"
     ]
    }
   ],
   "source": [
    "# Check the split of the data\n",
    "print(\"{0:0.2f}% data is in training set\".format((len(X_train)/len(data.index)) * 100))\n",
    "print(\"{0:0.2f}% data is in test set\".format((len(X_test)/len(data.index)) * 100))"
   ]
  },
  {
   "cell_type": "code",
   "execution_count": 12,
   "id": "498e29fa",
   "metadata": {
    "colab": {
     "base_uri": "https://localhost:8080/",
     "height": 423
    },
    "id": "498e29fa",
    "outputId": "5269a103-d7ff-4485-9022-afdf9fb2ef3a"
   },
   "outputs": [
    {
     "data": {
      "text/html": [
       "\n",
       "  <div id=\"df-cb1f60d4-4623-4f80-86f9-e43976c51680\">\n",
       "    <div class=\"colab-df-container\">\n",
       "      <div>\n",
       "<style scoped>\n",
       "    .dataframe tbody tr th:only-of-type {\n",
       "        vertical-align: middle;\n",
       "    }\n",
       "\n",
       "    .dataframe tbody tr th {\n",
       "        vertical-align: top;\n",
       "    }\n",
       "\n",
       "    .dataframe thead th {\n",
       "        text-align: right;\n",
       "    }\n",
       "</style>\n",
       "<table border=\"1\" class=\"dataframe\">\n",
       "  <thead>\n",
       "    <tr style=\"text-align: right;\">\n",
       "      <th></th>\n",
       "      <th>Jitter (local)</th>\n",
       "      <th>Jitter (local absolute)</th>\n",
       "      <th>Jitter (rap)</th>\n",
       "      <th>Shimmer (local)</th>\n",
       "      <th>Shimmer (apq5)</th>\n",
       "      <th>HTN</th>\n",
       "      <th>Mean pitch</th>\n",
       "      <th>Minimum pitch</th>\n",
       "      <th>Maximum pitch</th>\n",
       "    </tr>\n",
       "  </thead>\n",
       "  <tbody>\n",
       "    <tr>\n",
       "      <th>540</th>\n",
       "      <td>3.457</td>\n",
       "      <td>0.000333</td>\n",
       "      <td>1.905</td>\n",
       "      <td>13.491</td>\n",
       "      <td>7.045</td>\n",
       "      <td>5.974</td>\n",
       "      <td>103.336</td>\n",
       "      <td>90.563</td>\n",
       "      <td>116.522</td>\n",
       "    </tr>\n",
       "    <tr>\n",
       "      <th>478</th>\n",
       "      <td>3.950</td>\n",
       "      <td>0.000224</td>\n",
       "      <td>1.675</td>\n",
       "      <td>21.093</td>\n",
       "      <td>15.848</td>\n",
       "      <td>7.724</td>\n",
       "      <td>174.105</td>\n",
       "      <td>126.600</td>\n",
       "      <td>227.905</td>\n",
       "    </tr>\n",
       "    <tr>\n",
       "      <th>319</th>\n",
       "      <td>1.040</td>\n",
       "      <td>0.000054</td>\n",
       "      <td>0.244</td>\n",
       "      <td>8.772</td>\n",
       "      <td>4.988</td>\n",
       "      <td>13.657</td>\n",
       "      <td>191.288</td>\n",
       "      <td>171.488</td>\n",
       "      <td>216.280</td>\n",
       "    </tr>\n",
       "    <tr>\n",
       "      <th>627</th>\n",
       "      <td>1.062</td>\n",
       "      <td>0.000054</td>\n",
       "      <td>0.276</td>\n",
       "      <td>15.524</td>\n",
       "      <td>10.797</td>\n",
       "      <td>12.589</td>\n",
       "      <td>194.410</td>\n",
       "      <td>157.842</td>\n",
       "      <td>213.637</td>\n",
       "    </tr>\n",
       "    <tr>\n",
       "      <th>425</th>\n",
       "      <td>2.903</td>\n",
       "      <td>0.000231</td>\n",
       "      <td>1.209</td>\n",
       "      <td>14.673</td>\n",
       "      <td>8.561</td>\n",
       "      <td>9.369</td>\n",
       "      <td>125.570</td>\n",
       "      <td>90.098</td>\n",
       "      <td>149.322</td>\n",
       "    </tr>\n",
       "    <tr>\n",
       "      <th>...</th>\n",
       "      <td>...</td>\n",
       "      <td>...</td>\n",
       "      <td>...</td>\n",
       "      <td>...</td>\n",
       "      <td>...</td>\n",
       "      <td>...</td>\n",
       "      <td>...</td>\n",
       "      <td>...</td>\n",
       "      <td>...</td>\n",
       "    </tr>\n",
       "    <tr>\n",
       "      <th>1091</th>\n",
       "      <td>0.448</td>\n",
       "      <td>0.000036</td>\n",
       "      <td>0.216</td>\n",
       "      <td>3.386</td>\n",
       "      <td>2.140</td>\n",
       "      <td>21.587</td>\n",
       "      <td>123.904</td>\n",
       "      <td>119.514</td>\n",
       "      <td>128.162</td>\n",
       "    </tr>\n",
       "    <tr>\n",
       "      <th>1071</th>\n",
       "      <td>0.171</td>\n",
       "      <td>0.000018</td>\n",
       "      <td>0.079</td>\n",
       "      <td>3.533</td>\n",
       "      <td>2.395</td>\n",
       "      <td>17.838</td>\n",
       "      <td>92.384</td>\n",
       "      <td>90.695</td>\n",
       "      <td>93.956</td>\n",
       "    </tr>\n",
       "    <tr>\n",
       "      <th>1144</th>\n",
       "      <td>0.266</td>\n",
       "      <td>0.000025</td>\n",
       "      <td>0.130</td>\n",
       "      <td>3.898</td>\n",
       "      <td>2.278</td>\n",
       "      <td>20.152</td>\n",
       "      <td>106.897</td>\n",
       "      <td>100.830</td>\n",
       "      <td>112.491</td>\n",
       "    </tr>\n",
       "    <tr>\n",
       "      <th>1199</th>\n",
       "      <td>0.680</td>\n",
       "      <td>0.000036</td>\n",
       "      <td>0.368</td>\n",
       "      <td>2.968</td>\n",
       "      <td>1.707</td>\n",
       "      <td>22.116</td>\n",
       "      <td>186.116</td>\n",
       "      <td>155.230</td>\n",
       "      <td>192.402</td>\n",
       "    </tr>\n",
       "    <tr>\n",
       "      <th>418</th>\n",
       "      <td>0.509</td>\n",
       "      <td>0.000033</td>\n",
       "      <td>0.275</td>\n",
       "      <td>2.981</td>\n",
       "      <td>1.681</td>\n",
       "      <td>24.848</td>\n",
       "      <td>156.431</td>\n",
       "      <td>145.223</td>\n",
       "      <td>167.700</td>\n",
       "    </tr>\n",
       "  </tbody>\n",
       "</table>\n",
       "<p>966 rows × 9 columns</p>\n",
       "</div>\n",
       "      <button class=\"colab-df-convert\" onclick=\"convertToInteractive('df-cb1f60d4-4623-4f80-86f9-e43976c51680')\"\n",
       "              title=\"Convert this dataframe to an interactive table.\"\n",
       "              style=\"display:none;\">\n",
       "        \n",
       "  <svg xmlns=\"http://www.w3.org/2000/svg\" height=\"24px\"viewBox=\"0 0 24 24\"\n",
       "       width=\"24px\">\n",
       "    <path d=\"M0 0h24v24H0V0z\" fill=\"none\"/>\n",
       "    <path d=\"M18.56 5.44l.94 2.06.94-2.06 2.06-.94-2.06-.94-.94-2.06-.94 2.06-2.06.94zm-11 1L8.5 8.5l.94-2.06 2.06-.94-2.06-.94L8.5 2.5l-.94 2.06-2.06.94zm10 10l.94 2.06.94-2.06 2.06-.94-2.06-.94-.94-2.06-.94 2.06-2.06.94z\"/><path d=\"M17.41 7.96l-1.37-1.37c-.4-.4-.92-.59-1.43-.59-.52 0-1.04.2-1.43.59L10.3 9.45l-7.72 7.72c-.78.78-.78 2.05 0 2.83L4 21.41c.39.39.9.59 1.41.59.51 0 1.02-.2 1.41-.59l7.78-7.78 2.81-2.81c.8-.78.8-2.07 0-2.86zM5.41 20L4 18.59l7.72-7.72 1.47 1.35L5.41 20z\"/>\n",
       "  </svg>\n",
       "      </button>\n",
       "      \n",
       "  <style>\n",
       "    .colab-df-container {\n",
       "      display:flex;\n",
       "      flex-wrap:wrap;\n",
       "      gap: 12px;\n",
       "    }\n",
       "\n",
       "    .colab-df-convert {\n",
       "      background-color: #E8F0FE;\n",
       "      border: none;\n",
       "      border-radius: 50%;\n",
       "      cursor: pointer;\n",
       "      display: none;\n",
       "      fill: #1967D2;\n",
       "      height: 32px;\n",
       "      padding: 0 0 0 0;\n",
       "      width: 32px;\n",
       "    }\n",
       "\n",
       "    .colab-df-convert:hover {\n",
       "      background-color: #E2EBFA;\n",
       "      box-shadow: 0px 1px 2px rgba(60, 64, 67, 0.3), 0px 1px 3px 1px rgba(60, 64, 67, 0.15);\n",
       "      fill: #174EA6;\n",
       "    }\n",
       "\n",
       "    [theme=dark] .colab-df-convert {\n",
       "      background-color: #3B4455;\n",
       "      fill: #D2E3FC;\n",
       "    }\n",
       "\n",
       "    [theme=dark] .colab-df-convert:hover {\n",
       "      background-color: #434B5C;\n",
       "      box-shadow: 0px 1px 3px 1px rgba(0, 0, 0, 0.15);\n",
       "      filter: drop-shadow(0px 1px 2px rgba(0, 0, 0, 0.3));\n",
       "      fill: #FFFFFF;\n",
       "    }\n",
       "  </style>\n",
       "\n",
       "      <script>\n",
       "        const buttonEl =\n",
       "          document.querySelector('#df-cb1f60d4-4623-4f80-86f9-e43976c51680 button.colab-df-convert');\n",
       "        buttonEl.style.display =\n",
       "          google.colab.kernel.accessAllowed ? 'block' : 'none';\n",
       "\n",
       "        async function convertToInteractive(key) {\n",
       "          const element = document.querySelector('#df-cb1f60d4-4623-4f80-86f9-e43976c51680');\n",
       "          const dataTable =\n",
       "            await google.colab.kernel.invokeFunction('convertToInteractive',\n",
       "                                                     [key], {});\n",
       "          if (!dataTable) return;\n",
       "\n",
       "          const docLinkHtml = 'Like what you see? Visit the ' +\n",
       "            '<a target=\"_blank\" href=https://colab.research.google.com/notebooks/data_table.ipynb>data table notebook</a>'\n",
       "            + ' to learn more about interactive tables.';\n",
       "          element.innerHTML = '';\n",
       "          dataTable['output_type'] = 'display_data';\n",
       "          await google.colab.output.renderOutput(dataTable, element);\n",
       "          const docLink = document.createElement('div');\n",
       "          docLink.innerHTML = docLinkHtml;\n",
       "          element.appendChild(docLink);\n",
       "        }\n",
       "      </script>\n",
       "    </div>\n",
       "  </div>\n",
       "  "
      ],
      "text/plain": [
       "      Jitter (local)  Jitter (local absolute)  Jitter (rap)  Shimmer (local)  \\\n",
       "540            3.457                 0.000333         1.905           13.491   \n",
       "478            3.950                 0.000224         1.675           21.093   \n",
       "319            1.040                 0.000054         0.244            8.772   \n",
       "627            1.062                 0.000054         0.276           15.524   \n",
       "425            2.903                 0.000231         1.209           14.673   \n",
       "...              ...                      ...           ...              ...   \n",
       "1091           0.448                 0.000036         0.216            3.386   \n",
       "1071           0.171                 0.000018         0.079            3.533   \n",
       "1144           0.266                 0.000025         0.130            3.898   \n",
       "1199           0.680                 0.000036         0.368            2.968   \n",
       "418            0.509                 0.000033         0.275            2.981   \n",
       "\n",
       "      Shimmer (apq5)     HTN  Mean pitch  Minimum pitch  Maximum pitch  \n",
       "540            7.045   5.974     103.336         90.563        116.522  \n",
       "478           15.848   7.724     174.105        126.600        227.905  \n",
       "319            4.988  13.657     191.288        171.488        216.280  \n",
       "627           10.797  12.589     194.410        157.842        213.637  \n",
       "425            8.561   9.369     125.570         90.098        149.322  \n",
       "...              ...     ...         ...            ...            ...  \n",
       "1091           2.140  21.587     123.904        119.514        128.162  \n",
       "1071           2.395  17.838      92.384         90.695         93.956  \n",
       "1144           2.278  20.152     106.897        100.830        112.491  \n",
       "1199           1.707  22.116     186.116        155.230        192.402  \n",
       "418            1.681  24.848     156.431        145.223        167.700  \n",
       "\n",
       "[966 rows x 9 columns]"
      ]
     },
     "execution_count": 12,
     "metadata": {},
     "output_type": "execute_result"
    }
   ],
   "source": [
    "X_train"
   ]
  },
  {
   "cell_type": "code",
   "execution_count": 13,
   "id": "167aed75",
   "metadata": {
    "colab": {
     "base_uri": "https://localhost:8080/"
    },
    "id": "167aed75",
    "outputId": "1adc51d8-e5ab-4698-a12a-8d2a2265d78d"
   },
   "outputs": [
    {
     "name": "stdout",
     "output_type": "stream",
     "text": [
      "Original class information 1 Values    : 688 (56.95%)\n",
      "Original class information 0 Values   : 520 (43.05%)\n",
      "\n",
      "Training class information 1 Values    : 550 (56.94%)\n",
      "Training class information 0 Values   : 416 (43.06%)\n",
      "\n",
      "Test class information 1 Values        : 138 (57.02%)\n",
      "Test class information 0 Values       : 104 (42.98%)\n"
     ]
    }
   ],
   "source": [
    "# Check the stratification of the data\n",
    "print(\"Original class information 1 Values    : {0} ({1:0.2f}%)\".format(len(data.loc[data['class information'] == 1]), (len(data.loc[data['class information'] == 1])/len(data.index)) * 100))\n",
    "print(\"Original class information 0 Values   : {0} ({1:0.2f}%)\".format(len(data.loc[data['class information'] == 0]), (len(data.loc[data['class information'] == 0])/len(data.index)) * 100))\n",
    "print(\"\")\n",
    "print(\"Training class information 1 Values    : {0} ({1:0.2f}%)\".format(len(y_train[y_train[:] == 1]), (len(y_train[y_train[:] == 1])/len(y_train)) * 100))\n",
    "print(\"Training class information 0 Values   : {0} ({1:0.2f}%)\".format(len(y_train[y_train[:] == 0]), (len(y_train[y_train[:] == 0])/len(y_train)) * 100))\n",
    "print(\"\")\n",
    "print(\"Test class information 1 Values        : {0} ({1:0.2f}%)\".format(len(y_test[y_test[:] == 1]), (len(y_test[y_test[:] == 1])/len(y_test)) * 100))\n",
    "print(\"Test class information 0 Values       : {0} ({1:0.2f}%)\".format(len(y_test[y_test[:] == 0]), (len(y_test[y_test[:] == 0])/len(y_test)) * 100))"
   ]
  },
  {
   "cell_type": "code",
   "execution_count": 14,
   "id": "9c72c79e",
   "metadata": {
    "id": "9c72c79e"
   },
   "outputs": [],
   "source": [
    "# Save the columns names as StandardScaler will strip them\n",
    "X_cols = X_train.columns\n",
    "\n",
    "# Initialize our Standard Scalar\n",
    "ss = StandardScaler()\n",
    "\n",
    "X_train = ss.fit_transform(X_train) # Fit scalar to training data and transform\n",
    "X_test = ss.transform(X_test) # ONLY apply the transform to the test data"
   ]
  },
  {
   "cell_type": "code",
   "execution_count": 15,
   "id": "92ec6601",
   "metadata": {
    "id": "92ec6601"
   },
   "outputs": [],
   "source": [
    "# convert them into tensorflow tensors\n",
    "X_train = tf.convert_to_tensor(X_train)\n",
    "y_train = tf.convert_to_tensor(y_train)\n",
    "X_test = tf.convert_to_tensor(X_test)\n",
    "y_test = tf.convert_to_tensor(y_test)"
   ]
  },
  {
   "cell_type": "code",
   "execution_count": 16,
   "id": "70a4f028",
   "metadata": {
    "id": "70a4f028"
   },
   "outputs": [],
   "source": [
    "##  Function to calculate different metric scores of the model - Accuracy, Recall and Precision\n",
    "def get_metrics_score(model,train,test,train_y,test_y,flag=True,threshold=0.5):\n",
    "    '''\n",
    "    model : classifier to predict values of X\n",
    "\n",
    "    '''\n",
    "    # defining an empty list to store train and test results\n",
    "    \n",
    "    score_list=[] \n",
    "    \n",
    "    # Getting predictions from the model. These will come in the form of probabilities\n",
    "    \n",
    "    pred_train = model.predict(train)\n",
    "    pred_test = model.predict(test)\n",
    "    \n",
    "    # We will need to convert the probabilities into classes using a threshold, default is 0.5\n",
    "    \n",
    "    for i in range(len(train_y)):\n",
    "        if pred_train[i]>threshold:\n",
    "            pred_train[i]=1 \n",
    "        else:\n",
    "            pred_train[i]=0\n",
    "    \n",
    "    for i in range(len(test_y)):\n",
    "        if pred_test[i]>threshold:\n",
    "            pred_test[i]=1 \n",
    "        else:\n",
    "            pred_test[i]=0\n",
    "        \n",
    "    # Now we can calculate metircs\n",
    "    \n",
    "    train_acc = accuracy_score(pred_train,train_y)\n",
    "    test_acc = accuracy_score(pred_test,test_y)\n",
    "    train_recall = recall_score(train_y,pred_train)\n",
    "    test_recall = recall_score(test_y,pred_test)\n",
    "    \n",
    "    train_precision = precision_score(train_y,pred_train)\n",
    "    test_precision = precision_score(test_y,pred_test)\n",
    "    \n",
    "    train_f1 = f1_score(train_y,pred_train)\n",
    "    test_f1 = f1_score(test_y,pred_test)\n",
    "    \n",
    "    \n",
    "    score_list.extend((train_acc,test_acc,train_recall,test_recall,train_precision,test_precision,train_f1,test_f1))\n",
    "        \n",
    "     # If the flag is set to True then only the following print statements will be dispayed. The default value is set to True.\n",
    "    if flag == True: \n",
    "        print(\"Accuracy on training set : \",accuracy_score(pred_train,train_y))\n",
    "        print(\"Accuracy on test set : \",accuracy_score(pred_test,test_y))\n",
    "        print(\"Recall on training set : \",recall_score(train_y,pred_train))\n",
    "        print(\"Recall on test set : \",recall_score(test_y,pred_test))\n",
    "        print(\"Precision on training set : \",precision_score(train_y,pred_train))\n",
    "        print(\"Precision on test set : \",precision_score(test_y,pred_test))\n",
    "        print(\"F1 on training set : \",f1_score(train_y,pred_train))\n",
    "        print(\"F1 on test set : \",f1_score(test_y,pred_test))\n",
    "    \n",
    "    #return score_list # returning the list with train and test scores"
   ]
  },
  {
   "cell_type": "code",
   "execution_count": 17,
   "id": "16e34d39",
   "metadata": {
    "id": "16e34d39"
   },
   "outputs": [],
   "source": [
    "## This function is exactly the same as the last, only it will NOT use the test data\n",
    "## There will be many times that we want to look at training metrics without looking at test metrics \n",
    "## This is to avoid tuning the model on the test data\n",
    "\n",
    "##  Function to calculate different metric scores of the model - Accuracy, Recall and Precision\n",
    "def get_training_metrics(model,train,train_y,flag=True,threshold=0.5):\n",
    "    '''\n",
    "    model : classifier to predict values of X\n",
    "\n",
    "    '''\n",
    "    # defining an empty list to store train and test results\n",
    "    \n",
    "    score_list=[] \n",
    "    \n",
    "    # Getting predictions from the model. These will come in the form of probabilities\n",
    "    \n",
    "    pred_train = model.predict(train)\n",
    "    \n",
    "    # We will need to convert the probabilities into classes using a threshold, default is 0.5\n",
    "    \n",
    "    for i in range(len(train_y)):\n",
    "        if pred_train[i]>threshold:\n",
    "            pred_train[i]=1 \n",
    "        else:\n",
    "            pred_train[i]=0\n",
    "          \n",
    "    # Now we can calculate metircs\n",
    "    \n",
    "    train_acc = accuracy_score(pred_train,train_y)\n",
    "    train_recall = recall_score(train_y,pred_train)\n",
    "    train_precision = precision_score(train_y,pred_train)\n",
    "    train_f1 = f1_score(train_y,pred_train)\n",
    "   \n",
    "    score_list.extend((train_acc,train_recall,train_precision,train_f1))\n",
    "        \n",
    "     # If the flag is set to True then only the following print statements will be dispayed. The default value is set to True.\n",
    "    if flag == True: \n",
    "        print(\"Accuracy on training set : \",accuracy_score(pred_train,train_y))\n",
    "        print(\"Recall on training set : \",recall_score(train_y,pred_train))\n",
    "        print(\"Precision on training set : \",precision_score(train_y,pred_train))\n",
    "        print(\"F1 on training set : \",f1_score(train_y,pred_train))"
   ]
  },
  {
   "cell_type": "code",
   "execution_count": 18,
   "id": "cbda2a5a",
   "metadata": {
    "id": "cbda2a5a"
   },
   "outputs": [],
   "source": [
    "def make_confusion_matrix(model,test_X,y_actual,labels=[1, 0],threshold=0.5):\n",
    "    '''\n",
    "    model : classifier to predict values of X\n",
    "    y_actual : ground truth\n",
    "    threshold : value used to convert probabilites to classes. Range = 0-1\n",
    "    \n",
    "    '''\n",
    "    # Our model will output probabilities we will convert these to classes using a threshold (dafault is 0.5)\n",
    "    y_predict = model.predict(test_X)\n",
    "    \n",
    "    for i in range(len(y_actual)):\n",
    "        if y_predict[i]>threshold:\n",
    "            y_predict[i]=1 \n",
    "        else:\n",
    "            y_predict[i]=0\n",
    "    \n",
    "    # We can now plot the confusion matrix    \n",
    "    cm=metrics.confusion_matrix( y_actual, y_predict, labels=[0, 1])\n",
    "    df_cm = pd.DataFrame(cm, index = [i for i in [\"Actual - No\",\"Actual - Yes\"]],\n",
    "                  columns = [i for i in ['Predicted - No','Predicted - Yes']])\n",
    "    group_counts = [\"{0:0.0f}\".format(value) for value in\n",
    "                cm.flatten()]\n",
    "    group_percentages = [\"{0:.2%}\".format(value) for value in\n",
    "                         cm.flatten()/np.sum(cm)]\n",
    "    labels = [f\"{v1}\\n{v2}\" for v1, v2 in\n",
    "              zip(group_counts,group_percentages)]\n",
    "    labels = np.asarray(labels).reshape(2,2)\n",
    "    plt.figure(figsize = (10,7))\n",
    "    sns.heatmap(df_cm, annot=labels,fmt='')\n",
    "    plt.ylabel('True label')\n",
    "    plt.xlabel('Predicted label')"
   ]
  },
  {
   "cell_type": "code",
   "execution_count": 19,
   "id": "1d4b0330",
   "metadata": {
    "id": "1d4b0330"
   },
   "outputs": [],
   "source": [
    "def make_ROC(model):\n",
    "    # Calculate the False Postive Rate, True Positive Rate, ROC curve and area under ROC curve\n",
    "    y_probs = model.predict(X_test)\n",
    "    fpr, tpr, thresholds = metrics.roc_curve(y_test, y_probs)\n",
    "    roc_auc = metrics.auc(fpr, tpr)\n",
    "\n",
    "    # Now plot the information calculated above\n",
    "    plt.figure(figsize=(7,5))\n",
    "    plt.plot(fpr, tpr, label='Logistic Regression (area = %0.2f)' % roc_auc)\n",
    "    plt.plot([0, 1], [0, 1],'r--')\n",
    "    plt.xlim([0.0, 1.0])\n",
    "    plt.ylim([0.0, 1.05])\n",
    "    plt.xlabel('False Positive Rate')\n",
    "    plt.ylabel('True Positive Rate')\n",
    "    plt.title('Receiver operating characteristic')\n",
    "    plt.legend(loc=\"lower right\")\n",
    "    plt.show()\n",
    "\n",
    "    # Now print the optimal threshold\n",
    "    # The optimal cut off would be where tpr is high and fpr is low\n",
    "    optimal_idx = np.argmax(tpr - fpr)\n",
    "    optimal_threshold = thresholds[optimal_idx]\n",
    "    print('The optimal threshold is:', optimal_threshold)"
   ]
  },
  {
   "cell_type": "code",
   "execution_count": 20,
   "id": "9bdbcc96",
   "metadata": {
    "id": "9bdbcc96"
   },
   "outputs": [],
   "source": [
    "# This function returns the optimum output from the ROC curve given a model.\n",
    "def get_optimal(model):\n",
    "    y_probs = model.predict(X_test)\n",
    "    fpr, tpr, thresholds = metrics.roc_curve(y_test, y_probs)\n",
    "    roc_auc = metrics.auc(fpr, tpr)\n",
    "    optimal_idx = np.argmax(tpr - fpr)\n",
    "    optimal_threshold = thresholds[optimal_idx]\n",
    "    return optimal_threshold"
   ]
  },
  {
   "cell_type": "code",
   "execution_count": 21,
   "id": "c591be70",
   "metadata": {
    "id": "c591be70"
   },
   "outputs": [],
   "source": [
    "#This function will plot the training and validation loss vs. training epoch\n",
    "def get_history_plot(n):\n",
    "    N = n\n",
    "    plt.figure(figsize=(8,6))\n",
    "    plt.plot(np.arange(0, N), history.history[\"loss\"], label=\"train_loss\")\n",
    "    plt.plot(np.arange(0, N), history.history[\"val_loss\"], label=\"val_loss\")\n",
    "    plt.title(\"Training Loss and Validation loss on the dataset\")\n",
    "    plt.xlabel(\"Epoch #\")\n",
    "    plt.ylabel(\"train_Loss/val_loss\")\n",
    "    plt.legend()\n",
    "    plt.show()"
   ]
  },
  {
   "cell_type": "code",
   "execution_count": 22,
   "id": "1e354452",
   "metadata": {
    "id": "1e354452"
   },
   "outputs": [],
   "source": [
    "n_qubits = 2\n",
    "dev = qml.device(\"default.qubit\", wires=n_qubits)\n",
    "\n",
    "@qml.qnode(dev)\n",
    "def qnode(inputs, weights):\n",
    "    qml.AngleEmbedding(inputs, wires=range(n_qubits))\n",
    "    qml.BasicEntanglerLayers(weights, wires=range(n_qubits))\n",
    "    return [qml.expval(qml.PauliZ(wires=i)) for i in range(n_qubits)]"
   ]
  },
  {
   "cell_type": "code",
   "execution_count": 23,
   "id": "f8650b28",
   "metadata": {
    "id": "f8650b28"
   },
   "outputs": [],
   "source": [
    "n_layers = 6\n",
    "weight_shapes = {\"weights\": (n_layers, n_qubits)}"
   ]
  },
  {
   "cell_type": "code",
   "execution_count": 24,
   "id": "d7044f38",
   "metadata": {
    "id": "d7044f38"
   },
   "outputs": [],
   "source": [
    "qlayer = qml.qnn.KerasLayer(qnode, weight_shapes, output_dim=n_qubits)"
   ]
  },
  {
   "cell_type": "code",
   "execution_count": 25,
   "id": "cd085ba0",
   "metadata": {
    "id": "cd085ba0"
   },
   "outputs": [],
   "source": [
    "# ===================================================================================\n",
    "#                                Classical Layers\n",
    "# ===================================================================================\n",
    "# Define classical layers using Keras Sequential\n",
    "\n",
    "keras.backend.set_floatx('float32')\n",
    "\n",
    "clayer_1 = tf.keras.layers.Dense(2)\n",
    "clayer_2 = layers.Dense(45, activation =\"elu\")\n",
    "clayer_3 = layers.Dense(15, activation = \"elu\")\n",
    "clayer_4 = layers.Dense(1, activation =\"sigmoid\")\n",
    "model = tf.keras.models.Sequential([ clayer_1, qlayer, clayer_2, clayer_1, qlayer,clayer_3, clayer_1, qlayer,clayer_4])\n",
    "\n",
    " "
   ]
  },
  {
   "cell_type": "code",
   "execution_count": 26,
   "id": "1209b402",
   "metadata": {
    "colab": {
     "base_uri": "https://localhost:8080/"
    },
    "id": "1209b402",
    "outputId": "a785d41a-9180-4229-c6c2-54b6787f4432"
   },
   "outputs": [
    {
     "name": "stdout",
     "output_type": "stream",
     "text": [
      "The current local time is : Wed Apr  6 15:10:00 2022\n",
      "Epoch 1/100\n",
      "31/31 [==============================] - 104s 3s/step - loss: 0.2422 - accuracy: 0.5704 - val_loss: 0.2349 - val_accuracy: 0.5992\n",
      "Epoch 2/100\n",
      "31/31 [==============================] - 88s 3s/step - loss: 0.2399 - accuracy: 0.5735 - val_loss: 0.2327 - val_accuracy: 0.6116\n",
      "Epoch 3/100\n",
      "31/31 [==============================] - 86s 3s/step - loss: 0.2381 - accuracy: 0.5828 - val_loss: 0.2290 - val_accuracy: 0.6364\n",
      "Epoch 4/100\n",
      "31/31 [==============================] - 85s 3s/step - loss: 0.2365 - accuracy: 0.5880 - val_loss: 0.2263 - val_accuracy: 0.6405\n",
      "Epoch 5/100\n",
      "31/31 [==============================] - 85s 3s/step - loss: 0.2338 - accuracy: 0.6014 - val_loss: 0.2230 - val_accuracy: 0.6529\n",
      "Epoch 6/100\n",
      "31/31 [==============================] - 85s 3s/step - loss: 0.2312 - accuracy: 0.6180 - val_loss: 0.2196 - val_accuracy: 0.6777\n",
      "Epoch 7/100\n",
      "31/31 [==============================] - 86s 3s/step - loss: 0.2287 - accuracy: 0.6263 - val_loss: 0.2165 - val_accuracy: 0.6694\n",
      "Epoch 8/100\n",
      "31/31 [==============================] - 85s 3s/step - loss: 0.2266 - accuracy: 0.6253 - val_loss: 0.2146 - val_accuracy: 0.6653\n",
      "Epoch 9/100\n",
      "31/31 [==============================] - 85s 3s/step - loss: 0.2239 - accuracy: 0.6149 - val_loss: 0.2130 - val_accuracy: 0.6612\n",
      "Epoch 10/100\n",
      "31/31 [==============================] - 85s 3s/step - loss: 0.2226 - accuracy: 0.6180 - val_loss: 0.2128 - val_accuracy: 0.6488\n",
      "Epoch 11/100\n",
      "31/31 [==============================] - 84s 3s/step - loss: 0.2218 - accuracy: 0.6315 - val_loss: 0.2132 - val_accuracy: 0.6529\n",
      "Epoch 12/100\n",
      "31/31 [==============================] - 85s 3s/step - loss: 0.2214 - accuracy: 0.6242 - val_loss: 0.2134 - val_accuracy: 0.6694\n",
      "Epoch 13/100\n",
      "31/31 [==============================] - 85s 3s/step - loss: 0.2225 - accuracy: 0.6511 - val_loss: 0.2122 - val_accuracy: 0.6653\n",
      "Epoch 14/100\n",
      "31/31 [==============================] - 84s 3s/step - loss: 0.2204 - accuracy: 0.6325 - val_loss: 0.2123 - val_accuracy: 0.6612\n",
      "Epoch 15/100\n",
      "31/31 [==============================] - 85s 3s/step - loss: 0.2200 - accuracy: 0.6501 - val_loss: 0.2131 - val_accuracy: 0.6653\n",
      "Epoch 16/100\n",
      "31/31 [==============================] - 84s 3s/step - loss: 0.2193 - accuracy: 0.6398 - val_loss: 0.2122 - val_accuracy: 0.6612\n",
      "Epoch 17/100\n",
      "31/31 [==============================] - 85s 3s/step - loss: 0.2189 - accuracy: 0.6387 - val_loss: 0.2118 - val_accuracy: 0.6653\n",
      "Epoch 18/100\n",
      "31/31 [==============================] - 84s 3s/step - loss: 0.2187 - accuracy: 0.6460 - val_loss: 0.2121 - val_accuracy: 0.6694\n",
      "Epoch 19/100\n",
      "31/31 [==============================] - 85s 3s/step - loss: 0.2183 - accuracy: 0.6470 - val_loss: 0.2115 - val_accuracy: 0.6653\n",
      "Epoch 20/100\n",
      "31/31 [==============================] - 84s 3s/step - loss: 0.2182 - accuracy: 0.6304 - val_loss: 0.2113 - val_accuracy: 0.6694\n",
      "Epoch 21/100\n",
      "31/31 [==============================] - 84s 3s/step - loss: 0.2178 - accuracy: 0.6408 - val_loss: 0.2108 - val_accuracy: 0.6653\n",
      "Epoch 22/100\n",
      "31/31 [==============================] - 84s 3s/step - loss: 0.2175 - accuracy: 0.6460 - val_loss: 0.2115 - val_accuracy: 0.6653\n",
      "Epoch 23/100\n",
      "31/31 [==============================] - 84s 3s/step - loss: 0.2177 - accuracy: 0.6439 - val_loss: 0.2112 - val_accuracy: 0.6612\n",
      "Epoch 24/100\n",
      "31/31 [==============================] - 84s 3s/step - loss: 0.2175 - accuracy: 0.6542 - val_loss: 0.2111 - val_accuracy: 0.6612\n",
      "Epoch 25/100\n",
      "31/31 [==============================] - 84s 3s/step - loss: 0.2167 - accuracy: 0.6501 - val_loss: 0.2107 - val_accuracy: 0.6653\n",
      "Epoch 26/100\n",
      "31/31 [==============================] - 84s 3s/step - loss: 0.2168 - accuracy: 0.6439 - val_loss: 0.2103 - val_accuracy: 0.6653\n",
      "Epoch 27/100\n",
      "31/31 [==============================] - 84s 3s/step - loss: 0.2165 - accuracy: 0.6491 - val_loss: 0.2103 - val_accuracy: 0.6488\n",
      "Epoch 28/100\n",
      "31/31 [==============================] - 84s 3s/step - loss: 0.2165 - accuracy: 0.6605 - val_loss: 0.2101 - val_accuracy: 0.6653\n",
      "Epoch 29/100\n",
      "31/31 [==============================] - 84s 3s/step - loss: 0.2166 - accuracy: 0.6480 - val_loss: 0.2095 - val_accuracy: 0.6612\n",
      "Epoch 30/100\n",
      "31/31 [==============================] - 84s 3s/step - loss: 0.2159 - accuracy: 0.6542 - val_loss: 0.2092 - val_accuracy: 0.6612\n",
      "Epoch 31/100\n",
      "31/31 [==============================] - 83s 3s/step - loss: 0.2157 - accuracy: 0.6615 - val_loss: 0.2085 - val_accuracy: 0.6488\n",
      "Epoch 32/100\n",
      "31/31 [==============================] - 84s 3s/step - loss: 0.2155 - accuracy: 0.6449 - val_loss: 0.2076 - val_accuracy: 0.6529\n",
      "Epoch 33/100\n",
      "31/31 [==============================] - 84s 3s/step - loss: 0.2153 - accuracy: 0.6387 - val_loss: 0.2079 - val_accuracy: 0.6653\n",
      "Epoch 34/100\n",
      "31/31 [==============================] - 84s 3s/step - loss: 0.2152 - accuracy: 0.6439 - val_loss: 0.2076 - val_accuracy: 0.6488\n",
      "Epoch 35/100\n",
      "31/31 [==============================] - 84s 3s/step - loss: 0.2151 - accuracy: 0.6501 - val_loss: 0.2071 - val_accuracy: 0.6653\n",
      "Epoch 36/100\n",
      "31/31 [==============================] - 84s 3s/step - loss: 0.2150 - accuracy: 0.6594 - val_loss: 0.2069 - val_accuracy: 0.6529\n",
      "Epoch 37/100\n",
      "31/31 [==============================] - 84s 3s/step - loss: 0.2150 - accuracy: 0.6387 - val_loss: 0.2063 - val_accuracy: 0.6653\n",
      "Epoch 38/100\n",
      "31/31 [==============================] - 84s 3s/step - loss: 0.2147 - accuracy: 0.6563 - val_loss: 0.2063 - val_accuracy: 0.6405\n",
      "Epoch 39/100\n",
      "31/31 [==============================] - 84s 3s/step - loss: 0.2153 - accuracy: 0.6698 - val_loss: 0.2061 - val_accuracy: 0.6405\n",
      "Epoch 40/100\n",
      "31/31 [==============================] - 84s 3s/step - loss: 0.2147 - accuracy: 0.6511 - val_loss: 0.2057 - val_accuracy: 0.6612\n",
      "Epoch 41/100\n",
      "31/31 [==============================] - 84s 3s/step - loss: 0.2141 - accuracy: 0.6542 - val_loss: 0.2062 - val_accuracy: 0.6405\n",
      "Epoch 42/100\n",
      "31/31 [==============================] - 84s 3s/step - loss: 0.2142 - accuracy: 0.6605 - val_loss: 0.2059 - val_accuracy: 0.6488\n",
      "Epoch 43/100\n",
      "31/31 [==============================] - 83s 3s/step - loss: 0.2142 - accuracy: 0.6511 - val_loss: 0.2058 - val_accuracy: 0.6488\n",
      "Epoch 44/100\n",
      "31/31 [==============================] - 84s 3s/step - loss: 0.2139 - accuracy: 0.6542 - val_loss: 0.2051 - val_accuracy: 0.6364\n",
      "Epoch 45/100\n",
      "31/31 [==============================] - 84s 3s/step - loss: 0.2138 - accuracy: 0.6480 - val_loss: 0.2046 - val_accuracy: 0.6405\n",
      "Epoch 46/100\n",
      "31/31 [==============================] - 84s 3s/step - loss: 0.2135 - accuracy: 0.6491 - val_loss: 0.2050 - val_accuracy: 0.6364\n",
      "Epoch 47/100\n",
      "31/31 [==============================] - 84s 3s/step - loss: 0.2133 - accuracy: 0.6553 - val_loss: 0.2043 - val_accuracy: 0.6446\n",
      "Epoch 48/100\n",
      "31/31 [==============================] - 84s 3s/step - loss: 0.2132 - accuracy: 0.6542 - val_loss: 0.2043 - val_accuracy: 0.6446\n",
      "Epoch 49/100\n",
      "31/31 [==============================] - 84s 3s/step - loss: 0.2134 - accuracy: 0.6542 - val_loss: 0.2036 - val_accuracy: 0.6488\n",
      "Epoch 50/100\n",
      "31/31 [==============================] - 84s 3s/step - loss: 0.2138 - accuracy: 0.6460 - val_loss: 0.2039 - val_accuracy: 0.6529\n",
      "Epoch 51/100\n",
      "31/31 [==============================] - 85s 3s/step - loss: 0.2132 - accuracy: 0.6553 - val_loss: 0.2037 - val_accuracy: 0.6488\n",
      "Epoch 52/100\n",
      "31/31 [==============================] - 84s 3s/step - loss: 0.2134 - accuracy: 0.6563 - val_loss: 0.2034 - val_accuracy: 0.6488\n",
      "Epoch 53/100\n",
      "31/31 [==============================] - 84s 3s/step - loss: 0.2134 - accuracy: 0.6584 - val_loss: 0.2036 - val_accuracy: 0.6446\n",
      "Epoch 54/100\n",
      "31/31 [==============================] - 84s 3s/step - loss: 0.2130 - accuracy: 0.6532 - val_loss: 0.2028 - val_accuracy: 0.6488\n",
      "Epoch 55/100\n",
      "31/31 [==============================] - 84s 3s/step - loss: 0.2126 - accuracy: 0.6480 - val_loss: 0.2027 - val_accuracy: 0.6446\n",
      "Epoch 56/100\n",
      "31/31 [==============================] - 84s 3s/step - loss: 0.2123 - accuracy: 0.6625 - val_loss: 0.2029 - val_accuracy: 0.6488\n",
      "Epoch 57/100\n",
      "31/31 [==============================] - 84s 3s/step - loss: 0.2124 - accuracy: 0.6594 - val_loss: 0.2023 - val_accuracy: 0.6446\n",
      "Epoch 58/100\n",
      "31/31 [==============================] - 84s 3s/step - loss: 0.2126 - accuracy: 0.6491 - val_loss: 0.2020 - val_accuracy: 0.6405\n",
      "Epoch 59/100\n",
      "31/31 [==============================] - 84s 3s/step - loss: 0.2120 - accuracy: 0.6563 - val_loss: 0.2026 - val_accuracy: 0.6488\n",
      "Epoch 60/100\n",
      "31/31 [==============================] - 84s 3s/step - loss: 0.2120 - accuracy: 0.6542 - val_loss: 0.2023 - val_accuracy: 0.6446\n",
      "Epoch 61/100\n",
      "31/31 [==============================] - 84s 3s/step - loss: 0.2125 - accuracy: 0.6584 - val_loss: 0.2017 - val_accuracy: 0.6405\n",
      "Epoch 62/100\n",
      "31/31 [==============================] - 85s 3s/step - loss: 0.2124 - accuracy: 0.6594 - val_loss: 0.2021 - val_accuracy: 0.6446\n",
      "Epoch 63/100\n",
      "31/31 [==============================] - 84s 3s/step - loss: 0.2120 - accuracy: 0.6553 - val_loss: 0.2017 - val_accuracy: 0.6446\n",
      "Epoch 64/100\n",
      "31/31 [==============================] - 83s 3s/step - loss: 0.2119 - accuracy: 0.6594 - val_loss: 0.2021 - val_accuracy: 0.6612\n",
      "Epoch 65/100\n",
      "31/31 [==============================] - 83s 3s/step - loss: 0.2118 - accuracy: 0.6532 - val_loss: 0.2022 - val_accuracy: 0.6529\n",
      "Epoch 66/100\n",
      "31/31 [==============================] - 84s 3s/step - loss: 0.2116 - accuracy: 0.6667 - val_loss: 0.2017 - val_accuracy: 0.6529\n",
      "Epoch 67/100\n",
      "31/31 [==============================] - 84s 3s/step - loss: 0.2116 - accuracy: 0.6553 - val_loss: 0.2015 - val_accuracy: 0.6488\n",
      "Epoch 68/100\n",
      "31/31 [==============================] - 84s 3s/step - loss: 0.2116 - accuracy: 0.6646 - val_loss: 0.2011 - val_accuracy: 0.6529\n",
      "Epoch 69/100\n",
      "31/31 [==============================] - 84s 3s/step - loss: 0.2115 - accuracy: 0.6594 - val_loss: 0.2011 - val_accuracy: 0.6488\n",
      "Epoch 70/100\n",
      "31/31 [==============================] - 84s 3s/step - loss: 0.2109 - accuracy: 0.6594 - val_loss: 0.2009 - val_accuracy: 0.6529\n",
      "Epoch 71/100\n",
      "31/31 [==============================] - 84s 3s/step - loss: 0.2113 - accuracy: 0.6605 - val_loss: 0.2011 - val_accuracy: 0.6529\n",
      "Epoch 72/100\n",
      "31/31 [==============================] - 84s 3s/step - loss: 0.2108 - accuracy: 0.6656 - val_loss: 0.2009 - val_accuracy: 0.6488\n",
      "Epoch 73/100\n",
      "31/31 [==============================] - 84s 3s/step - loss: 0.2109 - accuracy: 0.6594 - val_loss: 0.2011 - val_accuracy: 0.6529\n",
      "Epoch 74/100\n",
      "31/31 [==============================] - 84s 3s/step - loss: 0.2113 - accuracy: 0.6749 - val_loss: 0.2013 - val_accuracy: 0.6612\n",
      "Epoch 75/100\n",
      "31/31 [==============================] - 84s 3s/step - loss: 0.2106 - accuracy: 0.6605 - val_loss: 0.2003 - val_accuracy: 0.6488\n",
      "Epoch 76/100\n",
      "31/31 [==============================] - 84s 3s/step - loss: 0.2105 - accuracy: 0.6636 - val_loss: 0.2004 - val_accuracy: 0.6570\n",
      "Epoch 77/100\n",
      "31/31 [==============================] - 84s 3s/step - loss: 0.2107 - accuracy: 0.6708 - val_loss: 0.2005 - val_accuracy: 0.6529\n",
      "Epoch 78/100\n",
      "31/31 [==============================] - 83s 3s/step - loss: 0.2105 - accuracy: 0.6584 - val_loss: 0.2001 - val_accuracy: 0.6529\n",
      "Epoch 79/100\n",
      "31/31 [==============================] - 84s 3s/step - loss: 0.2108 - accuracy: 0.6605 - val_loss: 0.2007 - val_accuracy: 0.6736\n",
      "Epoch 80/100\n",
      "31/31 [==============================] - 84s 3s/step - loss: 0.2105 - accuracy: 0.6646 - val_loss: 0.2006 - val_accuracy: 0.6612\n",
      "Epoch 81/100\n",
      "31/31 [==============================] - 84s 3s/step - loss: 0.2100 - accuracy: 0.6687 - val_loss: 0.2011 - val_accuracy: 0.6694\n",
      "Epoch 82/100\n",
      "31/31 [==============================] - 83s 3s/step - loss: 0.2103 - accuracy: 0.6677 - val_loss: 0.1999 - val_accuracy: 0.6529\n",
      "Epoch 83/100\n",
      "31/31 [==============================] - 84s 3s/step - loss: 0.2099 - accuracy: 0.6656 - val_loss: 0.2000 - val_accuracy: 0.6570\n",
      "Epoch 84/100\n",
      "31/31 [==============================] - 84s 3s/step - loss: 0.2099 - accuracy: 0.6636 - val_loss: 0.1997 - val_accuracy: 0.6570\n",
      "Epoch 85/100\n",
      "31/31 [==============================] - 84s 3s/step - loss: 0.2104 - accuracy: 0.6656 - val_loss: 0.1996 - val_accuracy: 0.6529\n",
      "Epoch 86/100\n",
      "31/31 [==============================] - 83s 3s/step - loss: 0.2099 - accuracy: 0.6625 - val_loss: 0.2005 - val_accuracy: 0.6653\n",
      "Epoch 87/100\n",
      "31/31 [==============================] - 84s 3s/step - loss: 0.2103 - accuracy: 0.6677 - val_loss: 0.2005 - val_accuracy: 0.6612\n",
      "Epoch 88/100\n",
      "31/31 [==============================] - 84s 3s/step - loss: 0.2098 - accuracy: 0.6677 - val_loss: 0.1994 - val_accuracy: 0.6570\n",
      "Epoch 89/100\n",
      "31/31 [==============================] - 83s 3s/step - loss: 0.2099 - accuracy: 0.6636 - val_loss: 0.1995 - val_accuracy: 0.6612\n",
      "Epoch 90/100\n",
      "31/31 [==============================] - 84s 3s/step - loss: 0.2096 - accuracy: 0.6698 - val_loss: 0.1995 - val_accuracy: 0.6612\n",
      "Epoch 91/100\n",
      "31/31 [==============================] - 84s 3s/step - loss: 0.2093 - accuracy: 0.6687 - val_loss: 0.1990 - val_accuracy: 0.6612\n",
      "Epoch 92/100\n",
      "31/31 [==============================] - 83s 3s/step - loss: 0.2093 - accuracy: 0.6708 - val_loss: 0.1992 - val_accuracy: 0.6818\n",
      "Epoch 93/100\n",
      "31/31 [==============================] - 83s 3s/step - loss: 0.2095 - accuracy: 0.6646 - val_loss: 0.1989 - val_accuracy: 0.6694\n",
      "Epoch 94/100\n",
      "31/31 [==============================] - 84s 3s/step - loss: 0.2094 - accuracy: 0.6656 - val_loss: 0.1990 - val_accuracy: 0.6612\n",
      "Epoch 95/100\n",
      "31/31 [==============================] - 84s 3s/step - loss: 0.2088 - accuracy: 0.6615 - val_loss: 0.1995 - val_accuracy: 0.6612\n",
      "Epoch 96/100\n",
      "31/31 [==============================] - 83s 3s/step - loss: 0.2093 - accuracy: 0.6698 - val_loss: 0.1990 - val_accuracy: 0.6612\n",
      "Epoch 97/100\n",
      "31/31 [==============================] - 84s 3s/step - loss: 0.2091 - accuracy: 0.6615 - val_loss: 0.1988 - val_accuracy: 0.6570\n",
      "Epoch 98/100\n",
      "31/31 [==============================] - 84s 3s/step - loss: 0.2092 - accuracy: 0.6584 - val_loss: 0.1989 - val_accuracy: 0.6612\n",
      "Epoch 99/100\n",
      "31/31 [==============================] - 84s 3s/step - loss: 0.2092 - accuracy: 0.6625 - val_loss: 0.1992 - val_accuracy: 0.6653\n",
      "Epoch 100/100\n",
      "31/31 [==============================] - 84s 3s/step - loss: 0.2103 - accuracy: 0.6615 - val_loss: 0.1998 - val_accuracy: 0.6860\n",
      "The current local time is : Wed Apr  6 17:30:33 2022\n"
     ]
    }
   ],
   "source": [
    "# ===================================================================================\n",
    "#                                     Training\n",
    "# ===================================================================================\n",
    "\n",
    "opt = keras.optimizers.Adam(learning_rate=0.001)\n",
    "\n",
    "model.compile(opt, loss = 'MSE', metrics = ['accuracy'])\n",
    "print('The current local time is :', time.ctime())\n",
    "history = model.fit(X_train, \n",
    "                    y_train,\n",
    "                    epochs = 100,\n",
    "               #     batch_size = 190,\n",
    "                    shuffle = True,\n",
    "                    validation_data=(X_test, y_test))\n",
    "print('The current local time is :', time.ctime())"
   ]
  },
  {
   "cell_type": "code",
   "execution_count": 27,
   "id": "08a485cf",
   "metadata": {
    "colab": {
     "base_uri": "https://localhost:8080/",
     "height": 301
    },
    "id": "08a485cf",
    "outputId": "2d27467a-d396-4a09-e193-dafca0344458"
   },
   "outputs": [
    {
     "data": {
      "image/png": "[encoded data removed]",
      "text/plain": [
       "<Figure size 432x288 with 1 Axes>"
      ]
     },
     "metadata": {},
     "output_type": "display_data"
    }
   ],
   "source": [
    "# ===================================================================================\n",
    "#                                  Loss History Plot\n",
    "# ===================================================================================\n",
    "\n",
    "plt.title('model loss')\n",
    "plt.plot(history.history['loss'], '-g', label = 'training loss')\n",
    "plt.plot(history.history['val_loss'], '-r', label = 'validation loss')\n",
    "plt.xlabel('epoch')\n",
    "plt.ylabel('loss')\n",
    "plt.legend(loc='upper right')\n",
    "plt.show()"
   ]
  },
  {
   "cell_type": "code",
   "execution_count": 28,
   "id": "8d2b929e",
   "metadata": {
    "colab": {
     "base_uri": "https://localhost:8080/",
     "height": 301
    },
    "id": "8d2b929e",
    "outputId": "f6243fdf-ea0b-4a36-983f-ef94362b8fe8",
    "scrolled": true
   },
   "outputs": [
    {
     "data": {
      "image/png": "[encoded data removed]",
      "text/plain": [
       "<Figure size 432x288 with 1 Axes>"
      ]
     },
     "metadata": {},
     "output_type": "display_data"
    }
   ],
   "source": [
    "# ===================================================================================\n",
    "#                                Accuracy History Plot\n",
    "# ===================================================================================\n",
    "\n",
    "plt.title('model accuracy')\n",
    "plt.plot(history.history['accuracy'], '-g', label = 'training accuracy')\n",
    "plt.plot(history.history['val_accuracy'], '-r', label = 'validation accuracy')\n",
    "plt.xlabel('epoch')\n",
    "plt.ylabel('accuracy')\n",
    "plt.legend(loc='lower right')\n",
    "plt.show()"
   ]
  },
  {
   "cell_type": "code",
   "execution_count": 29,
   "id": "6246c82e",
   "metadata": {
    "colab": {
     "base_uri": "https://localhost:8080/"
    },
    "id": "6246c82e",
    "outputId": "db308687-9306-4bb1-f5f5-6443480cc913"
   },
   "outputs": [
    {
     "data": {
      "text/plain": [
       "<tf.Tensor: shape=(242, 9), dtype=float64, numpy=\n",
       "array([[ 0.41759295,  1.04463554,  0.28671008, ..., -1.0061123 ,\n",
       "        -0.82419727, -0.74946523],\n",
       "       [ 0.40042726,  0.06118082,  0.77089035, ...,  0.61963034,\n",
       "         0.66354522,  2.35481877],\n",
       "       [ 0.53775275,  0.85597784,  0.4101923 , ..., -0.62965613,\n",
       "        -1.03749994,  2.28965255],\n",
       "       ...,\n",
       "       [-0.8515235 , -0.98612423, -0.88095507, ...,  0.80704137,\n",
       "         1.04656523, -0.02563047],\n",
       "       [-0.22211498, -0.38014615, -0.6264084 , ...,  0.2742035 ,\n",
       "         0.09768802,  0.02851204],\n",
       "       [-0.01669893, -0.2260651 , -0.18338887, ...,  0.38287263,\n",
       "         0.54949322,  0.01374987]])>"
      ]
     },
     "execution_count": 29,
     "metadata": {},
     "output_type": "execute_result"
    }
   ],
   "source": [
    "X_test"
   ]
  },
  {
   "cell_type": "code",
   "execution_count": 30,
   "id": "9286c585",
   "metadata": {
    "id": "9286c585"
   },
   "outputs": [],
   "source": [
    "y_predict = model.predict(X_test)\n",
    "\n",
    "def preb(model,test_X,y_actual,labels=[1, 0],threshold=0.5):\n",
    "    for i in range(len(y_actual)):\n",
    "            if y_predict[i]>threshold:\n",
    "                y_predict[i]=1 \n",
    "            else:\n",
    "                y_predict[i]=0\n",
    "    return y_predict"
   ]
  },
  {
   "cell_type": "code",
   "execution_count": 31,
   "id": "47936958",
   "metadata": {
    "id": "47936958"
   },
   "outputs": [],
   "source": [
    "X_preb= preb(model,X_test,y_test,threshold=0.5)"
   ]
  },
  {
   "cell_type": "code",
   "execution_count": 33,
   "id": "dc13569e",
   "metadata": {
    "colab": {
     "base_uri": "https://localhost:8080/",
     "height": 372
    },
    "id": "dc13569e",
    "outputId": "30cc1689-9836-4968-a8b1-30cdd3a3f3d0"
   },
   "outputs": [
    {
     "data": {
      "image/png": "[encoded data removed]",
      "text/plain": [
       "<Figure size 504x360 with 1 Axes>"
      ]
     },
     "metadata": {},
     "output_type": "display_data"
    },
    {
     "name": "stdout",
     "output_type": "stream",
     "text": [
      "The optimal threshold is: 0.5234474\n"
     ]
    }
   ],
   "source": [
    "make_ROC(model)"
   ]
  },
  {
   "cell_type": "code",
   "execution_count": 34,
   "id": "8085e9a6",
   "metadata": {
    "colab": {
     "base_uri": "https://localhost:8080/",
     "height": 448
    },
    "id": "8085e9a6",
    "outputId": "2be73612-9ab4-4db0-b17f-8be290df85ea"
   },
   "outputs": [
    {
     "data": {
      "image/png": "[encoded data removed]",
      "text/plain": [
       "<Figure size 720x504 with 2 Axes>"
      ]
     },
     "metadata": {},
     "output_type": "display_data"
    }
   ],
   "source": [
    "make_confusion_matrix(model,X_test,y_test,threshold=0.5)"
   ]
  },
  {
   "cell_type": "code",
   "execution_count": 35,
   "id": "27712601",
   "metadata": {
    "colab": {
     "base_uri": "https://localhost:8080/"
    },
    "id": "27712601",
    "outputId": "77308a55-085f-4916-da5f-d393885ed008",
    "scrolled": true
   },
   "outputs": [
    {
     "name": "stdout",
     "output_type": "stream",
     "text": [
      "              precision    recall  f1-score   support\n",
      "\n",
      "           0       0.60      0.65      0.62        96\n",
      "           1       0.75      0.71      0.73       146\n",
      "\n",
      "    accuracy                           0.69       242\n",
      "   macro avg       0.67      0.68      0.68       242\n",
      "weighted avg       0.69      0.69      0.69       242\n",
      "\n"
     ]
    }
   ],
   "source": [
    "print(classification_report(X_preb, y_test, labels=[0, 1]))"
   ]
  },
  {
   "cell_type": "code",
   "execution_count": 36,
   "id": "324cc4cd",
   "metadata": {
    "colab": {
     "base_uri": "https://localhost:8080/"
    },
    "id": "324cc4cd",
    "outputId": "56d317b8-a5d9-45b2-ff65-ebdda3a2f80b"
   },
   "outputs": [
    {
     "name": "stdout",
     "output_type": "stream",
     "text": [
      "Accuracy on training set :  0.6739130434782609\n",
      "Accuracy on test set :  0.6859504132231405\n",
      "Recall on training set :  0.7527272727272727\n",
      "Recall on test set :  0.7536231884057971\n",
      "Precision on training set :  0.6981450252951096\n",
      "Precision on test set :  0.7123287671232876\n",
      "F1 on training set :  0.7244094488188976\n",
      "F1 on test set :  0.732394366197183\n"
     ]
    }
   ],
   "source": [
    "\n",
    "get_metrics_score(model,X_train,X_test,y_train,y_test,threshold=0.5)"
   ]
  }
 ],
 "metadata": {
  "colab": {
   "name": "QNN4-Copy2.ipynb",
   "provenance": []
  },
  "kernelspec": {
   "display_name": "Python 3 (ipykernel)",
   "language": "python",
   "name": "python3"
  },
  "language_info": {
   "codemirror_mode": {
    "name": "ipython",
    "version": 3
   },
   "file_extension": ".py",
   "mimetype": "text/x-python",
   "name": "python",
   "nbconvert_exporter": "python",
   "pygments_lexer": "ipython3",
   "version": "3.9.7"
  }
 },
 "nbformat": 4,
 "nbformat_minor": 5
}
