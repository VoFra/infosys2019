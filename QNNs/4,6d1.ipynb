{
 "cells": [
  {
   "cell_type": "code",
   "execution_count": 1,
   "id": "45Z-CS8IfrYM",
   "metadata": {
    "colab": {
     "base_uri": "https://localhost:8080/"
    },
    "id": "45Z-CS8IfrYM",
    "outputId": "be84a0ec-8952-4e5b-dd22-ccc3863dac72"
   },
   "outputs": [
    {
     "name": "stdout",
     "output_type": "stream",
     "text": [
      "Requirement already satisfied: pennylane in /usr/local/lib/python3.7/dist-packages (0.22.2)\n",
      "Requirement already satisfied: retworkx in /usr/local/lib/python3.7/dist-packages (from pennylane) (0.11.0)\n",
      "Requirement already satisfied: networkx in /usr/local/lib/python3.7/dist-packages (from pennylane) (2.6.3)\n",
      "Requirement already satisfied: semantic-version==2.6 in /usr/local/lib/python3.7/dist-packages (from pennylane) (2.6.0)\n",
      "Requirement already satisfied: pennylane-lightning>=0.22 in /usr/local/lib/python3.7/dist-packages (from pennylane) (0.22.1)\n",
      "Requirement already satisfied: appdirs in /usr/local/lib/python3.7/dist-packages (from pennylane) (1.4.4)\n",
      "Requirement already satisfied: autograd in /usr/local/lib/python3.7/dist-packages (from pennylane) (1.3)\n",
      "Requirement already satisfied: scipy in /usr/local/lib/python3.7/dist-packages (from pennylane) (1.4.1)\n",
      "Requirement already satisfied: toml in /usr/local/lib/python3.7/dist-packages (from pennylane) (0.10.2)\n",
      "Requirement already satisfied: autoray in /usr/local/lib/python3.7/dist-packages (from pennylane) (0.2.5)\n",
      "Requirement already satisfied: numpy in /usr/local/lib/python3.7/dist-packages (from pennylane) (1.21.5)\n",
      "Requirement already satisfied: cachetools in /usr/local/lib/python3.7/dist-packages (from pennylane) (4.2.4)\n",
      "Requirement already satisfied: ninja in /usr/local/lib/python3.7/dist-packages (from pennylane-lightning>=0.22->pennylane) (1.10.2.3)\n",
      "Requirement already satisfied: future>=0.15.2 in /usr/local/lib/python3.7/dist-packages (from autograd->pennylane) (0.16.0)\n"
     ]
    }
   ],
   "source": [
    "pip install pennylane"
   ]
  },
  {
   "cell_type": "code",
   "execution_count": 2,
   "id": "8a3177dc",
   "metadata": {
    "id": "8a3177dc"
   },
   "outputs": [],
   "source": [
    "import pandas as pd\n",
    "import numpy as np\n",
    "from sklearn.model_selection import train_test_split\n",
    "from sklearn.preprocessing import StandardScaler\n",
    "\n",
    "import tensorflow as tf\n",
    "from tensorflow import keras\n",
    "from tensorflow.keras import layers\n",
    "\n",
    "import pennylane as qml\n",
    "\n",
    "import matplotlib.pyplot as plt\n",
    "import imblearn\n",
    "\n",
    "import time\n",
    "import torch"
   ]
  },
  {
   "cell_type": "code",
   "execution_count": 3,
   "id": "e8df8e93",
   "metadata": {
    "id": "e8df8e93"
   },
   "outputs": [],
   "source": [
    "import seaborn as sns\n",
    "sns.set(color_codes=True) #to make things look a little prettier"
   ]
  },
  {
   "cell_type": "code",
   "execution_count": 4,
   "id": "8261dbb5",
   "metadata": {
    "id": "8261dbb5"
   },
   "outputs": [],
   "source": [
    "# Libraries to split data, and process data \n",
    "from sklearn.model_selection import train_test_split\n",
    "from sklearn.preprocessing import StandardScaler\n",
    "from imblearn.over_sampling import SMOTE"
   ]
  },
  {
   "cell_type": "code",
   "execution_count": 5,
   "id": "9c379a6f",
   "metadata": {
    "id": "9c379a6f"
   },
   "outputs": [],
   "source": [
    "# import libraries to help evaluate our models\n",
    "from sklearn import metrics\n",
    "from sklearn.metrics import confusion_matrix, classification_report, accuracy_score, precision_score, recall_score, f1_score\n",
    "from sklearn.metrics import roc_auc_score, roc_curve"
   ]
  },
  {
   "cell_type": "code",
   "execution_count": 6,
   "id": "1a466dd0",
   "metadata": {
    "id": "1a466dd0"
   },
   "outputs": [],
   "source": [
    "data = pd.read_csv('merge.csv')"
   ]
  },
  {
   "cell_type": "code",
   "execution_count": 7,
   "id": "07aa9cf4",
   "metadata": {
    "colab": {
     "base_uri": "https://localhost:8080/",
     "height": 267
    },
    "id": "07aa9cf4",
    "outputId": "9a338363-a251-49ac-991b-65c428bf5d4a"
   },
   "outputs": [
    {
     "data": {
      "text/html": [
       "\n",
       "  <div id=\"df-4e9c4c6e-5d52-4de3-bc66-54efe62c2ad0\">\n",
       "    <div class=\"colab-df-container\">\n",
       "      <div>\n",
       "<style scoped>\n",
       "    .dataframe tbody tr th:only-of-type {\n",
       "        vertical-align: middle;\n",
       "    }\n",
       "\n",
       "    .dataframe tbody tr th {\n",
       "        vertical-align: top;\n",
       "    }\n",
       "\n",
       "    .dataframe thead th {\n",
       "        text-align: right;\n",
       "    }\n",
       "</style>\n",
       "<table border=\"1\" class=\"dataframe\">\n",
       "  <thead>\n",
       "    <tr style=\"text-align: right;\">\n",
       "      <th></th>\n",
       "      <th>Jitter (local)</th>\n",
       "      <th>Jitter (local absolute)</th>\n",
       "      <th>Jitter (rap)</th>\n",
       "      <th>Shimmer (local)</th>\n",
       "      <th>Shimmer (apq5)</th>\n",
       "      <th>HTN</th>\n",
       "      <th>Mean pitch</th>\n",
       "      <th>Minimum pitch</th>\n",
       "      <th>Maximum pitch</th>\n",
       "      <th>class information</th>\n",
       "    </tr>\n",
       "  </thead>\n",
       "  <tbody>\n",
       "    <tr>\n",
       "      <th>0</th>\n",
       "      <td>1.488</td>\n",
       "      <td>0.000090</td>\n",
       "      <td>0.900</td>\n",
       "      <td>8.334</td>\n",
       "      <td>4.609</td>\n",
       "      <td>11.130</td>\n",
       "      <td>164.781</td>\n",
       "      <td>142.229</td>\n",
       "      <td>187.576</td>\n",
       "      <td>1</td>\n",
       "    </tr>\n",
       "    <tr>\n",
       "      <th>1</th>\n",
       "      <td>0.728</td>\n",
       "      <td>0.000038</td>\n",
       "      <td>0.353</td>\n",
       "      <td>5.864</td>\n",
       "      <td>3.180</td>\n",
       "      <td>17.403</td>\n",
       "      <td>193.289</td>\n",
       "      <td>159.515</td>\n",
       "      <td>234.505</td>\n",
       "      <td>1</td>\n",
       "    </tr>\n",
       "    <tr>\n",
       "      <th>2</th>\n",
       "      <td>1.220</td>\n",
       "      <td>0.000074</td>\n",
       "      <td>0.732</td>\n",
       "      <td>8.719</td>\n",
       "      <td>5.166</td>\n",
       "      <td>12.212</td>\n",
       "      <td>164.768</td>\n",
       "      <td>146.445</td>\n",
       "      <td>211.442</td>\n",
       "      <td>1</td>\n",
       "    </tr>\n",
       "    <tr>\n",
       "      <th>3</th>\n",
       "      <td>2.502</td>\n",
       "      <td>0.000123</td>\n",
       "      <td>1.156</td>\n",
       "      <td>13.513</td>\n",
       "      <td>8.771</td>\n",
       "      <td>11.384</td>\n",
       "      <td>203.471</td>\n",
       "      <td>182.713</td>\n",
       "      <td>220.230</td>\n",
       "      <td>1</td>\n",
       "    </tr>\n",
       "    <tr>\n",
       "      <th>4</th>\n",
       "      <td>3.509</td>\n",
       "      <td>0.000167</td>\n",
       "      <td>1.715</td>\n",
       "      <td>9.112</td>\n",
       "      <td>4.927</td>\n",
       "      <td>10.653</td>\n",
       "      <td>208.440</td>\n",
       "      <td>182.821</td>\n",
       "      <td>225.162</td>\n",
       "      <td>1</td>\n",
       "    </tr>\n",
       "  </tbody>\n",
       "</table>\n",
       "</div>\n",
       "      <button class=\"colab-df-convert\" onclick=\"convertToInteractive('df-4e9c4c6e-5d52-4de3-bc66-54efe62c2ad0')\"\n",
       "              title=\"Convert this dataframe to an interactive table.\"\n",
       "              style=\"display:none;\">\n",
       "        \n",
       "  <svg xmlns=\"http://www.w3.org/2000/svg\" height=\"24px\"viewBox=\"0 0 24 24\"\n",
       "       width=\"24px\">\n",
       "    <path d=\"M0 0h24v24H0V0z\" fill=\"none\"/>\n",
       "    <path d=\"M18.56 5.44l.94 2.06.94-2.06 2.06-.94-2.06-.94-.94-2.06-.94 2.06-2.06.94zm-11 1L8.5 8.5l.94-2.06 2.06-.94-2.06-.94L8.5 2.5l-.94 2.06-2.06.94zm10 10l.94 2.06.94-2.06 2.06-.94-2.06-.94-.94-2.06-.94 2.06-2.06.94z\"/><path d=\"M17.41 7.96l-1.37-1.37c-.4-.4-.92-.59-1.43-.59-.52 0-1.04.2-1.43.59L10.3 9.45l-7.72 7.72c-.78.78-.78 2.05 0 2.83L4 21.41c.39.39.9.59 1.41.59.51 0 1.02-.2 1.41-.59l7.78-7.78 2.81-2.81c.8-.78.8-2.07 0-2.86zM5.41 20L4 18.59l7.72-7.72 1.47 1.35L5.41 20z\"/>\n",
       "  </svg>\n",
       "      </button>\n",
       "      \n",
       "  <style>\n",
       "    .colab-df-container {\n",
       "      display:flex;\n",
       "      flex-wrap:wrap;\n",
       "      gap: 12px;\n",
       "    }\n",
       "\n",
       "    .colab-df-convert {\n",
       "      background-color: #E8F0FE;\n",
       "      border: none;\n",
       "      border-radius: 50%;\n",
       "      cursor: pointer;\n",
       "      display: none;\n",
       "      fill: #1967D2;\n",
       "      height: 32px;\n",
       "      padding: 0 0 0 0;\n",
       "      width: 32px;\n",
       "    }\n",
       "\n",
       "    .colab-df-convert:hover {\n",
       "      background-color: #E2EBFA;\n",
       "      box-shadow: 0px 1px 2px rgba(60, 64, 67, 0.3), 0px 1px 3px 1px rgba(60, 64, 67, 0.15);\n",
       "      fill: #174EA6;\n",
       "    }\n",
       "\n",
       "    [theme=dark] .colab-df-convert {\n",
       "      background-color: #3B4455;\n",
       "      fill: #D2E3FC;\n",
       "    }\n",
       "\n",
       "    [theme=dark] .colab-df-convert:hover {\n",
       "      background-color: #434B5C;\n",
       "      box-shadow: 0px 1px 3px 1px rgba(0, 0, 0, 0.15);\n",
       "      filter: drop-shadow(0px 1px 2px rgba(0, 0, 0, 0.3));\n",
       "      fill: #FFFFFF;\n",
       "    }\n",
       "  </style>\n",
       "\n",
       "      <script>\n",
       "        const buttonEl =\n",
       "          document.querySelector('#df-4e9c4c6e-5d52-4de3-bc66-54efe62c2ad0 button.colab-df-convert');\n",
       "        buttonEl.style.display =\n",
       "          google.colab.kernel.accessAllowed ? 'block' : 'none';\n",
       "\n",
       "        async function convertToInteractive(key) {\n",
       "          const element = document.querySelector('#df-4e9c4c6e-5d52-4de3-bc66-54efe62c2ad0');\n",
       "          const dataTable =\n",
       "            await google.colab.kernel.invokeFunction('convertToInteractive',\n",
       "                                                     [key], {});\n",
       "          if (!dataTable) return;\n",
       "\n",
       "          const docLinkHtml = 'Like what you see? Visit the ' +\n",
       "            '<a target=\"_blank\" href=https://colab.research.google.com/notebooks/data_table.ipynb>data table notebook</a>'\n",
       "            + ' to learn more about interactive tables.';\n",
       "          element.innerHTML = '';\n",
       "          dataTable['output_type'] = 'display_data';\n",
       "          await google.colab.output.renderOutput(dataTable, element);\n",
       "          const docLink = document.createElement('div');\n",
       "          docLink.innerHTML = docLinkHtml;\n",
       "          element.appendChild(docLink);\n",
       "        }\n",
       "      </script>\n",
       "    </div>\n",
       "  </div>\n",
       "  "
      ],
      "text/plain": [
       "   Jitter (local)  Jitter (local absolute)  Jitter (rap)  Shimmer (local)  \\\n",
       "0           1.488                 0.000090         0.900            8.334   \n",
       "1           0.728                 0.000038         0.353            5.864   \n",
       "2           1.220                 0.000074         0.732            8.719   \n",
       "3           2.502                 0.000123         1.156           13.513   \n",
       "4           3.509                 0.000167         1.715            9.112   \n",
       "\n",
       "   Shimmer (apq5)     HTN  Mean pitch  Minimum pitch  Maximum pitch  \\\n",
       "0           4.609  11.130     164.781        142.229        187.576   \n",
       "1           3.180  17.403     193.289        159.515        234.505   \n",
       "2           5.166  12.212     164.768        146.445        211.442   \n",
       "3           8.771  11.384     203.471        182.713        220.230   \n",
       "4           4.927  10.653     208.440        182.821        225.162   \n",
       "\n",
       "   class information  \n",
       "0                  1  \n",
       "1                  1  \n",
       "2                  1  \n",
       "3                  1  \n",
       "4                  1  "
      ]
     },
     "execution_count": 7,
     "metadata": {},
     "output_type": "execute_result"
    }
   ],
   "source": [
    "data.drop(['id patient', 'Jitter (ppq5)',\n",
    "         'Jitter (ddp)','Shimmer (local dB)','Shimmer (apq3)','Shimmer (apq11)',\n",
    "         'Shimmer (dda)','AC','NTH','Median pitch','Standard deviation',\n",
    "         'Number of pulses','Number of periods','Mean period',\n",
    "         'Standard deviation of period','Fraction of locally unvoiced frames','Number of voice breaks',\n",
    "         'Degree of voice breaks','UPDRS',], inplace=True, axis=1)        \n",
    "        \n",
    "        \n",
    "data.head()"
   ]
  },
  {
   "cell_type": "code",
   "execution_count": 8,
   "id": "9a5d998c",
   "metadata": {
    "colab": {
     "base_uri": "https://localhost:8080/"
    },
    "id": "9a5d998c",
    "outputId": "2b6790b2-0999-4937-c14b-89c55c4c44e5"
   },
   "outputs": [
    {
     "data": {
      "text/plain": [
       "(1208, 10)"
      ]
     },
     "execution_count": 8,
     "metadata": {},
     "output_type": "execute_result"
    }
   ],
   "source": [
    "data.shape"
   ]
  },
  {
   "cell_type": "code",
   "execution_count": 9,
   "id": "15625e00",
   "metadata": {
    "id": "15625e00"
   },
   "outputs": [],
   "source": [
    "# Separating target variable and other variables\n",
    "X = data.drop(columns=\"class information\")\n",
    "y = data[\"class information\"]"
   ]
  },
  {
   "cell_type": "code",
   "execution_count": 10,
   "id": "bfa6e58b",
   "metadata": {
    "id": "bfa6e58b"
   },
   "outputs": [],
   "source": [
    "# Let's split the data into a train and test sets. \n",
    "# I will use the stratify parameter to maintain the ratio of classes in the dependent variable\n",
    "X_train, X_test, y_train, y_test = train_test_split(X, y, test_size=0.4, random_state=2, stratify=y)"
   ]
  },
  {
   "cell_type": "code",
   "execution_count": 11,
   "id": "761eb136",
   "metadata": {
    "colab": {
     "base_uri": "https://localhost:8080/"
    },
    "id": "761eb136",
    "outputId": "260b01e9-abea-45fe-fa6e-4e8a790adae9"
   },
   "outputs": [
    {
     "name": "stdout",
     "output_type": "stream",
     "text": [
      "59.93% data is in training set\n",
      "40.07% data is in test set\n"
     ]
    }
   ],
   "source": [
    "# Check the split of the data\n",
    "print(\"{0:0.2f}% data is in training set\".format((len(X_train)/len(data.index)) * 100))\n",
    "print(\"{0:0.2f}% data is in test set\".format((len(X_test)/len(data.index)) * 100))"
   ]
  },
  {
   "cell_type": "code",
   "execution_count": 12,
   "id": "498e29fa",
   "metadata": {
    "colab": {
     "base_uri": "https://localhost:8080/",
     "height": 467
    },
    "id": "498e29fa",
    "outputId": "2bee044b-a7b1-4608-ed78-0df2e51a81f8",
    "scrolled": true
   },
   "outputs": [
    {
     "data": {
      "text/html": [
       "\n",
       "  <div id=\"df-39cac1ae-b4b3-4dc6-82d5-29828d7d5d94\">\n",
       "    <div class=\"colab-df-container\">\n",
       "      <div>\n",
       "<style scoped>\n",
       "    .dataframe tbody tr th:only-of-type {\n",
       "        vertical-align: middle;\n",
       "    }\n",
       "\n",
       "    .dataframe tbody tr th {\n",
       "        vertical-align: top;\n",
       "    }\n",
       "\n",
       "    .dataframe thead th {\n",
       "        text-align: right;\n",
       "    }\n",
       "</style>\n",
       "<table border=\"1\" class=\"dataframe\">\n",
       "  <thead>\n",
       "    <tr style=\"text-align: right;\">\n",
       "      <th></th>\n",
       "      <th>Jitter (local)</th>\n",
       "      <th>Jitter (local absolute)</th>\n",
       "      <th>Jitter (rap)</th>\n",
       "      <th>Shimmer (local)</th>\n",
       "      <th>Shimmer (apq5)</th>\n",
       "      <th>HTN</th>\n",
       "      <th>Mean pitch</th>\n",
       "      <th>Minimum pitch</th>\n",
       "      <th>Maximum pitch</th>\n",
       "    </tr>\n",
       "  </thead>\n",
       "  <tbody>\n",
       "    <tr>\n",
       "      <th>855</th>\n",
       "      <td>1.976</td>\n",
       "      <td>0.000122</td>\n",
       "      <td>0.739</td>\n",
       "      <td>20.587</td>\n",
       "      <td>11.787</td>\n",
       "      <td>3.076</td>\n",
       "      <td>161.857</td>\n",
       "      <td>142.273</td>\n",
       "      <td>182.871</td>\n",
       "    </tr>\n",
       "    <tr>\n",
       "      <th>1186</th>\n",
       "      <td>0.436</td>\n",
       "      <td>0.000024</td>\n",
       "      <td>0.258</td>\n",
       "      <td>4.017</td>\n",
       "      <td>2.606</td>\n",
       "      <td>18.664</td>\n",
       "      <td>184.765</td>\n",
       "      <td>178.577</td>\n",
       "      <td>192.580</td>\n",
       "    </tr>\n",
       "    <tr>\n",
       "      <th>548</th>\n",
       "      <td>0.567</td>\n",
       "      <td>0.000042</td>\n",
       "      <td>0.285</td>\n",
       "      <td>5.786</td>\n",
       "      <td>3.654</td>\n",
       "      <td>16.849</td>\n",
       "      <td>135.975</td>\n",
       "      <td>122.999</td>\n",
       "      <td>143.743</td>\n",
       "    </tr>\n",
       "    <tr>\n",
       "      <th>1047</th>\n",
       "      <td>0.606</td>\n",
       "      <td>0.000065</td>\n",
       "      <td>0.162</td>\n",
       "      <td>5.351</td>\n",
       "      <td>3.295</td>\n",
       "      <td>15.913</td>\n",
       "      <td>92.935</td>\n",
       "      <td>80.332</td>\n",
       "      <td>98.876</td>\n",
       "    </tr>\n",
       "    <tr>\n",
       "      <th>1127</th>\n",
       "      <td>0.181</td>\n",
       "      <td>0.000007</td>\n",
       "      <td>0.095</td>\n",
       "      <td>2.245</td>\n",
       "      <td>1.569</td>\n",
       "      <td>26.864</td>\n",
       "      <td>243.320</td>\n",
       "      <td>229.429</td>\n",
       "      <td>255.224</td>\n",
       "    </tr>\n",
       "    <tr>\n",
       "      <th>...</th>\n",
       "      <td>...</td>\n",
       "      <td>...</td>\n",
       "      <td>...</td>\n",
       "      <td>...</td>\n",
       "      <td>...</td>\n",
       "      <td>...</td>\n",
       "      <td>...</td>\n",
       "      <td>...</td>\n",
       "      <td>...</td>\n",
       "    </tr>\n",
       "    <tr>\n",
       "      <th>862</th>\n",
       "      <td>3.322</td>\n",
       "      <td>0.000266</td>\n",
       "      <td>1.813</td>\n",
       "      <td>10.730</td>\n",
       "      <td>4.321</td>\n",
       "      <td>10.664</td>\n",
       "      <td>124.813</td>\n",
       "      <td>114.426</td>\n",
       "      <td>135.935</td>\n",
       "    </tr>\n",
       "    <tr>\n",
       "      <th>1122</th>\n",
       "      <td>0.422</td>\n",
       "      <td>0.000024</td>\n",
       "      <td>0.235</td>\n",
       "      <td>8.788</td>\n",
       "      <td>5.359</td>\n",
       "      <td>17.566</td>\n",
       "      <td>174.153</td>\n",
       "      <td>171.475</td>\n",
       "      <td>177.129</td>\n",
       "    </tr>\n",
       "    <tr>\n",
       "      <th>468</th>\n",
       "      <td>1.046</td>\n",
       "      <td>0.000058</td>\n",
       "      <td>0.562</td>\n",
       "      <td>10.224</td>\n",
       "      <td>6.203</td>\n",
       "      <td>11.706</td>\n",
       "      <td>181.084</td>\n",
       "      <td>96.543</td>\n",
       "      <td>203.661</td>\n",
       "    </tr>\n",
       "    <tr>\n",
       "      <th>422</th>\n",
       "      <td>2.140</td>\n",
       "      <td>0.000158</td>\n",
       "      <td>0.828</td>\n",
       "      <td>7.529</td>\n",
       "      <td>3.592</td>\n",
       "      <td>12.595</td>\n",
       "      <td>135.570</td>\n",
       "      <td>117.852</td>\n",
       "      <td>146.737</td>\n",
       "    </tr>\n",
       "    <tr>\n",
       "      <th>1080</th>\n",
       "      <td>0.612</td>\n",
       "      <td>0.000029</td>\n",
       "      <td>0.362</td>\n",
       "      <td>6.393</td>\n",
       "      <td>4.180</td>\n",
       "      <td>20.667</td>\n",
       "      <td>212.321</td>\n",
       "      <td>108.060</td>\n",
       "      <td>246.582</td>\n",
       "    </tr>\n",
       "  </tbody>\n",
       "</table>\n",
       "<p>724 rows × 9 columns</p>\n",
       "</div>\n",
       "      <button class=\"colab-df-convert\" onclick=\"convertToInteractive('df-39cac1ae-b4b3-4dc6-82d5-29828d7d5d94')\"\n",
       "              title=\"Convert this dataframe to an interactive table.\"\n",
       "              style=\"display:none;\">\n",
       "        \n",
       "  <svg xmlns=\"http://www.w3.org/2000/svg\" height=\"24px\"viewBox=\"0 0 24 24\"\n",
       "       width=\"24px\">\n",
       "    <path d=\"M0 0h24v24H0V0z\" fill=\"none\"/>\n",
       "    <path d=\"M18.56 5.44l.94 2.06.94-2.06 2.06-.94-2.06-.94-.94-2.06-.94 2.06-2.06.94zm-11 1L8.5 8.5l.94-2.06 2.06-.94-2.06-.94L8.5 2.5l-.94 2.06-2.06.94zm10 10l.94 2.06.94-2.06 2.06-.94-2.06-.94-.94-2.06-.94 2.06-2.06.94z\"/><path d=\"M17.41 7.96l-1.37-1.37c-.4-.4-.92-.59-1.43-.59-.52 0-1.04.2-1.43.59L10.3 9.45l-7.72 7.72c-.78.78-.78 2.05 0 2.83L4 21.41c.39.39.9.59 1.41.59.51 0 1.02-.2 1.41-.59l7.78-7.78 2.81-2.81c.8-.78.8-2.07 0-2.86zM5.41 20L4 18.59l7.72-7.72 1.47 1.35L5.41 20z\"/>\n",
       "  </svg>\n",
       "      </button>\n",
       "      \n",
       "  <style>\n",
       "    .colab-df-container {\n",
       "      display:flex;\n",
       "      flex-wrap:wrap;\n",
       "      gap: 12px;\n",
       "    }\n",
       "\n",
       "    .colab-df-convert {\n",
       "      background-color: #E8F0FE;\n",
       "      border: none;\n",
       "      border-radius: 50%;\n",
       "      cursor: pointer;\n",
       "      display: none;\n",
       "      fill: #1967D2;\n",
       "      height: 32px;\n",
       "      padding: 0 0 0 0;\n",
       "      width: 32px;\n",
       "    }\n",
       "\n",
       "    .colab-df-convert:hover {\n",
       "      background-color: #E2EBFA;\n",
       "      box-shadow: 0px 1px 2px rgba(60, 64, 67, 0.3), 0px 1px 3px 1px rgba(60, 64, 67, 0.15);\n",
       "      fill: #174EA6;\n",
       "    }\n",
       "\n",
       "    [theme=dark] .colab-df-convert {\n",
       "      background-color: #3B4455;\n",
       "      fill: #D2E3FC;\n",
       "    }\n",
       "\n",
       "    [theme=dark] .colab-df-convert:hover {\n",
       "      background-color: #434B5C;\n",
       "      box-shadow: 0px 1px 3px 1px rgba(0, 0, 0, 0.15);\n",
       "      filter: drop-shadow(0px 1px 2px rgba(0, 0, 0, 0.3));\n",
       "      fill: #FFFFFF;\n",
       "    }\n",
       "  </style>\n",
       "\n",
       "      <script>\n",
       "        const buttonEl =\n",
       "          document.querySelector('#df-39cac1ae-b4b3-4dc6-82d5-29828d7d5d94 button.colab-df-convert');\n",
       "        buttonEl.style.display =\n",
       "          google.colab.kernel.accessAllowed ? 'block' : 'none';\n",
       "\n",
       "        async function convertToInteractive(key) {\n",
       "          const element = document.querySelector('#df-39cac1ae-b4b3-4dc6-82d5-29828d7d5d94');\n",
       "          const dataTable =\n",
       "            await google.colab.kernel.invokeFunction('convertToInteractive',\n",
       "                                                     [key], {});\n",
       "          if (!dataTable) return;\n",
       "\n",
       "          const docLinkHtml = 'Like what you see? Visit the ' +\n",
       "            '<a target=\"_blank\" href=https://colab.research.google.com/notebooks/data_table.ipynb>data table notebook</a>'\n",
       "            + ' to learn more about interactive tables.';\n",
       "          element.innerHTML = '';\n",
       "          dataTable['output_type'] = 'display_data';\n",
       "          await google.colab.output.renderOutput(dataTable, element);\n",
       "          const docLink = document.createElement('div');\n",
       "          docLink.innerHTML = docLinkHtml;\n",
       "          element.appendChild(docLink);\n",
       "        }\n",
       "      </script>\n",
       "    </div>\n",
       "  </div>\n",
       "  "
      ],
      "text/plain": [
       "      Jitter (local)  Jitter (local absolute)  Jitter (rap)  Shimmer (local)  \\\n",
       "855            1.976                 0.000122         0.739           20.587   \n",
       "1186           0.436                 0.000024         0.258            4.017   \n",
       "548            0.567                 0.000042         0.285            5.786   \n",
       "1047           0.606                 0.000065         0.162            5.351   \n",
       "1127           0.181                 0.000007         0.095            2.245   \n",
       "...              ...                      ...           ...              ...   \n",
       "862            3.322                 0.000266         1.813           10.730   \n",
       "1122           0.422                 0.000024         0.235            8.788   \n",
       "468            1.046                 0.000058         0.562           10.224   \n",
       "422            2.140                 0.000158         0.828            7.529   \n",
       "1080           0.612                 0.000029         0.362            6.393   \n",
       "\n",
       "      Shimmer (apq5)     HTN  Mean pitch  Minimum pitch  Maximum pitch  \n",
       "855           11.787   3.076     161.857        142.273        182.871  \n",
       "1186           2.606  18.664     184.765        178.577        192.580  \n",
       "548            3.654  16.849     135.975        122.999        143.743  \n",
       "1047           3.295  15.913      92.935         80.332         98.876  \n",
       "1127           1.569  26.864     243.320        229.429        255.224  \n",
       "...              ...     ...         ...            ...            ...  \n",
       "862            4.321  10.664     124.813        114.426        135.935  \n",
       "1122           5.359  17.566     174.153        171.475        177.129  \n",
       "468            6.203  11.706     181.084         96.543        203.661  \n",
       "422            3.592  12.595     135.570        117.852        146.737  \n",
       "1080           4.180  20.667     212.321        108.060        246.582  \n",
       "\n",
       "[724 rows x 9 columns]"
      ]
     },
     "execution_count": 12,
     "metadata": {},
     "output_type": "execute_result"
    }
   ],
   "source": [
    "X_train"
   ]
  },
  {
   "cell_type": "code",
   "execution_count": 13,
   "id": "26e17b3c",
   "metadata": {
    "colab": {
     "base_uri": "https://localhost:8080/"
    },
    "id": "26e17b3c",
    "outputId": "39432077-d951-45e4-a085-410fb3770dc9"
   },
   "outputs": [
    {
     "name": "stdout",
     "output_type": "stream",
     "text": [
      "Original class information 1 Values    : 688 (56.95%)\n",
      "Original class information 0 Values   : 520 (43.05%)\n",
      "\n",
      "Training class information 1 Values    : 412 (56.91%)\n",
      "Training class information 0 Values   : 312 (43.09%)\n",
      "\n",
      "Test class information 1 Values        : 276 (57.02%)\n",
      "Test class information 0 Values       : 208 (42.98%)\n"
     ]
    }
   ],
   "source": [
    "# Check the stratification of the data\n",
    "print(\"Original class information 1 Values    : {0} ({1:0.2f}%)\".format(len(data.loc[data['class information'] == 1]), (len(data.loc[data['class information'] == 1])/len(data.index)) * 100))\n",
    "print(\"Original class information 0 Values   : {0} ({1:0.2f}%)\".format(len(data.loc[data['class information'] == 0]), (len(data.loc[data['class information'] == 0])/len(data.index)) * 100))\n",
    "print(\"\")\n",
    "print(\"Training class information 1 Values    : {0} ({1:0.2f}%)\".format(len(y_train[y_train[:] == 1]), (len(y_train[y_train[:] == 1])/len(y_train)) * 100))\n",
    "print(\"Training class information 0 Values   : {0} ({1:0.2f}%)\".format(len(y_train[y_train[:] == 0]), (len(y_train[y_train[:] == 0])/len(y_train)) * 100))\n",
    "print(\"\")\n",
    "print(\"Test class information 1 Values        : {0} ({1:0.2f}%)\".format(len(y_test[y_test[:] == 1]), (len(y_test[y_test[:] == 1])/len(y_test)) * 100))\n",
    "print(\"Test class information 0 Values       : {0} ({1:0.2f}%)\".format(len(y_test[y_test[:] == 0]), (len(y_test[y_test[:] == 0])/len(y_test)) * 100))"
   ]
  },
  {
   "cell_type": "code",
   "execution_count": 14,
   "id": "9c72c79e",
   "metadata": {
    "id": "9c72c79e"
   },
   "outputs": [],
   "source": [
    "# Save the columns names as StandardScaler will strip them\n",
    "X_cols = X_train.columns\n",
    "\n",
    "# Initialize our Standard Scalar\n",
    "ss = StandardScaler()\n",
    "\n",
    "X_train = ss.fit_transform(X_train) # Fit scalar to training data and transform\n",
    "X_test = ss.transform(X_test) # ONLY apply the transform to the test data"
   ]
  },
  {
   "cell_type": "code",
   "execution_count": 15,
   "id": "92ec6601",
   "metadata": {
    "id": "92ec6601"
   },
   "outputs": [],
   "source": [
    "# convert them into tensorflow tensors\n",
    "X_train = tf.convert_to_tensor(X_train)\n",
    "y_train = tf.convert_to_tensor(y_train)\n",
    "X_test = tf.convert_to_tensor(X_test)\n",
    "y_test = tf.convert_to_tensor(y_test)"
   ]
  },
  {
   "cell_type": "code",
   "execution_count": 16,
   "id": "70a4f028",
   "metadata": {
    "id": "70a4f028"
   },
   "outputs": [],
   "source": [
    "##  Function to calculate different metric scores of the model - Accuracy, Recall and Precision\n",
    "def get_metrics_score(model,train,test,train_y,test_y,flag=True,threshold=0.5):\n",
    "    '''\n",
    "    model : classifier to predict values of X\n",
    "\n",
    "    '''\n",
    "    # defining an empty list to store train and test results\n",
    "    \n",
    "    score_list=[] \n",
    "    \n",
    "    # Getting predictions from the model. These will come in the form of probabilities\n",
    "    \n",
    "    pred_train = model.predict(train)\n",
    "    pred_test = model.predict(test)\n",
    "    \n",
    "    # We will need to convert the probabilities into classes using a threshold, default is 0.5\n",
    "    \n",
    "    for i in range(len(train_y)):\n",
    "        if pred_train[i]>threshold:\n",
    "            pred_train[i]=1 \n",
    "        else:\n",
    "            pred_train[i]=0\n",
    "    \n",
    "    for i in range(len(test_y)):\n",
    "        if pred_test[i]>threshold:\n",
    "            pred_test[i]=1 \n",
    "        else:\n",
    "            pred_test[i]=0\n",
    "        \n",
    "    # Now we can calculate metircs\n",
    "    \n",
    "    train_acc = accuracy_score(pred_train,train_y)\n",
    "    test_acc = accuracy_score(pred_test,test_y)\n",
    "    train_recall = recall_score(train_y,pred_train)\n",
    "    test_recall = recall_score(test_y,pred_test)\n",
    "    \n",
    "    train_precision = precision_score(train_y,pred_train)\n",
    "    test_precision = precision_score(test_y,pred_test)\n",
    "    \n",
    "    train_f1 = f1_score(train_y,pred_train)\n",
    "    test_f1 = f1_score(test_y,pred_test)\n",
    "    \n",
    "    \n",
    "    score_list.extend((train_acc,test_acc,train_recall,test_recall,train_precision,test_precision,train_f1,test_f1))\n",
    "        \n",
    "     # If the flag is set to True then only the following print statements will be dispayed. The default value is set to True.\n",
    "    if flag == True: \n",
    "        print(\"Accuracy on training set : \",accuracy_score(pred_train,train_y))\n",
    "        print(\"Accuracy on test set : \",accuracy_score(pred_test,test_y))\n",
    "        print(\"Recall on training set : \",recall_score(train_y,pred_train))\n",
    "        print(\"Recall on test set : \",recall_score(test_y,pred_test))\n",
    "        print(\"Precision on training set : \",precision_score(train_y,pred_train))\n",
    "        print(\"Precision on test set : \",precision_score(test_y,pred_test))\n",
    "        print(\"F1 on training set : \",f1_score(train_y,pred_train))\n",
    "        print(\"F1 on test set : \",f1_score(test_y,pred_test))\n",
    "    \n",
    "    #return score_list # returning the list with train and test scores"
   ]
  },
  {
   "cell_type": "code",
   "execution_count": 17,
   "id": "16e34d39",
   "metadata": {
    "id": "16e34d39"
   },
   "outputs": [],
   "source": [
    "## This function is exactly the same as the last, only it will NOT use the test data\n",
    "## There will be many times that we want to look at training metrics without looking at test metrics \n",
    "## This is to avoid tuning the model on the test data\n",
    "\n",
    "##  Function to calculate different metric scores of the model - Accuracy, Recall and Precision\n",
    "def get_training_metrics(model,train,train_y,flag=True,threshold=0.5):\n",
    "    '''\n",
    "    model : classifier to predict values of X\n",
    "\n",
    "    '''\n",
    "    # defining an empty list to store train and test results\n",
    "    \n",
    "    score_list=[] \n",
    "    \n",
    "    # Getting predictions from the model. These will come in the form of probabilities\n",
    "    \n",
    "    pred_train = model.predict(train)\n",
    "    \n",
    "    # We will need to convert the probabilities into classes using a threshold, default is 0.5\n",
    "    \n",
    "    for i in range(len(train_y)):\n",
    "        if pred_train[i]>threshold:\n",
    "            pred_train[i]=1 \n",
    "        else:\n",
    "            pred_train[i]=0\n",
    "          \n",
    "    # Now we can calculate metircs\n",
    "    \n",
    "    train_acc = accuracy_score(pred_train,train_y)\n",
    "    train_recall = recall_score(train_y,pred_train)\n",
    "    train_precision = precision_score(train_y,pred_train)\n",
    "    train_f1 = f1_score(train_y,pred_train)\n",
    "   \n",
    "    score_list.extend((train_acc,train_recall,train_precision,train_f1))\n",
    "        \n",
    "     # If the flag is set to True then only the following print statements will be dispayed. The default value is set to True.\n",
    "    if flag == True: \n",
    "        print(\"Accuracy on training set : \",accuracy_score(pred_train,train_y))\n",
    "        print(\"Recall on training set : \",recall_score(train_y,pred_train))\n",
    "        print(\"Precision on training set : \",precision_score(train_y,pred_train))\n",
    "        print(\"F1 on training set : \",f1_score(train_y,pred_train))"
   ]
  },
  {
   "cell_type": "code",
   "execution_count": 18,
   "id": "cbda2a5a",
   "metadata": {
    "id": "cbda2a5a"
   },
   "outputs": [],
   "source": [
    "def make_confusion_matrix(model,test_X,y_actual,labels=[1, 0],threshold=0.5):\n",
    "    '''\n",
    "    model : classifier to predict values of X\n",
    "    y_actual : ground truth\n",
    "    threshold : value used to convert probabilites to classes. Range = 0-1\n",
    "    \n",
    "    '''\n",
    "    # Our model will output probabilities we will convert these to classes using a threshold (dafault is 0.5)\n",
    "    y_predict = model.predict(test_X)\n",
    "    \n",
    "    for i in range(len(y_actual)):\n",
    "        if y_predict[i]>threshold:\n",
    "            y_predict[i]=1 \n",
    "        else:\n",
    "            y_predict[i]=0\n",
    "    \n",
    "    # We can now plot the confusion matrix    \n",
    "    cm=metrics.confusion_matrix( y_actual, y_predict, labels=[0, 1])\n",
    "    df_cm = pd.DataFrame(cm, index = [i for i in [\"Actual - No\",\"Actual - Yes\"]],\n",
    "                  columns = [i for i in ['Predicted - No','Predicted - Yes']])\n",
    "    group_counts = [\"{0:0.0f}\".format(value) for value in\n",
    "                cm.flatten()]\n",
    "    group_percentages = [\"{0:.2%}\".format(value) for value in\n",
    "                         cm.flatten()/np.sum(cm)]\n",
    "    labels = [f\"{v1}\\n{v2}\" for v1, v2 in\n",
    "              zip(group_counts,group_percentages)]\n",
    "    labels = np.asarray(labels).reshape(2,2)\n",
    "    plt.figure(figsize = (10,7))\n",
    "    sns.heatmap(df_cm, annot=labels,fmt='')\n",
    "    plt.ylabel('True label')\n",
    "    plt.xlabel('Predicted label')"
   ]
  },
  {
   "cell_type": "code",
   "execution_count": 19,
   "id": "1d4b0330",
   "metadata": {
    "id": "1d4b0330"
   },
   "outputs": [],
   "source": [
    "def make_ROC(model):\n",
    "    # Calculate the False Postive Rate, True Positive Rate, ROC curve and area under ROC curve\n",
    "    y_probs = model.predict(X_test)\n",
    "    fpr, tpr, thresholds = metrics.roc_curve(y_test, y_probs)\n",
    "    roc_auc = metrics.auc(fpr, tpr)\n",
    "\n",
    "    # Now plot the information calculated above\n",
    "    plt.figure(figsize=(7,5))\n",
    "    plt.plot(fpr, tpr, label='Logistic Regression (area = %0.2f)' % roc_auc)\n",
    "    plt.plot([0, 1], [0, 1],'r--')\n",
    "    plt.xlim([0.0, 1.0])\n",
    "    plt.ylim([0.0, 1.05])\n",
    "    plt.xlabel('False Positive Rate')\n",
    "    plt.ylabel('True Positive Rate')\n",
    "    plt.title('Receiver operating characteristic')\n",
    "    plt.legend(loc=\"lower right\")\n",
    "    plt.show()\n",
    "\n",
    "    # Now print the optimal threshold\n",
    "    # The optimal cut off would be where tpr is high and fpr is low\n",
    "    optimal_idx = np.argmax(tpr - fpr)\n",
    "    optimal_threshold = thresholds[optimal_idx]\n",
    "    print('The optimal threshold is:', optimal_threshold)"
   ]
  },
  {
   "cell_type": "code",
   "execution_count": 20,
   "id": "9bdbcc96",
   "metadata": {
    "id": "9bdbcc96"
   },
   "outputs": [],
   "source": [
    "# This function returns the optimum output from the ROC curve given a model.\n",
    "def get_optimal(model):\n",
    "    y_probs = model.predict(X_test)\n",
    "    fpr, tpr, thresholds = metrics.roc_curve(y_test, y_probs)\n",
    "    roc_auc = metrics.auc(fpr, tpr)\n",
    "    optimal_idx = np.argmax(tpr - fpr)\n",
    "    optimal_threshold = thresholds[optimal_idx]\n",
    "    return optimal_threshold"
   ]
  },
  {
   "cell_type": "code",
   "execution_count": 21,
   "id": "c591be70",
   "metadata": {
    "id": "c591be70"
   },
   "outputs": [],
   "source": [
    "#This function will plot the training and validation loss vs. training epoch\n",
    "def get_history_plot(n):\n",
    "    N = n\n",
    "    plt.figure(figsize=(8,6))\n",
    "    plt.plot(np.arange(0, N), history.history[\"loss\"], label=\"train_loss\")\n",
    "    plt.plot(np.arange(0, N), history.history[\"val_loss\"], label=\"val_loss\")\n",
    "    plt.title(\"Training Loss and Validation loss on the dataset\")\n",
    "    plt.xlabel(\"Epoch #\")\n",
    "    plt.ylabel(\"train_Loss/val_loss\")\n",
    "    plt.legend()\n",
    "    plt.show()"
   ]
  },
  {
   "cell_type": "code",
   "execution_count": 22,
   "id": "2cb5ca5a",
   "metadata": {
    "id": "2cb5ca5a"
   },
   "outputs": [],
   "source": [
    "n_qubits = 4\n",
    "dev = qml.device(\"default.qubit\", wires=n_qubits)\n",
    "\n",
    "@qml.qnode(dev)\n",
    "def qnode(inputs, weights):\n",
    "    qml.AngleEmbedding(inputs, wires=range(n_qubits))\n",
    "    qml.BasicEntanglerLayers(weights, wires=range(n_qubits))\n",
    "    return [qml.expval(qml.PauliZ(wires=i)) for i in range(n_qubits)]"
   ]
  },
  {
   "cell_type": "code",
   "execution_count": 23,
   "id": "678f7315",
   "metadata": {
    "id": "678f7315"
   },
   "outputs": [],
   "source": [
    "n_layers = 6\n",
    "weight_shapes = {\"weights\": (n_layers, n_qubits)}"
   ]
  },
  {
   "cell_type": "code",
   "execution_count": 24,
   "id": "eab3c70c",
   "metadata": {
    "id": "eab3c70c"
   },
   "outputs": [],
   "source": [
    "qlayer = qml.qnn.KerasLayer(qnode, weight_shapes, output_dim=n_qubits)"
   ]
  },
  {
   "cell_type": "code",
   "execution_count": 25,
   "id": "f2c92cfe",
   "metadata": {
    "id": "f2c92cfe"
   },
   "outputs": [],
   "source": [
    "# ===================================================================================\n",
    "#                                Classical Layers\n",
    "# ===================================================================================\n",
    "# Define classical layers using Keras Sequential\n",
    "\n",
    "keras.backend.set_floatx('float32')\n",
    "\n",
    "clayer_1 = tf.keras.layers.Dense(4)\n",
    "clayer_2 = layers.Dense(45, activation =\"elu\")\n",
    "clayer_3 = layers.Dense(15, activation = \"elu\")\n",
    "clayer_4 = layers.Dense(1, activation =\"sigmoid\")\n",
    "model = tf.keras.models.Sequential([ clayer_1, qlayer, clayer_2, clayer_1, qlayer,  qlayer, clayer_3, clayer_1, qlayer,clayer_4])\n",
    "\n",
    " "
   ]
  },
  {
   "cell_type": "code",
   "execution_count": 26,
   "id": "1209b402",
   "metadata": {
    "colab": {
     "base_uri": "https://localhost:8080/"
    },
    "id": "1209b402",
    "outputId": "2544744a-4344-449a-d813-c1c13c0d0a6f"
   },
   "outputs": [
    {
     "name": "stdout",
     "output_type": "stream",
     "text": [
      "The current local time is : Wed Apr  6 17:39:31 2022\n",
      "Epoch 1/100\n",
      "23/23 [==============================] - 236s 10s/step - loss: 0.2506 - accuracy: 0.5276 - val_loss: 0.2457 - val_accuracy: 0.5640\n",
      "Epoch 2/100\n",
      "23/23 [==============================] - 184s 8s/step - loss: 0.2444 - accuracy: 0.5663 - val_loss: 0.2447 - val_accuracy: 0.5744\n",
      "Epoch 3/100\n",
      "23/23 [==============================] - 217s 10s/step - loss: 0.2424 - accuracy: 0.5760 - val_loss: 0.2441 - val_accuracy: 0.5661\n",
      "Epoch 4/100\n",
      "23/23 [==============================] - 215s 10s/step - loss: 0.2411 - accuracy: 0.5718 - val_loss: 0.2431 - val_accuracy: 0.5723\n",
      "Epoch 5/100\n",
      "23/23 [==============================] - 182s 8s/step - loss: 0.2393 - accuracy: 0.5773 - val_loss: 0.2418 - val_accuracy: 0.5682\n",
      "Epoch 6/100\n",
      "23/23 [==============================] - 181s 8s/step - loss: 0.2382 - accuracy: 0.5691 - val_loss: 0.2404 - val_accuracy: 0.5702\n",
      "Epoch 7/100\n",
      "23/23 [==============================] - 214s 9s/step - loss: 0.2371 - accuracy: 0.5760 - val_loss: 0.2404 - val_accuracy: 0.5682\n",
      "Epoch 8/100\n",
      "23/23 [==============================] - 215s 9s/step - loss: 0.2357 - accuracy: 0.5856 - val_loss: 0.2393 - val_accuracy: 0.5764\n",
      "Epoch 9/100\n",
      "23/23 [==============================] - 213s 9s/step - loss: 0.2355 - accuracy: 0.5870 - val_loss: 0.2389 - val_accuracy: 0.5909\n",
      "Epoch 10/100\n",
      "23/23 [==============================] - 179s 8s/step - loss: 0.2345 - accuracy: 0.5773 - val_loss: 0.2384 - val_accuracy: 0.5785\n",
      "Epoch 11/100\n",
      "23/23 [==============================] - 179s 8s/step - loss: 0.2325 - accuracy: 0.5953 - val_loss: 0.2383 - val_accuracy: 0.5744\n",
      "Epoch 12/100\n",
      "23/23 [==============================] - 178s 8s/step - loss: 0.2323 - accuracy: 0.5843 - val_loss: 0.2378 - val_accuracy: 0.5764\n",
      "Epoch 13/100\n",
      "23/23 [==============================] - 212s 9s/step - loss: 0.2311 - accuracy: 0.5994 - val_loss: 0.2377 - val_accuracy: 0.5620\n",
      "Epoch 14/100\n",
      "23/23 [==============================] - 212s 9s/step - loss: 0.2300 - accuracy: 0.5912 - val_loss: 0.2379 - val_accuracy: 0.5723\n",
      "Epoch 15/100\n",
      "23/23 [==============================] - 178s 8s/step - loss: 0.2285 - accuracy: 0.5981 - val_loss: 0.2374 - val_accuracy: 0.5702\n",
      "Epoch 16/100\n",
      "23/23 [==============================] - 178s 8s/step - loss: 0.2280 - accuracy: 0.6064 - val_loss: 0.2375 - val_accuracy: 0.5620\n",
      "Epoch 17/100\n",
      "23/23 [==============================] - 212s 9s/step - loss: 0.2265 - accuracy: 0.6008 - val_loss: 0.2380 - val_accuracy: 0.5620\n",
      "Epoch 18/100\n",
      "23/23 [==============================] - 177s 8s/step - loss: 0.2257 - accuracy: 0.6119 - val_loss: 0.2377 - val_accuracy: 0.5661\n",
      "Epoch 19/100\n",
      "23/23 [==============================] - 211s 9s/step - loss: 0.2250 - accuracy: 0.6077 - val_loss: 0.2382 - val_accuracy: 0.5620\n",
      "Epoch 20/100\n",
      "23/23 [==============================] - 212s 9s/step - loss: 0.2240 - accuracy: 0.6174 - val_loss: 0.2379 - val_accuracy: 0.5826\n",
      "Epoch 21/100\n",
      "23/23 [==============================] - 212s 9s/step - loss: 0.2231 - accuracy: 0.6285 - val_loss: 0.2387 - val_accuracy: 0.5640\n",
      "Epoch 22/100\n",
      "23/23 [==============================] - 213s 9s/step - loss: 0.2217 - accuracy: 0.6381 - val_loss: 0.2383 - val_accuracy: 0.5785\n",
      "Epoch 23/100\n",
      "23/23 [==============================] - 179s 8s/step - loss: 0.2206 - accuracy: 0.6409 - val_loss: 0.2379 - val_accuracy: 0.5826\n",
      "Epoch 24/100\n",
      "23/23 [==============================] - 212s 9s/step - loss: 0.2197 - accuracy: 0.6409 - val_loss: 0.2385 - val_accuracy: 0.5909\n",
      "Epoch 25/100\n",
      "23/23 [==============================] - 177s 8s/step - loss: 0.2205 - accuracy: 0.6423 - val_loss: 0.2380 - val_accuracy: 0.5785\n",
      "Epoch 26/100\n",
      "23/23 [==============================] - 195s 9s/step - loss: 0.2189 - accuracy: 0.6367 - val_loss: 0.2391 - val_accuracy: 0.5847\n",
      "Epoch 27/100\n",
      "23/23 [==============================] - 184s 8s/step - loss: 0.2181 - accuracy: 0.6423 - val_loss: 0.2387 - val_accuracy: 0.5868\n",
      "Epoch 28/100\n",
      "23/23 [==============================] - 216s 10s/step - loss: 0.2172 - accuracy: 0.6326 - val_loss: 0.2381 - val_accuracy: 0.5785\n",
      "Epoch 29/100\n",
      "23/23 [==============================] - 179s 8s/step - loss: 0.2174 - accuracy: 0.6257 - val_loss: 0.2378 - val_accuracy: 0.5826\n",
      "Epoch 30/100\n",
      "23/23 [==============================] - 214s 9s/step - loss: 0.2163 - accuracy: 0.6340 - val_loss: 0.2372 - val_accuracy: 0.5806\n",
      "Epoch 31/100\n",
      "23/23 [==============================] - 214s 9s/step - loss: 0.2157 - accuracy: 0.6395 - val_loss: 0.2366 - val_accuracy: 0.5744\n",
      "Epoch 32/100\n",
      "23/23 [==============================] - 214s 9s/step - loss: 0.2153 - accuracy: 0.6381 - val_loss: 0.2374 - val_accuracy: 0.5826\n",
      "Epoch 33/100\n",
      "23/23 [==============================] - 213s 9s/step - loss: 0.2154 - accuracy: 0.6312 - val_loss: 0.2374 - val_accuracy: 0.5888\n",
      "Epoch 34/100\n",
      "23/23 [==============================] - 213s 9s/step - loss: 0.2143 - accuracy: 0.6367 - val_loss: 0.2364 - val_accuracy: 0.5826\n",
      "Epoch 35/100\n",
      "23/23 [==============================] - 177s 8s/step - loss: 0.2148 - accuracy: 0.6478 - val_loss: 0.2354 - val_accuracy: 0.5826\n",
      "Epoch 36/100\n",
      "23/23 [==============================] - 176s 8s/step - loss: 0.2134 - accuracy: 0.6436 - val_loss: 0.2360 - val_accuracy: 0.5806\n",
      "Epoch 37/100\n",
      "23/23 [==============================] - 176s 8s/step - loss: 0.2127 - accuracy: 0.6478 - val_loss: 0.2352 - val_accuracy: 0.5888\n",
      "Epoch 38/100\n",
      "23/23 [==============================] - 176s 8s/step - loss: 0.2125 - accuracy: 0.6519 - val_loss: 0.2349 - val_accuracy: 0.5806\n",
      "Epoch 39/100\n",
      "23/23 [==============================] - 176s 8s/step - loss: 0.2122 - accuracy: 0.6464 - val_loss: 0.2355 - val_accuracy: 0.5868\n",
      "Epoch 40/100\n",
      "23/23 [==============================] - 176s 8s/step - loss: 0.2120 - accuracy: 0.6575 - val_loss: 0.2345 - val_accuracy: 0.5971\n",
      "Epoch 41/100\n",
      "23/23 [==============================] - 176s 8s/step - loss: 0.2109 - accuracy: 0.6464 - val_loss: 0.2351 - val_accuracy: 0.5826\n",
      "Epoch 42/100\n",
      "23/23 [==============================] - 214s 9s/step - loss: 0.2108 - accuracy: 0.6547 - val_loss: 0.2339 - val_accuracy: 0.5888\n",
      "Epoch 43/100\n",
      "23/23 [==============================] - 213s 9s/step - loss: 0.2103 - accuracy: 0.6450 - val_loss: 0.2341 - val_accuracy: 0.5950\n",
      "Epoch 44/100\n",
      "23/23 [==============================] - 178s 8s/step - loss: 0.2101 - accuracy: 0.6506 - val_loss: 0.2352 - val_accuracy: 0.5930\n",
      "Epoch 45/100\n",
      "23/23 [==============================] - 215s 10s/step - loss: 0.2096 - accuracy: 0.6492 - val_loss: 0.2341 - val_accuracy: 0.5992\n",
      "Epoch 46/100\n",
      "23/23 [==============================] - 214s 9s/step - loss: 0.2099 - accuracy: 0.6533 - val_loss: 0.2332 - val_accuracy: 0.5971\n",
      "Epoch 47/100\n",
      "23/23 [==============================] - 214s 9s/step - loss: 0.2090 - accuracy: 0.6533 - val_loss: 0.2333 - val_accuracy: 0.5971\n",
      "Epoch 48/100\n",
      "23/23 [==============================] - 180s 8s/step - loss: 0.2085 - accuracy: 0.6561 - val_loss: 0.2342 - val_accuracy: 0.5992\n",
      "Epoch 49/100\n",
      "23/23 [==============================] - 214s 9s/step - loss: 0.2082 - accuracy: 0.6602 - val_loss: 0.2343 - val_accuracy: 0.5909\n",
      "Epoch 50/100\n",
      "23/23 [==============================] - 214s 9s/step - loss: 0.2081 - accuracy: 0.6575 - val_loss: 0.2323 - val_accuracy: 0.5950\n",
      "Epoch 51/100\n",
      "23/23 [==============================] - 180s 8s/step - loss: 0.2071 - accuracy: 0.6588 - val_loss: 0.2343 - val_accuracy: 0.5930\n",
      "Epoch 52/100\n",
      "23/23 [==============================] - 216s 10s/step - loss: 0.2072 - accuracy: 0.6547 - val_loss: 0.2335 - val_accuracy: 0.5971\n",
      "Epoch 53/100\n",
      "23/23 [==============================] - 214s 9s/step - loss: 0.2068 - accuracy: 0.6644 - val_loss: 0.2350 - val_accuracy: 0.5992\n",
      "Epoch 54/100\n",
      "23/23 [==============================] - 213s 9s/step - loss: 0.2066 - accuracy: 0.6616 - val_loss: 0.2356 - val_accuracy: 0.6033\n",
      "Epoch 55/100\n",
      "23/23 [==============================] - 215s 10s/step - loss: 0.2058 - accuracy: 0.6547 - val_loss: 0.2339 - val_accuracy: 0.6033\n",
      "Epoch 56/100\n",
      "23/23 [==============================] - 214s 9s/step - loss: 0.2059 - accuracy: 0.6602 - val_loss: 0.2345 - val_accuracy: 0.6054\n",
      "Epoch 57/100\n",
      "23/23 [==============================] - 180s 8s/step - loss: 0.2055 - accuracy: 0.6575 - val_loss: 0.2337 - val_accuracy: 0.5971\n",
      "Epoch 58/100\n",
      "23/23 [==============================] - 214s 9s/step - loss: 0.2049 - accuracy: 0.6630 - val_loss: 0.2342 - val_accuracy: 0.6033\n",
      "Epoch 59/100\n",
      "23/23 [==============================] - 179s 8s/step - loss: 0.2046 - accuracy: 0.6616 - val_loss: 0.2353 - val_accuracy: 0.6012\n",
      "Epoch 60/100\n",
      "23/23 [==============================] - 214s 9s/step - loss: 0.2045 - accuracy: 0.6630 - val_loss: 0.2348 - val_accuracy: 0.5992\n",
      "Epoch 61/100\n",
      "23/23 [==============================] - 181s 8s/step - loss: 0.2038 - accuracy: 0.6657 - val_loss: 0.2339 - val_accuracy: 0.6012\n",
      "Epoch 62/100\n",
      "23/23 [==============================] - 216s 10s/step - loss: 0.2036 - accuracy: 0.6671 - val_loss: 0.2359 - val_accuracy: 0.5971\n",
      "Epoch 63/100\n",
      "23/23 [==============================] - 181s 8s/step - loss: 0.2038 - accuracy: 0.6561 - val_loss: 0.2367 - val_accuracy: 0.6033\n",
      "Epoch 64/100\n",
      "23/23 [==============================] - 180s 8s/step - loss: 0.2029 - accuracy: 0.6685 - val_loss: 0.2356 - val_accuracy: 0.6054\n",
      "Epoch 65/100\n",
      "23/23 [==============================] - 214s 9s/step - loss: 0.2037 - accuracy: 0.6713 - val_loss: 0.2355 - val_accuracy: 0.6033\n",
      "Epoch 66/100\n",
      "23/23 [==============================] - 223s 10s/step - loss: 0.2031 - accuracy: 0.6671 - val_loss: 0.2361 - val_accuracy: 0.6033\n",
      "Epoch 67/100\n",
      "23/23 [==============================] - 219s 10s/step - loss: 0.2024 - accuracy: 0.6727 - val_loss: 0.2346 - val_accuracy: 0.6116\n",
      "Epoch 68/100\n",
      "23/23 [==============================] - 183s 8s/step - loss: 0.2026 - accuracy: 0.6671 - val_loss: 0.2351 - val_accuracy: 0.6054\n",
      "Epoch 69/100\n",
      "23/23 [==============================] - 183s 8s/step - loss: 0.2019 - accuracy: 0.6699 - val_loss: 0.2353 - val_accuracy: 0.6074\n",
      "Epoch 70/100\n",
      "23/23 [==============================] - 183s 8s/step - loss: 0.2014 - accuracy: 0.6823 - val_loss: 0.2367 - val_accuracy: 0.6074\n",
      "Epoch 71/100\n",
      "23/23 [==============================] - 216s 10s/step - loss: 0.2017 - accuracy: 0.6782 - val_loss: 0.2357 - val_accuracy: 0.6095\n",
      "Epoch 72/100\n",
      "23/23 [==============================] - 183s 8s/step - loss: 0.2010 - accuracy: 0.6865 - val_loss: 0.2359 - val_accuracy: 0.6095\n",
      "Epoch 73/100\n",
      "23/23 [==============================] - 217s 10s/step - loss: 0.2009 - accuracy: 0.6851 - val_loss: 0.2362 - val_accuracy: 0.6074\n",
      "Epoch 74/100\n",
      "23/23 [==============================] - 217s 10s/step - loss: 0.2003 - accuracy: 0.6837 - val_loss: 0.2363 - val_accuracy: 0.6054\n",
      "Epoch 75/100\n",
      "23/23 [==============================] - 188s 8s/step - loss: 0.2005 - accuracy: 0.6851 - val_loss: 0.2355 - val_accuracy: 0.6095\n",
      "Epoch 76/100\n",
      "23/23 [==============================] - 223s 10s/step - loss: 0.2004 - accuracy: 0.6837 - val_loss: 0.2345 - val_accuracy: 0.6157\n",
      "Epoch 77/100\n",
      "23/23 [==============================] - 225s 10s/step - loss: 0.1999 - accuracy: 0.6920 - val_loss: 0.2370 - val_accuracy: 0.6054\n",
      "Epoch 78/100\n",
      "23/23 [==============================] - 225s 10s/step - loss: 0.1999 - accuracy: 0.6782 - val_loss: 0.2342 - val_accuracy: 0.6198\n",
      "Epoch 79/100\n",
      "23/23 [==============================] - 223s 10s/step - loss: 0.1996 - accuracy: 0.6851 - val_loss: 0.2359 - val_accuracy: 0.6198\n",
      "Epoch 80/100\n",
      "23/23 [==============================] - 190s 8s/step - loss: 0.1994 - accuracy: 0.6920 - val_loss: 0.2363 - val_accuracy: 0.6012\n",
      "Epoch 81/100\n",
      "23/23 [==============================] - 187s 8s/step - loss: 0.1984 - accuracy: 0.6934 - val_loss: 0.2356 - val_accuracy: 0.6136\n",
      "Epoch 82/100\n",
      "23/23 [==============================] - 186s 8s/step - loss: 0.1984 - accuracy: 0.6906 - val_loss: 0.2357 - val_accuracy: 0.6157\n",
      "Epoch 83/100\n",
      "23/23 [==============================] - 187s 8s/step - loss: 0.1981 - accuracy: 0.6948 - val_loss: 0.2347 - val_accuracy: 0.6157\n",
      "Epoch 84/100\n",
      "23/23 [==============================] - 190s 8s/step - loss: 0.1986 - accuracy: 0.6851 - val_loss: 0.2339 - val_accuracy: 0.6136\n",
      "Epoch 85/100\n",
      "23/23 [==============================] - 220s 10s/step - loss: 0.1979 - accuracy: 0.6892 - val_loss: 0.2355 - val_accuracy: 0.6116\n",
      "Epoch 86/100\n",
      "23/23 [==============================] - 224s 10s/step - loss: 0.1979 - accuracy: 0.6920 - val_loss: 0.2358 - val_accuracy: 0.6095\n",
      "Epoch 87/100\n",
      "23/23 [==============================] - 189s 8s/step - loss: 0.1979 - accuracy: 0.6934 - val_loss: 0.2365 - val_accuracy: 0.6116\n",
      "Epoch 88/100\n",
      "23/23 [==============================] - 188s 8s/step - loss: 0.1972 - accuracy: 0.6975 - val_loss: 0.2357 - val_accuracy: 0.6074\n",
      "Epoch 89/100\n",
      "23/23 [==============================] - 223s 10s/step - loss: 0.1977 - accuracy: 0.6948 - val_loss: 0.2340 - val_accuracy: 0.6157\n",
      "Epoch 90/100\n",
      "23/23 [==============================] - 192s 8s/step - loss: 0.1971 - accuracy: 0.6920 - val_loss: 0.2344 - val_accuracy: 0.6116\n",
      "Epoch 91/100\n",
      "23/23 [==============================] - 190s 8s/step - loss: 0.1968 - accuracy: 0.6948 - val_loss: 0.2345 - val_accuracy: 0.6116\n",
      "Epoch 92/100\n",
      "23/23 [==============================] - 189s 8s/step - loss: 0.1963 - accuracy: 0.6961 - val_loss: 0.2337 - val_accuracy: 0.6178\n",
      "Epoch 93/100\n",
      "23/23 [==============================] - 192s 8s/step - loss: 0.1961 - accuracy: 0.6934 - val_loss: 0.2333 - val_accuracy: 0.6198\n",
      "Epoch 94/100\n",
      "23/23 [==============================] - 221s 10s/step - loss: 0.1966 - accuracy: 0.6975 - val_loss: 0.2332 - val_accuracy: 0.6219\n",
      "Epoch 95/100\n",
      "23/23 [==============================] - 223s 10s/step - loss: 0.1968 - accuracy: 0.6948 - val_loss: 0.2351 - val_accuracy: 0.6074\n",
      "Epoch 96/100\n",
      "23/23 [==============================] - 221s 10s/step - loss: 0.1965 - accuracy: 0.6920 - val_loss: 0.2324 - val_accuracy: 0.6198\n",
      "Epoch 97/100\n",
      "23/23 [==============================] - 190s 8s/step - loss: 0.1958 - accuracy: 0.6892 - val_loss: 0.2345 - val_accuracy: 0.6116\n",
      "Epoch 98/100\n",
      "23/23 [==============================] - 228s 10s/step - loss: 0.1952 - accuracy: 0.6975 - val_loss: 0.2332 - val_accuracy: 0.6178\n",
      "Epoch 99/100\n",
      "23/23 [==============================] - 223s 10s/step - loss: 0.1946 - accuracy: 0.7017 - val_loss: 0.2333 - val_accuracy: 0.6136\n",
      "Epoch 100/100\n",
      "23/23 [==============================] - 223s 10s/step - loss: 0.1949 - accuracy: 0.6975 - val_loss: 0.2327 - val_accuracy: 0.6198\n",
      "The current local time is : Wed Apr  6 23:14:53 2022\n"
     ]
    }
   ],
   "source": [
    "# ===================================================================================\n",
    "#                                     Training\n",
    "# ===================================================================================\n",
    "\n",
    "opt = keras.optimizers.Adam(learning_rate=0.001)\n",
    "\n",
    "model.compile(opt, loss = 'MSE', metrics = ['accuracy'])\n",
    "print('The current local time is :', time.ctime())\n",
    "history = model.fit(X_train, \n",
    "                    y_train,\n",
    "                    epochs = 100,\n",
    "               #     batch_size = 190,\n",
    "                    shuffle = True,\n",
    "                    validation_data=(X_test, y_test))\n",
    "print('The current local time is :', time.ctime())"
   ]
  },
  {
   "cell_type": "code",
   "execution_count": 27,
   "id": "08a485cf",
   "metadata": {
    "colab": {
     "base_uri": "https://localhost:8080/",
     "height": 301
    },
    "id": "08a485cf",
    "outputId": "fdc38fbb-e286-4119-a281-5f17b33fada8"
   },
   "outputs": [
    {
     "data": {
      "image/png": "[encoded data removed]",
      "text/plain": [
       "<Figure size 432x288 with 1 Axes>"
      ]
     },
     "metadata": {},
     "output_type": "display_data"
    }
   ],
   "source": [
    "# ===================================================================================\n",
    "#                                  Loss History Plot\n",
    "# ===================================================================================\n",
    "\n",
    "plt.title('model loss')\n",
    "plt.plot(history.history['loss'], '-g', label = 'training loss')\n",
    "plt.plot(history.history['val_loss'], '-r', label = 'validation loss')\n",
    "plt.xlabel('epoch')\n",
    "plt.ylabel('loss')\n",
    "plt.legend(loc='upper right')\n",
    "plt.show()"
   ]
  },
  {
   "cell_type": "code",
   "execution_count": 28,
   "id": "8d2b929e",
   "metadata": {
    "colab": {
     "base_uri": "https://localhost:8080/",
     "height": 301
    },
    "id": "8d2b929e",
    "outputId": "3819595d-d8b1-4e5f-bc0a-bdabe2efd6ad",
    "scrolled": true
   },
   "outputs": [
    {
     "data": {
      "image/png": "[encoded data removed]",
      "text/plain": [
       "<Figure size 432x288 with 1 Axes>"
      ]
     },
     "metadata": {},
     "output_type": "display_data"
    }
   ],
   "source": [
    "# ===================================================================================\n",
    "#                                Accuracy History Plot\n",
    "# ===================================================================================\n",
    "\n",
    "plt.title('model accuracy')\n",
    "plt.plot(history.history['accuracy'], '-g', label = 'training accuracy')\n",
    "plt.plot(history.history['val_accuracy'], '-r', label = 'validation accuracy')\n",
    "plt.xlabel('epoch')\n",
    "plt.ylabel('accuracy')\n",
    "plt.legend(loc='lower right')\n",
    "plt.show()"
   ]
  },
  {
   "cell_type": "code",
   "execution_count": 29,
   "id": "3ac6f0e5",
   "metadata": {
    "colab": {
     "base_uri": "https://localhost:8080/"
    },
    "id": "3ac6f0e5",
    "outputId": "f554e0c8-feaa-423a-e4a9-30cf0e24b27a"
   },
   "outputs": [
    {
     "data": {
      "text/plain": [
       "<tf.Tensor: shape=(484, 9), dtype=float64, numpy=\n",
       "array([[-0.66535474, -0.39764589, -0.65241993, ..., -1.06934375,\n",
       "        -0.69938017, -0.94905962],\n",
       "       [ 0.19523081, -0.11857559,  0.28985596, ...,  0.5381892 ,\n",
       "         0.44928021, -0.04744508],\n",
       "       [-1.16778402, -1.26171729, -1.01057004, ...,  1.6957563 ,\n",
       "         2.38033195,  0.43280115],\n",
       "       ...,\n",
       "       [-0.87643118, -0.68474284, -1.0180315 , ..., -1.13346642,\n",
       "        -1.23574091, -0.92646379],\n",
       "       [ 0.65724119,  1.33617495,  0.64374238, ..., -0.93327309,\n",
       "        -0.88471216, -0.74819425],\n",
       "       [ 0.43606004, -0.10784939,  0.51369978, ...,  1.08626255,\n",
       "         0.77463887,  1.03952139]])>"
      ]
     },
     "execution_count": 29,
     "metadata": {},
     "output_type": "execute_result"
    }
   ],
   "source": [
    "X_test"
   ]
  },
  {
   "cell_type": "code",
   "execution_count": 30,
   "id": "4c4803d8",
   "metadata": {
    "id": "4c4803d8"
   },
   "outputs": [],
   "source": [
    "y_predict = model.predict(X_test)\n",
    "\n",
    "def preb(model,test_X,y_actual,labels=[1, 0],threshold=0.5):\n",
    "    for i in range(len(y_actual)):\n",
    "            if y_predict[i]>threshold:\n",
    "                y_predict[i]=1 \n",
    "            else:\n",
    "                y_predict[i]=0\n",
    "    return y_predict"
   ]
  },
  {
   "cell_type": "code",
   "execution_count": 31,
   "id": "ff718f04",
   "metadata": {
    "id": "ff718f04"
   },
   "outputs": [],
   "source": [
    "X_preb= preb(model,X_test,y_test,threshold=0.5)"
   ]
  },
  {
   "cell_type": "code",
   "execution_count": 33,
   "id": "a116ffeb",
   "metadata": {
    "colab": {
     "base_uri": "https://localhost:8080/",
     "height": 372
    },
    "id": "a116ffeb",
    "outputId": "5a3491ff-6531-479e-df8e-be151add90df"
   },
   "outputs": [
    {
     "data": {
      "image/png": "[encoded data removed]",
      "text/plain": [
       "<Figure size 504x360 with 1 Axes>"
      ]
     },
     "metadata": {},
     "output_type": "display_data"
    },
    {
     "name": "stdout",
     "output_type": "stream",
     "text": [
      "The optimal threshold is: 0.5421128\n"
     ]
    }
   ],
   "source": [
    "make_ROC(model)"
   ]
  },
  {
   "cell_type": "code",
   "execution_count": 34,
   "id": "6403f061",
   "metadata": {
    "colab": {
     "base_uri": "https://localhost:8080/",
     "height": 448
    },
    "id": "6403f061",
    "outputId": "5146d9ce-192b-4a66-e84a-7d2b3eb884c9"
   },
   "outputs": [
    {
     "data": {
      "image/png": "[encoded data removed]",
      "text/plain": [
       "<Figure size 720x504 with 2 Axes>"
      ]
     },
     "metadata": {},
     "output_type": "display_data"
    }
   ],
   "source": [
    "make_confusion_matrix(model,X_test,y_test,threshold=0.5)"
   ]
  },
  {
   "cell_type": "code",
   "execution_count": 35,
   "id": "aaf02b7d",
   "metadata": {
    "colab": {
     "base_uri": "https://localhost:8080/"
    },
    "id": "aaf02b7d",
    "outputId": "3d13a134-a4a1-46c9-ffe1-151153f985fb",
    "scrolled": true
   },
   "outputs": [
    {
     "name": "stdout",
     "output_type": "stream",
     "text": [
      "              precision    recall  f1-score   support\n",
      "\n",
      "           0       0.43      0.58      0.49       154\n",
      "           1       0.76      0.64      0.70       330\n",
      "\n",
      "    accuracy                           0.62       484\n",
      "   macro avg       0.60      0.61      0.59       484\n",
      "weighted avg       0.66      0.62      0.63       484\n",
      "\n"
     ]
    }
   ],
   "source": [
    "print(classification_report(X_preb, y_test, labels=[0, 1]))"
   ]
  },
  {
   "cell_type": "code",
   "execution_count": 36,
   "id": "ae294e14",
   "metadata": {
    "colab": {
     "base_uri": "https://localhost:8080/"
    },
    "id": "ae294e14",
    "outputId": "098d3b3e-e162-4da3-fcb0-c0d198e6d3c4"
   },
   "outputs": [
    {
     "name": "stdout",
     "output_type": "stream",
     "text": [
      "Accuracy on training set :  0.7099447513812155\n",
      "Accuracy on test set :  0.6198347107438017\n",
      "Recall on training set :  0.8470873786407767\n",
      "Recall on test set :  0.7644927536231884\n",
      "Precision on training set :  0.7036290322580645\n",
      "Precision on test set :  0.6393939393939394\n",
      "F1 on training set :  0.7687224669603525\n",
      "F1 on test set :  0.6963696369636965\n"
     ]
    }
   ],
   "source": [
    "get_metrics_score(model,X_train,X_test,y_train,y_test,threshold=0.5)"
   ]
  }
 ],
 "metadata": {
  "colab": {
   "name": "QNN4-Copy2 - Kopie (4).ipynb",
   "provenance": []
  },
  "kernelspec": {
   "display_name": "Python 3 (ipykernel)",
   "language": "python",
   "name": "python3"
  },
  "language_info": {
   "codemirror_mode": {
    "name": "ipython",
    "version": 3
   },
   "file_extension": ".py",
   "mimetype": "text/x-python",
   "name": "python",
   "nbconvert_exporter": "python",
   "pygments_lexer": "ipython3",
   "version": "3.9.7"
  }
 },
 "nbformat": 4,
 "nbformat_minor": 5
}
